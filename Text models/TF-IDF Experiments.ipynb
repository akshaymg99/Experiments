{
 "cells": [
  {
   "cell_type": "code",
   "execution_count": 1,
   "metadata": {},
   "outputs": [],
   "source": [
    "from sklearn.feature_extraction.text import TfidfVectorizer\n",
    "from sklearn.feature_extraction.text import TfidfTransformer\n",
    "from sklearn.feature_extraction.text import CountVectorizer\n",
    "import numpy as np\n",
    "import pandas as pd\n",
    "from numpy import dot\n",
    "from numpy.linalg import norm\n",
    "import json"
   ]
  },
  {
   "cell_type": "code",
   "execution_count": 7,
   "metadata": {},
   "outputs": [],
   "source": [
    "import string\n",
    "ascii = set(string.printable)   \n",
    "\n",
    "def remove_non_ascii(s):\n",
    "    st = ''\n",
    "    for x in s:\n",
    "        if x in ascii:\n",
    "            st += x\n",
    "    return st"
   ]
  },
  {
   "cell_type": "code",
   "execution_count": 8,
   "metadata": {},
   "outputs": [],
   "source": [
    "def clean(s):\n",
    "    s = s.strip()\n",
    "    s = s.strip(\",\")\n",
    "    s = s.strip(\"/\")\n",
    "    s = s.strip(\"\\\\\")\n",
    "    s = s.strip(\"---\")\n",
    "    s = s.strip()\n",
    "    s = remove_non_ascii(s)\n",
    "    return s"
   ]
  },
  {
   "cell_type": "code",
   "execution_count": 2,
   "metadata": {},
   "outputs": [
    {
     "name": "stderr",
     "output_type": "stream",
     "text": [
      "<ipython-input-2-b58cbde9ee4a>:5: FutureWarning: pandas.io.json.json_normalize is deprecated, use pandas.json_normalize instead\n",
      "  df = pd.io.json.json_normalize(data)\n"
     ]
    }
   ],
   "source": [
    "data = []\n",
    "for line in open('33318.json', 'r'):\n",
    "    data.append(json.loads(line))\n",
    "    \n",
    "df = pd.io.json.json_normalize(data)"
   ]
  },
  {
   "cell_type": "code",
   "execution_count": 3,
   "metadata": {},
   "outputs": [],
   "source": [
    "docs = {}\n",
    "\n",
    "for i in range(len(df)):\n",
    "    dp = {}\n",
    "    #dp['index'] = i\n",
    "    dp['seed'] = df['seed_name'][i]  ## query product title\n",
    "    \n",
    "    del_titles = []\n",
    "    active_titles = []\n",
    "    \n",
    "    s = len(df['detailed'][i])\n",
    "    for l in range(s):\n",
    "        if df['detailed'][i][l]['status'] == 'deleted':\n",
    "            del_titles.append(df['detailed'][i][l]['title'])   ## title of deleted prod\n",
    "            \n",
    "        if df['detailed'][i][l]['status'] == 'active':\n",
    "            active_titles.append(df['detailed'][i][l]['title'])  ## title of accepted prod\n",
    "    \n",
    "    dp['active_titles'] = active_titles\n",
    "    dp['deleted_titles'] = del_titles\n",
    "    \n",
    "    docs[i] = dp"
   ]
  },
  {
   "cell_type": "code",
   "execution_count": 68,
   "metadata": {},
   "outputs": [
    {
     "name": "stdout",
     "output_type": "stream",
     "text": [
      "17000\n"
     ]
    },
    {
     "data": {
      "text/html": [
       "<div>\n",
       "<style scoped>\n",
       "    .dataframe tbody tr th:only-of-type {\n",
       "        vertical-align: middle;\n",
       "    }\n",
       "\n",
       "    .dataframe tbody tr th {\n",
       "        vertical-align: top;\n",
       "    }\n",
       "\n",
       "    .dataframe thead th {\n",
       "        text-align: right;\n",
       "    }\n",
       "</style>\n",
       "<table border=\"1\" class=\"dataframe\">\n",
       "  <thead>\n",
       "    <tr style=\"text-align: right;\">\n",
       "      <th></th>\n",
       "      <th>seed</th>\n",
       "      <th>active_titles</th>\n",
       "      <th>deleted_titles</th>\n",
       "    </tr>\n",
       "  </thead>\n",
       "  <tbody>\n",
       "    <tr>\n",
       "      <th>0</th>\n",
       "      <td>Clarks Desert Trek Black Suede 1</td>\n",
       "      <td>[Clarks Desert Trek Black Suede 1]</td>\n",
       "      <td>[, 883956040685, (DARK WOOD/DARK JAVA) [8.5]---]</td>\n",
       "    </tr>\n",
       "    <tr>\n",
       "      <th>1</th>\n",
       "      <td>Haflinger GZ Classic Grizzly Bordo</td>\n",
       "      <td>[Haflinger GZ Classic Grizzly Bordo, Haflinger...</td>\n",
       "      <td>[Mens Birkenstock Zermatt Clog - Mocha Mocha |...</td>\n",
       "    </tr>\n",
       "    <tr>\n",
       "      <th>2</th>\n",
       "      <td>Nike Air Zoom Terra Kiger 7 Limelight/Off-Noir...</td>\n",
       "      <td>[Nike Air Zoom Terra Kiger 7 Limelight/Off-Noi...</td>\n",
       "      <td>[Nike Air Monarch IV Training Shoe - Men's Whi...</td>\n",
       "    </tr>\n",
       "    <tr>\n",
       "      <th>3</th>\n",
       "      <td>adidas Originals Trefoil Tee White/Hazy Rose</td>\n",
       "      <td>[adidas Originals Trefoil Tee White/Hazy Rose]</td>\n",
       "      <td>[Men's adidas Orlando City Away Soccer Jersey\"...</td>\n",
       "    </tr>\n",
       "    <tr>\n",
       "      <th>4</th>\n",
       "      <td>Save the Duck Kids Flee (Little Kids/Big Kids)...</td>\n",
       "      <td>[Save the Duck Kids Flee (Little Kids/Big Kids...</td>\n",
       "      <td>[Save The Duck Randolph Bomber Jacket NAVY BLU...</td>\n",
       "    </tr>\n",
       "  </tbody>\n",
       "</table>\n",
       "</div>"
      ],
      "text/plain": [
       "                                                seed  \\\n",
       "0                   Clarks Desert Trek Black Suede 1   \n",
       "1                 Haflinger GZ Classic Grizzly Bordo   \n",
       "2  Nike Air Zoom Terra Kiger 7 Limelight/Off-Noir...   \n",
       "3       adidas Originals Trefoil Tee White/Hazy Rose   \n",
       "4  Save the Duck Kids Flee (Little Kids/Big Kids)...   \n",
       "\n",
       "                                       active_titles  \\\n",
       "0                 [Clarks Desert Trek Black Suede 1]   \n",
       "1  [Haflinger GZ Classic Grizzly Bordo, Haflinger...   \n",
       "2  [Nike Air Zoom Terra Kiger 7 Limelight/Off-Noi...   \n",
       "3     [adidas Originals Trefoil Tee White/Hazy Rose]   \n",
       "4  [Save the Duck Kids Flee (Little Kids/Big Kids...   \n",
       "\n",
       "                                      deleted_titles  \n",
       "0   [, 883956040685, (DARK WOOD/DARK JAVA) [8.5]---]  \n",
       "1  [Mens Birkenstock Zermatt Clog - Mocha Mocha |...  \n",
       "2  [Nike Air Monarch IV Training Shoe - Men's Whi...  \n",
       "3  [Men's adidas Orlando City Away Soccer Jersey\"...  \n",
       "4  [Save The Duck Randolph Bomber Jacket NAVY BLU...  "
      ]
     },
     "execution_count": 68,
     "metadata": {},
     "output_type": "execute_result"
    }
   ],
   "source": [
    "df_processed = pd.DataFrame(docs.values())\n",
    "print(len(df_processed))\n",
    "df_processed.head()"
   ]
  },
  {
   "cell_type": "code",
   "execution_count": 5,
   "metadata": {},
   "outputs": [],
   "source": [
    "del data\n",
    "del df"
   ]
  },
  {
   "cell_type": "code",
   "execution_count": 69,
   "metadata": {},
   "outputs": [],
   "source": [
    "df_processed['seed'] = [ '' if x is np.NaN else x for x in df_processed['seed'] ]\n",
    "df_processed['active_titles'] = [ '' if x is np.NaN else x for x in df_processed['active_titles'] ]\n",
    "df_processed['deleted_titles'] = [ '' if x is np.NaN else x for x in df_processed['deleted_titles'] ]"
   ]
  },
  {
   "cell_type": "code",
   "execution_count": 70,
   "metadata": {},
   "outputs": [],
   "source": [
    "## removing special chars => !\"#$%&\\'()*+,-./:;<=>?@[\\\\]^_{|}~`\n",
    "import string\n",
    "import re\n",
    "\n",
    "PUNCT_TO_REMOVE = string.punctuation\n",
    "PUNCT_TO_REMOVE = PUNCT_TO_REMOVE.replace(\"-\",\"\")\n",
    "# PUNCT_TO_REMOVE = PUNCT_TO_REMOVE.replace(\".\",\"\")\n",
    "PUNCT_TO_REMOVE = PUNCT_TO_REMOVE.replace(\"&\",\"\")\n",
    "\n",
    "def remove_special_chars(text):\n",
    "    return text.translate(str.maketrans('', '', PUNCT_TO_REMOVE))"
   ]
  },
  {
   "cell_type": "code",
   "execution_count": 71,
   "metadata": {},
   "outputs": [],
   "source": [
    "df_processed['seed'] = df_processed['seed'].astype(str)\n",
    "df_processed['active_titles'] = df_processed['active_titles'].astype(str)\n",
    "df_processed['deleted_titles'] = df_processed['deleted_titles'].astype(str)"
   ]
  },
  {
   "cell_type": "code",
   "execution_count": 72,
   "metadata": {},
   "outputs": [],
   "source": [
    "df_processed['seed'] = df_processed['seed'].apply(lambda text: remove_special_chars(text))\n",
    "df_processed['active_titles'] = df_processed['active_titles'].apply(lambda text: remove_special_chars(text))\n",
    "df_processed['deleted_titles'] = df_processed['deleted_titles'].apply(lambda text: remove_special_chars(text))"
   ]
  },
  {
   "cell_type": "code",
   "execution_count": 73,
   "metadata": {},
   "outputs": [],
   "source": [
    "df_processed['seed'] = df_processed['seed'].str.replace('\\d+', '')\n",
    "df_processed['active_titles'] = df_processed['active_titles'].str.replace('\\d+', '')\n",
    "df_processed['deleted_titles'] = df_processed['deleted_titles'].str.replace('\\d+', '')"
   ]
  },
  {
   "cell_type": "code",
   "execution_count": 74,
   "metadata": {},
   "outputs": [
    {
     "data": {
      "text/html": [
       "<div>\n",
       "<style scoped>\n",
       "    .dataframe tbody tr th:only-of-type {\n",
       "        vertical-align: middle;\n",
       "    }\n",
       "\n",
       "    .dataframe tbody tr th {\n",
       "        vertical-align: top;\n",
       "    }\n",
       "\n",
       "    .dataframe thead th {\n",
       "        text-align: right;\n",
       "    }\n",
       "</style>\n",
       "<table border=\"1\" class=\"dataframe\">\n",
       "  <thead>\n",
       "    <tr style=\"text-align: right;\">\n",
       "      <th></th>\n",
       "      <th>seed</th>\n",
       "      <th>active_titles</th>\n",
       "      <th>deleted_titles</th>\n",
       "    </tr>\n",
       "  </thead>\n",
       "  <tbody>\n",
       "    <tr>\n",
       "      <th>0</th>\n",
       "      <td>Clarks Desert Trek Black Suede</td>\n",
       "      <td>Clarks Desert Trek Black Suede</td>\n",
       "      <td>DARK WOODDARK JAVA ---</td>\n",
       "    </tr>\n",
       "    <tr>\n",
       "      <th>1</th>\n",
       "      <td>Haflinger GZ Classic Grizzly Bordo</td>\n",
       "      <td>Haflinger GZ Classic Grizzly Bordo Haflinger G...</td>\n",
       "      <td>Mens Birkenstock Zermatt Clog - Mocha Mocha  U...</td>\n",
       "    </tr>\n",
       "    <tr>\n",
       "      <th>2</th>\n",
       "      <td>Nike Air Zoom Terra Kiger  LimelightOff-NoirLa...</td>\n",
       "      <td>Nike Air Zoom Terra Kiger  LimelightOff-NoirLa...</td>\n",
       "      <td>Nike Air Monarch IV Training Shoe - Mens White...</td>\n",
       "    </tr>\n",
       "    <tr>\n",
       "      <th>3</th>\n",
       "      <td>adidas Originals Trefoil Tee WhiteHazy Rose</td>\n",
       "      <td>adidas Originals Trefoil Tee WhiteHazy Rose</td>\n",
       "      <td>Mens adidas Orlando City Away Soccer Jersey - ...</td>\n",
       "    </tr>\n",
       "    <tr>\n",
       "      <th>4</th>\n",
       "      <td>Save the Duck Kids Flee Little KidsBig Kids Wa...</td>\n",
       "      <td>Save the Duck Kids Flee Little KidsBig Kids Wa...</td>\n",
       "      <td>Save The Duck Randolph Bomber Jacket NAVY BLUE...</td>\n",
       "    </tr>\n",
       "  </tbody>\n",
       "</table>\n",
       "</div>"
      ],
      "text/plain": [
       "                                                seed  \\\n",
       "0                    Clarks Desert Trek Black Suede    \n",
       "1                 Haflinger GZ Classic Grizzly Bordo   \n",
       "2  Nike Air Zoom Terra Kiger  LimelightOff-NoirLa...   \n",
       "3        adidas Originals Trefoil Tee WhiteHazy Rose   \n",
       "4  Save the Duck Kids Flee Little KidsBig Kids Wa...   \n",
       "\n",
       "                                       active_titles  \\\n",
       "0                    Clarks Desert Trek Black Suede    \n",
       "1  Haflinger GZ Classic Grizzly Bordo Haflinger G...   \n",
       "2  Nike Air Zoom Terra Kiger  LimelightOff-NoirLa...   \n",
       "3        adidas Originals Trefoil Tee WhiteHazy Rose   \n",
       "4  Save the Duck Kids Flee Little KidsBig Kids Wa...   \n",
       "\n",
       "                                      deleted_titles  \n",
       "0                             DARK WOODDARK JAVA ---  \n",
       "1  Mens Birkenstock Zermatt Clog - Mocha Mocha  U...  \n",
       "2  Nike Air Monarch IV Training Shoe - Mens White...  \n",
       "3  Mens adidas Orlando City Away Soccer Jersey - ...  \n",
       "4  Save The Duck Randolph Bomber Jacket NAVY BLUE...  "
      ]
     },
     "execution_count": 74,
     "metadata": {},
     "output_type": "execute_result"
    }
   ],
   "source": [
    "df_processed.head()"
   ]
  },
  {
   "cell_type": "code",
   "execution_count": null,
   "metadata": {},
   "outputs": [],
   "source": []
  },
  {
   "cell_type": "code",
   "execution_count": 75,
   "metadata": {},
   "outputs": [
    {
     "name": "stdout",
     "output_type": "stream",
     "text": [
      "51000\n"
     ]
    }
   ],
   "source": [
    "sentences = []\n",
    "for row in df_processed['seed']:\n",
    "    row = clean(str(row))\n",
    "    sentences.append(str(row))\n",
    "    \n",
    "for row in df_processed['active_titles']:\n",
    "    row = clean(str(row))\n",
    "    sentences.append(str(row))\n",
    "\n",
    "for row in df_processed['deleted_titles']:\n",
    "    row = clean(str(row))\n",
    "    sentences.append(str(row))\n",
    "    \n",
    "print(len(sentences))"
   ]
  },
  {
   "cell_type": "code",
   "execution_count": null,
   "metadata": {
    "scrolled": true
   },
   "outputs": [],
   "source": []
  },
  {
   "cell_type": "code",
   "execution_count": 76,
   "metadata": {},
   "outputs": [],
   "source": [
    "tfidf = TfidfVectorizer()\n",
    "tfidf_rep = tfidf.fit_transform(sentences)"
   ]
  },
  {
   "cell_type": "code",
   "execution_count": 77,
   "metadata": {},
   "outputs": [
    {
     "data": {
      "text/plain": [
       "<51000x19272 sparse matrix of type '<class 'numpy.float64'>'\n",
       "\twith 408438 stored elements in Compressed Sparse Row format>"
      ]
     },
     "execution_count": 77,
     "metadata": {},
     "output_type": "execute_result"
    }
   ],
   "source": [
    "tfidf_rep"
   ]
  },
  {
   "cell_type": "code",
   "execution_count": null,
   "metadata": {},
   "outputs": [],
   "source": []
  },
  {
   "cell_type": "code",
   "execution_count": 108,
   "metadata": {},
   "outputs": [],
   "source": [
    "e1 = tfidf.transform(['Clarks Desert Trek Black Suede'])"
   ]
  },
  {
   "cell_type": "code",
   "execution_count": 102,
   "metadata": {
    "scrolled": true
   },
   "outputs": [],
   "source": [
    "e2 = tfidf.transform(['Haflinger GZ Classic Grizzly Bordo Haflinger GZ Clog Slipper Women BORDO  US  EU'])"
   ]
  },
  {
   "cell_type": "code",
   "execution_count": 103,
   "metadata": {},
   "outputs": [],
   "source": [
    "e1 = e1.toarray()\n",
    "e2 = e2.toarray()"
   ]
  },
  {
   "cell_type": "code",
   "execution_count": 104,
   "metadata": {},
   "outputs": [],
   "source": [
    "e1 = np.squeeze(np.asarray(e1))\n",
    "\n",
    "e2 = np.squeeze(np.asarray(e2))"
   ]
  },
  {
   "cell_type": "code",
   "execution_count": 92,
   "metadata": {
    "scrolled": true
   },
   "outputs": [
    {
     "data": {
      "text/plain": [
       "'Clarks Desert Trek Black Suede '"
      ]
     },
     "execution_count": 92,
     "metadata": {},
     "output_type": "execute_result"
    }
   ],
   "source": [
    "df_processed['seed'].iloc[0]"
   ]
  },
  {
   "cell_type": "code",
   "execution_count": 94,
   "metadata": {},
   "outputs": [
    {
     "data": {
      "text/plain": [
       "'Haflinger GZ Classic Grizzly Bordo Haflinger GZ Clog Slipper Women BORDO  US  EU'"
      ]
     },
     "execution_count": 94,
     "metadata": {},
     "output_type": "execute_result"
    }
   ],
   "source": [
    "df_processed['active_titles'].iloc[1]"
   ]
  },
  {
   "cell_type": "code",
   "execution_count": 105,
   "metadata": {},
   "outputs": [],
   "source": [
    "cos_sim = dot(e1, e2)/(norm(e1)*norm(e2))"
   ]
  },
  {
   "cell_type": "code",
   "execution_count": 106,
   "metadata": {},
   "outputs": [
    {
     "data": {
      "text/plain": [
       "0.0"
      ]
     },
     "execution_count": 106,
     "metadata": {},
     "output_type": "execute_result"
    }
   ],
   "source": [
    "cos_sim"
   ]
  },
  {
   "cell_type": "code",
   "execution_count": null,
   "metadata": {},
   "outputs": [],
   "source": []
  },
  {
   "cell_type": "markdown",
   "metadata": {},
   "source": [
    "### Calculating Precision / Recall / F1 metrics  "
   ]
  },
  {
   "cell_type": "markdown",
   "metadata": {},
   "source": [
    "##### Threshold = 0.75  "
   ]
  },
  {
   "cell_type": "code",
   "execution_count": 109,
   "metadata": {},
   "outputs": [],
   "source": [
    "# threshold for classification\n",
    "threshold = 0.75"
   ]
  },
  {
   "cell_type": "code",
   "execution_count": 111,
   "metadata": {},
   "outputs": [
    {
     "ename": "ValueError",
     "evalue": "dimension mismatch",
     "output_type": "error",
     "traceback": [
      "\u001b[0;31m---------------------------------------------------------------------------\u001b[0m",
      "\u001b[0;31mValueError\u001b[0m                                Traceback (most recent call last)",
      "\u001b[0;32m<ipython-input-111-62c772cad19e>\u001b[0m in \u001b[0;36m<module>\u001b[0;34m\u001b[0m\n\u001b[1;32m     14\u001b[0m         \u001b[0ms_a\u001b[0m \u001b[0;34m=\u001b[0m \u001b[0mclean\u001b[0m\u001b[0;34m(\u001b[0m\u001b[0ms_a\u001b[0m\u001b[0;34m)\u001b[0m\u001b[0;34m\u001b[0m\u001b[0;34m\u001b[0m\u001b[0m\n\u001b[1;32m     15\u001b[0m         \u001b[0mw2\u001b[0m \u001b[0;34m=\u001b[0m \u001b[0mtfidf\u001b[0m\u001b[0;34m.\u001b[0m\u001b[0mtransform\u001b[0m\u001b[0;34m(\u001b[0m\u001b[0;34m[\u001b[0m\u001b[0ms_a\u001b[0m\u001b[0;34m]\u001b[0m\u001b[0;34m)\u001b[0m\u001b[0;34m\u001b[0m\u001b[0;34m\u001b[0m\u001b[0m\n\u001b[0;32m---> 16\u001b[0;31m         \u001b[0mcos_sim\u001b[0m \u001b[0;34m=\u001b[0m \u001b[0mdot\u001b[0m\u001b[0;34m(\u001b[0m\u001b[0mw1\u001b[0m\u001b[0;34m,\u001b[0m \u001b[0mw2\u001b[0m\u001b[0;34m)\u001b[0m\u001b[0;34m/\u001b[0m\u001b[0;34m(\u001b[0m\u001b[0mnorm\u001b[0m\u001b[0;34m(\u001b[0m\u001b[0mw1\u001b[0m\u001b[0;34m)\u001b[0m\u001b[0;34m*\u001b[0m\u001b[0mnorm\u001b[0m\u001b[0;34m(\u001b[0m\u001b[0mw2\u001b[0m\u001b[0;34m)\u001b[0m\u001b[0;34m)\u001b[0m\u001b[0;34m\u001b[0m\u001b[0;34m\u001b[0m\u001b[0m\n\u001b[0m\u001b[1;32m     17\u001b[0m \u001b[0;34m\u001b[0m\u001b[0m\n\u001b[1;32m     18\u001b[0m         \u001b[0;32mif\u001b[0m \u001b[0mcos_sim\u001b[0m \u001b[0;34m>=\u001b[0m \u001b[0mthreshold\u001b[0m\u001b[0;34m:\u001b[0m         \u001b[0;31m## classify as accepted match  (good) (True positive)\u001b[0m\u001b[0;34m\u001b[0m\u001b[0;34m\u001b[0m\u001b[0m\n",
      "\u001b[0;32m<__array_function__ internals>\u001b[0m in \u001b[0;36mdot\u001b[0;34m(*args, **kwargs)\u001b[0m\n",
      "\u001b[0;32m~/anaconda2/envs/MLenv/lib/python3.8/site-packages/scipy/sparse/_base.py\u001b[0m in \u001b[0;36m__mul__\u001b[0;34m(self, other)\u001b[0m\n\u001b[1;32m    581\u001b[0m \u001b[0;34m\u001b[0m\u001b[0m\n\u001b[1;32m    582\u001b[0m     \u001b[0;32mdef\u001b[0m \u001b[0m__mul__\u001b[0m\u001b[0;34m(\u001b[0m\u001b[0mself\u001b[0m\u001b[0;34m,\u001b[0m \u001b[0mother\u001b[0m\u001b[0;34m)\u001b[0m\u001b[0;34m:\u001b[0m\u001b[0;34m\u001b[0m\u001b[0;34m\u001b[0m\u001b[0m\n\u001b[0;32m--> 583\u001b[0;31m         \u001b[0;32mreturn\u001b[0m \u001b[0mself\u001b[0m\u001b[0;34m.\u001b[0m\u001b[0m_mul_dispatch\u001b[0m\u001b[0;34m(\u001b[0m\u001b[0mother\u001b[0m\u001b[0;34m)\u001b[0m\u001b[0;34m\u001b[0m\u001b[0;34m\u001b[0m\u001b[0m\n\u001b[0m\u001b[1;32m    584\u001b[0m \u001b[0;34m\u001b[0m\u001b[0m\n\u001b[1;32m    585\u001b[0m     \u001b[0;31m# by default, use CSR for __mul__ handlers\u001b[0m\u001b[0;34m\u001b[0m\u001b[0;34m\u001b[0m\u001b[0;34m\u001b[0m\u001b[0m\n",
      "\u001b[0;32m~/anaconda2/envs/MLenv/lib/python3.8/site-packages/scipy/sparse/_base.py\u001b[0m in \u001b[0;36m_mul_dispatch\u001b[0;34m(self, other)\u001b[0m\n\u001b[1;32m    531\u001b[0m         \u001b[0;32mif\u001b[0m \u001b[0missparse\u001b[0m\u001b[0;34m(\u001b[0m\u001b[0mother\u001b[0m\u001b[0;34m)\u001b[0m\u001b[0;34m:\u001b[0m\u001b[0;34m\u001b[0m\u001b[0;34m\u001b[0m\u001b[0m\n\u001b[1;32m    532\u001b[0m             \u001b[0;32mif\u001b[0m \u001b[0mself\u001b[0m\u001b[0;34m.\u001b[0m\u001b[0mshape\u001b[0m\u001b[0;34m[\u001b[0m\u001b[0;36m1\u001b[0m\u001b[0;34m]\u001b[0m \u001b[0;34m!=\u001b[0m \u001b[0mother\u001b[0m\u001b[0;34m.\u001b[0m\u001b[0mshape\u001b[0m\u001b[0;34m[\u001b[0m\u001b[0;36m0\u001b[0m\u001b[0;34m]\u001b[0m\u001b[0;34m:\u001b[0m\u001b[0;34m\u001b[0m\u001b[0;34m\u001b[0m\u001b[0m\n\u001b[0;32m--> 533\u001b[0;31m                 \u001b[0;32mraise\u001b[0m \u001b[0mValueError\u001b[0m\u001b[0;34m(\u001b[0m\u001b[0;34m'dimension mismatch'\u001b[0m\u001b[0;34m)\u001b[0m\u001b[0;34m\u001b[0m\u001b[0;34m\u001b[0m\u001b[0m\n\u001b[0m\u001b[1;32m    534\u001b[0m             \u001b[0;32mreturn\u001b[0m \u001b[0mself\u001b[0m\u001b[0;34m.\u001b[0m\u001b[0m_mul_sparse_matrix\u001b[0m\u001b[0;34m(\u001b[0m\u001b[0mother\u001b[0m\u001b[0;34m)\u001b[0m\u001b[0;34m\u001b[0m\u001b[0;34m\u001b[0m\u001b[0m\n\u001b[1;32m    535\u001b[0m \u001b[0;34m\u001b[0m\u001b[0m\n",
      "\u001b[0;31mValueError\u001b[0m: dimension mismatch"
     ]
    }
   ],
   "source": [
    "true_positive = 0\n",
    "true_negative = 0\n",
    "false_positive = 0\n",
    "false_negative = 0\n",
    "\n",
    "for i in range(len(df_processed)):\n",
    "    \n",
    "    s_q = df_processed['seed'][i]\n",
    "    s_q = clean(s_q)\n",
    "    w1 = tfidf.transform([s_q])\n",
    "    \n",
    "    for l in range(len(df_processed['active_titles'][i])):\n",
    "        s_a = df_processed['active_titles'][i][l]\n",
    "        s_a = clean(s_a)\n",
    "        w2 = tfidf.transform([s_a])\n",
    "        cos_sim = dot(w1, w2)/(norm(w1)*norm(w2))\n",
    "        \n",
    "        if cos_sim >= threshold:         ## classify as accepted match  (good) (True positive)\n",
    "            true_positive += 1\n",
    "            \n",
    "        elif cos_sim < threshold:        ## classify as rejected match  (bad)  (False negative)\n",
    "            false_negative += 1\n",
    "        \n",
    "    for l in range(len(df_processed['deleted_titles'][i])):\n",
    "        s_d = df_processed['deleted_titles'][i][l]\n",
    "        s_d = clean(s_d)\n",
    "        w2 = tfidf.transform([s_d])\n",
    "        cos_sim = dot(w1, w2)/(norm(w1)*norm(w2))\n",
    "        \n",
    "        if cos_sim >= threshold:          ## classify as accepted match   (bad)  (False positive)\n",
    "            false_positive += 1\n",
    "        \n",
    "        elif cos_sim < threshold:          ## classify as rejected match   (good)  (True Negative)\n",
    "            true_negative += 1\n",
    "        \n",
    "        \n",
    "    if (i % 1000 == 0):\n",
    "        print(i/1000)"
   ]
  },
  {
   "cell_type": "code",
   "execution_count": null,
   "metadata": {},
   "outputs": [],
   "source": []
  },
  {
   "cell_type": "code",
   "execution_count": null,
   "metadata": {},
   "outputs": [],
   "source": []
  },
  {
   "cell_type": "code",
   "execution_count": null,
   "metadata": {},
   "outputs": [],
   "source": []
  },
  {
   "cell_type": "code",
   "execution_count": null,
   "metadata": {},
   "outputs": [],
   "source": []
  }
 ],
 "metadata": {
  "kernelspec": {
   "display_name": "MLenv",
   "language": "python",
   "name": "mlenv"
  },
  "language_info": {
   "codemirror_mode": {
    "name": "ipython",
    "version": 3
   },
   "file_extension": ".py",
   "mimetype": "text/x-python",
   "name": "python",
   "nbconvert_exporter": "python",
   "pygments_lexer": "ipython3",
   "version": "3.8.5"
  }
 },
 "nbformat": 4,
 "nbformat_minor": 5
}
