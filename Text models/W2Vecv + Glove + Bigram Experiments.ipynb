{
 "cells": [
  {
   "cell_type": "markdown",
   "id": "bigger-shock",
   "metadata": {},
   "source": [
    "### Word2Vec"
   ]
  },
  {
   "cell_type": "markdown",
   "id": "divine-length",
   "metadata": {},
   "source": [
    "##### Pre-trained "
   ]
  },
  {
   "cell_type": "code",
   "execution_count": 2,
   "id": "realistic-independence",
   "metadata": {},
   "outputs": [],
   "source": [
    "from gensim.models.word2vec import Word2Vec\n",
    "import gensim.downloader as api\n",
    "from numpy import dot\n",
    "from numpy.linalg import norm"
   ]
  },
  {
   "cell_type": "code",
   "execution_count": 6,
   "id": "interstate-adelaide",
   "metadata": {},
   "outputs": [],
   "source": [
    "#1\n",
    "model = api.load(\"glove-wiki-gigaword-100\") ## 128 MB"
   ]
  },
  {
   "cell_type": "code",
   "execution_count": 628,
   "id": "thermal-blade",
   "metadata": {},
   "outputs": [
    {
     "name": "stdout",
     "output_type": "stream",
     "text": [
      "[==================================================] 100.0% 376.1/376.1MB downloaded\n"
     ]
    }
   ],
   "source": [
    "#2\n",
    "model = api.load(\"glove-wiki-gigaword-300\") ## 376 MB"
   ]
  },
  {
   "cell_type": "code",
   "execution_count": null,
   "id": "accredited-morgan",
   "metadata": {},
   "outputs": [],
   "source": [
    "#3\n",
    "model = api.load(\"glove-twitter-25\") ## 104 MB"
   ]
  },
  {
   "cell_type": "code",
   "execution_count": null,
   "id": "willing-tackle",
   "metadata": {},
   "outputs": [],
   "source": [
    "#4\n",
    "model = api.load(\"glove-twitter-100\") ## 387 MB"
   ]
  },
  {
   "cell_type": "code",
   "execution_count": null,
   "id": "miniature-surname",
   "metadata": {},
   "outputs": [],
   "source": [
    "#5\n",
    "model = api.load(\"word2vec-google-news-300\")  ## 1662 MB"
   ]
  },
  {
   "cell_type": "markdown",
   "id": "altered-victory",
   "metadata": {},
   "source": [
    "#### sentence similarity"
   ]
  },
  {
   "cell_type": "code",
   "execution_count": 814,
   "id": "viral-athletics",
   "metadata": {},
   "outputs": [],
   "source": [
    "DIM = 300"
   ]
  },
  {
   "cell_type": "code",
   "execution_count": 1039,
   "id": "negative-piece",
   "metadata": {},
   "outputs": [],
   "source": [
    "s1 = \"Jo Malone London™ Dark Amber & Ginger Lily Scented Home Candle NO COLOR  7 oz\"\n",
    "s2 = \"Jo Malone London Dark Amber & Ginger Lily Home Candle\""
   ]
  },
  {
   "cell_type": "code",
   "execution_count": 1045,
   "id": "floral-balance",
   "metadata": {},
   "outputs": [],
   "source": [
    "e1 = sen_emb(s1) \n",
    "e2 = sen_emb(s2)"
   ]
  },
  {
   "cell_type": "code",
   "execution_count": 1046,
   "id": "binary-seventh",
   "metadata": {},
   "outputs": [],
   "source": [
    "e1, e2 = pad_emb(e1, e2, DIM)"
   ]
  },
  {
   "cell_type": "code",
   "execution_count": 1047,
   "id": "dying-emergency",
   "metadata": {},
   "outputs": [
    {
     "name": "stdout",
     "output_type": "stream",
     "text": [
      "0.5476768247725139\n"
     ]
    }
   ],
   "source": [
    "cos_sim = dot(e1, e2)/(norm(e1)*norm(e2))\n",
    "print(cos_sim)"
   ]
  },
  {
   "cell_type": "code",
   "execution_count": 1048,
   "id": "dependent-novel",
   "metadata": {},
   "outputs": [],
   "source": [
    "e1_ = avg_emb(s1, DIM)\n",
    "e2_ = avg_emb(s2, DIM)"
   ]
  },
  {
   "cell_type": "code",
   "execution_count": 1049,
   "id": "communist-planning",
   "metadata": {},
   "outputs": [
    {
     "name": "stdout",
     "output_type": "stream",
     "text": [
      "1.0\n"
     ]
    }
   ],
   "source": [
    "cos_sim = dot(e1_, e2_)/(norm(e1_)*norm(e2_))\n",
    "print(cos_sim)"
   ]
  },
  {
   "cell_type": "markdown",
   "id": "naked-willow",
   "metadata": {},
   "source": [
    "###### word similarity"
   ]
  },
  {
   "cell_type": "code",
   "execution_count": 1054,
   "id": "gorgeous-messaging",
   "metadata": {},
   "outputs": [
    {
     "data": {
      "text/plain": [
       "0.8291835"
      ]
     },
     "execution_count": 1054,
     "metadata": {},
     "output_type": "execute_result"
    }
   ],
   "source": [
    "model.similarity(\"jacket\", \"coat\")"
   ]
  },
  {
   "cell_type": "markdown",
   "id": "mental-chicago",
   "metadata": {},
   "source": [
    "##### alpha-numeric words"
   ]
  },
  {
   "cell_type": "code",
   "execution_count": 1059,
   "id": "outside-following",
   "metadata": {},
   "outputs": [
    {
     "name": "stdout",
     "output_type": "stream",
     "text": [
      "By concatenation:  1.0\n",
      "By average:  1.0\n"
     ]
    }
   ],
   "source": [
    "a1 = \"3 1/2 Pillow\" \n",
    "a2 = \"3.5 Pillow\"\n",
    "\n",
    "e1 = sen_emb(a1) \n",
    "e2 = sen_emb(a2)\n",
    "\n",
    "e1, e2 = pad_emb(e1, e2, DIM)\n",
    "\n",
    "cos_sim = dot(e1, e2)/(norm(e1)*norm(e2))\n",
    "print(\"By concatenation: \", cos_sim)\n",
    "\n",
    "e1_ = avg_emb(s1, DIM)\n",
    "e2_ = avg_emb(s2, DIM)\n",
    "print(\"By average: \", dot(e1_, e2_)/(norm(e1_)*norm(e2_)))"
   ]
  },
  {
   "cell_type": "markdown",
   "id": "sweet-eleven",
   "metadata": {},
   "source": [
    "##### spell mistakes"
   ]
  },
  {
   "cell_type": "code",
   "execution_count": null,
   "id": "weekly-antenna",
   "metadata": {},
   "outputs": [],
   "source": [
    "model['lapttp']"
   ]
  },
  {
   "cell_type": "markdown",
   "id": "expensive-amino",
   "metadata": {},
   "source": [
    "##### Effect of prefix/suffix"
   ]
  },
  {
   "cell_type": "code",
   "execution_count": 1064,
   "id": "suitable-clinic",
   "metadata": {},
   "outputs": [
    {
     "data": {
      "text/plain": [
       "0.44347695"
      ]
     },
     "execution_count": 1064,
     "metadata": {},
     "output_type": "execute_result"
    }
   ],
   "source": [
    "model.similarity(\"shirt\", \"shirtless\")"
   ]
  },
  {
   "cell_type": "markdown",
   "id": "forced-brunei",
   "metadata": {},
   "source": [
    "##### Singular / Plural "
   ]
  },
  {
   "cell_type": "code",
   "execution_count": 1070,
   "id": "underlying-exposure",
   "metadata": {},
   "outputs": [
    {
     "data": {
      "text/plain": [
       "0.8452649"
      ]
     },
     "execution_count": 1070,
     "metadata": {},
     "output_type": "execute_result"
    }
   ],
   "source": [
    "model.similarity(\"child\", \"children\")"
   ]
  },
  {
   "cell_type": "markdown",
   "id": "geological-wisdom",
   "metadata": {},
   "source": [
    "#### Context / Ambiguity check"
   ]
  },
  {
   "cell_type": "code",
   "execution_count": 1080,
   "id": "convinced-pointer",
   "metadata": {},
   "outputs": [
    {
     "name": "stdout",
     "output_type": "stream",
     "text": [
      "By concatenation:  0.9072405258660791\n",
      "By average:  1.0\n"
     ]
    }
   ],
   "source": [
    "s1 = \"I bought a Apple PC on sale\"\n",
    "s2 = \"I bought a Apple fruit on sale\"\n",
    "\n",
    "e1 = sen_emb(s1) \n",
    "e2 = sen_emb(s2)\n",
    "\n",
    "e1, e2 = pad_emb(e1, e2, DIM)\n",
    "\n",
    "cos_sim = dot(e1, e2)/(norm(e1)*norm(e2))\n",
    "print(\"By concatenation: \", cos_sim)\n",
    "\n",
    "e1_ = avg_emb(s1, DIM)\n",
    "e2_ = avg_emb(s2, DIM)\n",
    "print(\"By average: \", dot(e1_, e2_)/(norm(e1_)*norm(e2_)))"
   ]
  },
  {
   "cell_type": "markdown",
   "id": "funny-frame",
   "metadata": {},
   "source": [
    "#### Phrases detection"
   ]
  },
  {
   "cell_type": "code",
   "execution_count": null,
   "id": "dying-scanner",
   "metadata": {},
   "outputs": [],
   "source": [
    "model.similarity(\"wireless charger\", \"new\")"
   ]
  },
  {
   "cell_type": "markdown",
   "id": "israeli-mechanics",
   "metadata": {},
   "source": [
    "## Glove"
   ]
  },
  {
   "cell_type": "markdown",
   "id": "banner-paintball",
   "metadata": {},
   "source": [
    "##### pre-trained"
   ]
  },
  {
   "cell_type": "code",
   "execution_count": 1083,
   "id": "cosmetic-juice",
   "metadata": {},
   "outputs": [],
   "source": [
    "from gensim.scripts.glove2word2vec import glove2word2vec"
   ]
  },
  {
   "cell_type": "code",
   "execution_count": 1240,
   "id": "advanced-manor",
   "metadata": {},
   "outputs": [
    {
     "name": "stdout",
     "output_type": "stream",
     "text": [
      "GloVe data loaded\n"
     ]
    }
   ],
   "source": [
    "embeddings_index = {}\n",
    "f = open('./glove.42B.300d.txt', encoding=\"utf8\")\n",
    "for line in f:\n",
    "    values = line.split(' ')\n",
    "    word = values[0]           ## The first entry is the word\n",
    "    coefs = np.asarray(values[1:], dtype='float32')   ## These are the vecotrs representing the embedding for the word\n",
    "    embeddings_index[word] = coefs\n",
    "f.close()\n",
    "\n",
    "print('GloVe data loaded')"
   ]
  },
  {
   "cell_type": "code",
   "execution_count": 1241,
   "id": "featured-prompt",
   "metadata": {},
   "outputs": [],
   "source": [
    "DIM = 300"
   ]
  },
  {
   "cell_type": "code",
   "execution_count": 1243,
   "id": "brilliant-colleague",
   "metadata": {},
   "outputs": [
    {
     "data": {
      "text/plain": [
       "1917495"
      ]
     },
     "execution_count": 1243,
     "metadata": {},
     "output_type": "execute_result"
    }
   ],
   "source": [
    "len(embeddings_index)"
   ]
  },
  {
   "cell_type": "markdown",
   "id": "accompanied-counter",
   "metadata": {},
   "source": [
    "##### sentence similarity"
   ]
  },
  {
   "cell_type": "code",
   "execution_count": 1330,
   "id": "controlling-montgomery",
   "metadata": {},
   "outputs": [],
   "source": [
    "s1 = \"Jo Malone London™ Dark Amber & Ginger Lily Scented Home Candle NO COLOR  7 oz\"\n",
    "s2 = \"Jo Malone London Dark Amber & Ginger Lily Home Candle\""
   ]
  },
  {
   "cell_type": "code",
   "execution_count": 1336,
   "id": "mathematical-chemical",
   "metadata": {},
   "outputs": [],
   "source": [
    "e1 = sen_emb_g(s1) \n",
    "e2 = sen_emb_g(s2)"
   ]
  },
  {
   "cell_type": "code",
   "execution_count": 1337,
   "id": "committed-delta",
   "metadata": {},
   "outputs": [],
   "source": [
    "e1, e2 = pad_emb(e1, e2, DIM)"
   ]
  },
  {
   "cell_type": "code",
   "execution_count": 1338,
   "id": "liberal-tuesday",
   "metadata": {},
   "outputs": [
    {
     "name": "stdout",
     "output_type": "stream",
     "text": [
      "0.4925424632614757\n"
     ]
    }
   ],
   "source": [
    "cos_sim = dot(e1, e2)/(norm(e1)*norm(e2))\n",
    "print(cos_sim)"
   ]
  },
  {
   "cell_type": "code",
   "execution_count": 1339,
   "id": "martial-three",
   "metadata": {},
   "outputs": [],
   "source": [
    "e1_ = avg_emb_g(s1, DIM)\n",
    "e2_ = avg_emb_g(s2, DIM)"
   ]
  },
  {
   "cell_type": "code",
   "execution_count": 1340,
   "id": "prepared-candy",
   "metadata": {},
   "outputs": [
    {
     "name": "stdout",
     "output_type": "stream",
     "text": [
      "0.99999994\n"
     ]
    }
   ],
   "source": [
    "cos_sim = dot(e1_, e2_)/(norm(e1_)*norm(e2_))\n",
    "print(cos_sim)"
   ]
  },
  {
   "cell_type": "markdown",
   "id": "pressing-athens",
   "metadata": {},
   "source": [
    "##### word similarity"
   ]
  },
  {
   "cell_type": "code",
   "execution_count": 1345,
   "id": "diverse-title",
   "metadata": {},
   "outputs": [
    {
     "name": "stdout",
     "output_type": "stream",
     "text": [
      "0.42877197\n"
     ]
    }
   ],
   "source": [
    "e1 = embeddings_index['see']\n",
    "e2 = embeddings_index['sea']\n",
    "\n",
    "cos_sim = dot(e1, e2)/(norm(e1)*norm(e2))\n",
    "print(cos_sim)"
   ]
  },
  {
   "cell_type": "markdown",
   "id": "serious-chicago",
   "metadata": {},
   "source": [
    "##### Alpha numeric"
   ]
  },
  {
   "cell_type": "code",
   "execution_count": 1353,
   "id": "preliminary-script",
   "metadata": {},
   "outputs": [
    {
     "name": "stdout",
     "output_type": "stream",
     "text": [
      "By concatenation:  0.0788578400714062\n",
      "By average:  0.99999994\n"
     ]
    }
   ],
   "source": [
    "a1 = \"2M size shirt\" \n",
    "a2 = \"shirt\"\n",
    "\n",
    "e1 = sen_emb_g(a1) \n",
    "e2 = sen_emb_g(a2)\n",
    "\n",
    "e1, e2 = pad_emb(e1, e2, DIM)\n",
    "\n",
    "cos_sim = dot(e1, e2)/(norm(e1)*norm(e2))\n",
    "print(\"By concatenation: \", cos_sim)\n",
    "\n",
    "e1_ = avg_emb_g(s1, DIM)\n",
    "e2_ = avg_emb_g(s2, DIM)\n",
    "print(\"By average: \", dot(e1_, e2_)/(norm(e1_)*norm(e2_)))"
   ]
  },
  {
   "cell_type": "markdown",
   "id": "strong-friday",
   "metadata": {},
   "source": [
    "##### spell-mistakes"
   ]
  },
  {
   "cell_type": "code",
   "execution_count": null,
   "id": "coordinate-gabriel",
   "metadata": {},
   "outputs": [],
   "source": [
    "embeddings_index['jecket']"
   ]
  },
  {
   "cell_type": "markdown",
   "id": "minute-content",
   "metadata": {},
   "source": [
    "##### prefix/suffix"
   ]
  },
  {
   "cell_type": "code",
   "execution_count": 1364,
   "id": "altered-wagon",
   "metadata": {},
   "outputs": [
    {
     "name": "stdout",
     "output_type": "stream",
     "text": [
      "0.2853798\n"
     ]
    }
   ],
   "source": [
    "e1 = embeddings_index['shirt']\n",
    "e2 = embeddings_index['shirtless']\n",
    "\n",
    "cos_sim = dot(e1, e2)/(norm(e1)*norm(e2))\n",
    "print(cos_sim)"
   ]
  },
  {
   "cell_type": "markdown",
   "id": "stainless-testament",
   "metadata": {},
   "source": [
    "##### singular / plural"
   ]
  },
  {
   "cell_type": "code",
   "execution_count": 1370,
   "id": "integral-partner",
   "metadata": {},
   "outputs": [
    {
     "name": "stdout",
     "output_type": "stream",
     "text": [
      "0.8334375\n"
     ]
    }
   ],
   "source": [
    "e1 = embeddings_index['child']\n",
    "e2 = embeddings_index['children']\n",
    "\n",
    "cos_sim = dot(e1, e2)/(norm(e1)*norm(e2))\n",
    "print(cos_sim)"
   ]
  },
  {
   "cell_type": "markdown",
   "id": "alike-valentine",
   "metadata": {},
   "source": [
    "##### Context check"
   ]
  },
  {
   "cell_type": "code",
   "execution_count": 1378,
   "id": "compressed-trinity",
   "metadata": {},
   "outputs": [
    {
     "name": "stdout",
     "output_type": "stream",
     "text": [
      "By concatenation:  0.8943847240157649\n",
      "By average:  0.99999994\n"
     ]
    }
   ],
   "source": [
    "a1 = \"I bought a Apple PC on sale\" \n",
    "a2 = \"I bought a Apple fruit on sale\"\n",
    "\n",
    "e1 = sen_emb_g(a1) \n",
    "e2 = sen_emb_g(a2)\n",
    "\n",
    "e1, e2 = pad_emb(e1, e2, DIM)\n",
    "\n",
    "cos_sim = dot(e1, e2)/(norm(e1)*norm(e2))\n",
    "print(\"By concatenation: \", cos_sim)\n",
    "\n",
    "e1_ = avg_emb_g(s1, DIM)\n",
    "e2_ = avg_emb_g(s2, DIM)\n",
    "print(\"By average: \", dot(e1_, e2_)/(norm(e1_)*norm(e2_)))"
   ]
  },
  {
   "cell_type": "markdown",
   "id": "primary-checkout",
   "metadata": {},
   "source": [
    "##### Phrases detection  "
   ]
  },
  {
   "cell_type": "code",
   "execution_count": null,
   "id": "eleven-equity",
   "metadata": {},
   "outputs": [],
   "source": [
    "embeddings_index['water resistant']"
   ]
  },
  {
   "cell_type": "markdown",
   "id": "knowing-midwest",
   "metadata": {},
   "source": [
    "### Glove - custom train on e-comm data"
   ]
  },
  {
   "cell_type": "code",
   "execution_count": null,
   "id": "known-imagination",
   "metadata": {},
   "outputs": [],
   "source": [
    "from glove import Corpus, Glove"
   ]
  },
  {
   "cell_type": "code",
   "execution_count": 1389,
   "id": "rocky-belarus",
   "metadata": {},
   "outputs": [],
   "source": [
    "corpus = pd.read_csv('processed_Dtrain_4f.csv')\n",
    "\n",
    "corpus['title'] = [ '' if x is np.NaN else x for x in corpus['title'] ]\n",
    "corpus['match_title'] = [ '' if x is np.NaN else x for x in corpus['match_title'] ]\n",
    "corpus['description'] = [ '' if x is np.NaN else x for x in corpus['description'] ]\n",
    "corpus['match_description'] = [ '' if x is np.NaN else x for x in corpus['match_description'] ]\n",
    "corpus['color'] = [ '' if x is np.NaN else x for x in corpus['color'] ]"
   ]
  },
  {
   "cell_type": "code",
   "execution_count": 1390,
   "id": "considered-discipline",
   "metadata": {},
   "outputs": [],
   "source": [
    "import nltk\n",
    "from nltk.tokenize import word_tokenize\n",
    "\n",
    "corpus['title'] = corpus.apply(lambda row: nltk.word_tokenize(row['title']), axis=1)\n",
    "corpus['match_title'] = corpus.apply(lambda row: nltk.word_tokenize(row['match_title']), axis=1)\n",
    "corpus['description'] = corpus.apply(lambda row: nltk.word_tokenize(row['description']), axis=1)\n",
    "corpus['match_description'] = corpus.apply(lambda row: nltk.word_tokenize(row['match_description']), axis=1)\n",
    "corpus['color'] = corpus.apply(lambda row: nltk.word_tokenize(row['color']), axis=1)"
   ]
  },
  {
   "cell_type": "code",
   "execution_count": 1391,
   "id": "medieval-expression",
   "metadata": {},
   "outputs": [],
   "source": [
    "sentences = []\n",
    "for row in corpus['title']:\n",
    "    sentences.append(list(row))\n",
    "    \n",
    "for row in corpus['match_title']:\n",
    "    sentences.append(list(row))\n",
    "\n",
    "for row in corpus['description']:\n",
    "    sentences.append(list(row))\n",
    "    \n",
    "for row in corpus['match_description']:\n",
    "    sentences.append(list(row))\n",
    "    \n",
    "for row in corpus['color']:\n",
    "    sentences.append(list(row))"
   ]
  },
  {
   "cell_type": "code",
   "execution_count": 1392,
   "id": "caroline-activation",
   "metadata": {},
   "outputs": [
    {
     "data": {
      "text/plain": [
       "1540205"
      ]
     },
     "execution_count": 1392,
     "metadata": {},
     "output_type": "execute_result"
    }
   ],
   "source": [
    "len(sentences)"
   ]
  },
  {
   "cell_type": "code",
   "execution_count": 1394,
   "id": "controlling-biodiversity",
   "metadata": {},
   "outputs": [],
   "source": [
    "from gensim.scripts.glove2word2vec import glove2word2vec\n",
    "from gensim.test.utils import get_tmpfile\n",
    "from gensim.models import KeyedVectors"
   ]
  },
  {
   "cell_type": "code",
   "execution_count": 1395,
   "id": "architectural-insight",
   "metadata": {},
   "outputs": [],
   "source": [
    "glove_file = './glove.6B.100d.txt'"
   ]
  },
  {
   "cell_type": "code",
   "execution_count": 1397,
   "id": "prescribed-stations",
   "metadata": {},
   "outputs": [],
   "source": [
    "tmp_file = get_tmpfile(\"test_word2vec.txt\")\n",
    "\n",
    "_ = glove2word2vec(glove_file, tmp_file)\n",
    "\n",
    "glove_vectors = KeyedVectors.load_word2vec_format(tmp_file)"
   ]
  },
  {
   "cell_type": "code",
   "execution_count": 1398,
   "id": "solved-satin",
   "metadata": {},
   "outputs": [],
   "source": [
    "# build a word2vec model on your dataset \n",
    "\n",
    "base_model = Word2Vec(size=200, min_count=1)\n",
    "base_model.build_vocab(sentences)  ## our custom dataset\n",
    "total_examples = base_model.corpus_count"
   ]
  },
  {
   "cell_type": "code",
   "execution_count": 1400,
   "id": "artistic-polish",
   "metadata": {},
   "outputs": [],
   "source": [
    "# add GloVe's vocabulary & weights\n",
    "base_model.build_vocab([list(glove_vectors.vocab.keys())], update=True)\n",
    "\n",
    "# train on your data\n",
    "base_model.train(sentences, total_examples=total_examples, epochs=base_model.epochs)\n",
    "base_model_wv = base_model.wv"
   ]
  },
  {
   "cell_type": "code",
   "execution_count": 1401,
   "id": "adopted-algebra",
   "metadata": {},
   "outputs": [
    {
     "data": {
      "text/plain": [
       "451771"
      ]
     },
     "execution_count": 1401,
     "metadata": {},
     "output_type": "execute_result"
    }
   ],
   "source": [
    "len(base_model_wv.vocab)"
   ]
  },
  {
   "cell_type": "code",
   "execution_count": 1415,
   "id": "bottom-stick",
   "metadata": {},
   "outputs": [],
   "source": [
    "DIM = 200"
   ]
  },
  {
   "cell_type": "code",
   "execution_count": 1512,
   "id": "purple-level",
   "metadata": {},
   "outputs": [],
   "source": [
    "s1 = \"Salt Water Sandals by Hoy Original Sandal (Baby, Walker, Toddler, Little Kid & Big Kid) SHINY YELLOW Little Kid 2 M\"\n",
    "s2 = \"Salt Water Sandals by Hoy Shoe The Original Sandal Shiny Yellow 1 Little Kid\""
   ]
  },
  {
   "cell_type": "code",
   "execution_count": 1523,
   "id": "municipal-english",
   "metadata": {},
   "outputs": [],
   "source": [
    "e1 = sen_emb_g(s1) \n",
    "e2 = sen_emb_g(s2)"
   ]
  },
  {
   "cell_type": "code",
   "execution_count": 1524,
   "id": "south-classification",
   "metadata": {},
   "outputs": [],
   "source": [
    "e1, e2 = pad_emb(e1, e2, DIM)"
   ]
  },
  {
   "cell_type": "code",
   "execution_count": 1525,
   "id": "automotive-brain",
   "metadata": {},
   "outputs": [
    {
     "name": "stdout",
     "output_type": "stream",
     "text": [
      "0.2848395999882002\n"
     ]
    }
   ],
   "source": [
    "cos_sim = dot(e1, e2)/(norm(e1)*norm(e2))\n",
    "print(cos_sim)"
   ]
  },
  {
   "cell_type": "code",
   "execution_count": 1531,
   "id": "behavioral-palestinian",
   "metadata": {},
   "outputs": [],
   "source": [
    "e1_ = avg_emb_g(s1, DIM)\n",
    "e2_ = avg_emb_g(s2, DIM)"
   ]
  },
  {
   "cell_type": "code",
   "execution_count": 1532,
   "id": "crude-authorization",
   "metadata": {},
   "outputs": [
    {
     "name": "stdout",
     "output_type": "stream",
     "text": [
      "1.0000001\n"
     ]
    }
   ],
   "source": [
    "cos_sim = dot(e1_, e2_)/(norm(e1_)*norm(e2_))\n",
    "print(cos_sim)"
   ]
  },
  {
   "cell_type": "code",
   "execution_count": 1546,
   "id": "cross-dealing",
   "metadata": {},
   "outputs": [
    {
     "data": {
      "text/plain": [
       "0.49098107"
      ]
     },
     "execution_count": 1546,
     "metadata": {},
     "output_type": "execute_result"
    }
   ],
   "source": [
    "base_model_wv.similarity('jacket', 'coat')"
   ]
  },
  {
   "cell_type": "code",
   "execution_count": 1561,
   "id": "directed-chicken",
   "metadata": {},
   "outputs": [
    {
     "name": "stdout",
     "output_type": "stream",
     "text": [
      "By concatenation:  -2.8504344761133525e-06\n",
      "By average:  1.0000001\n"
     ]
    }
   ],
   "source": [
    "a1 = \"2m size shirt\" \n",
    "a2 = \"shirt\"\n",
    "\n",
    "e1 = sen_emb_g(a1) \n",
    "e2 = sen_emb_g(a2)\n",
    "\n",
    "e1, e2 = pad_emb(e1, e2, DIM)\n",
    "\n",
    "cos_sim = dot(e1, e2)/(norm(e1)*norm(e2))\n",
    "print(\"By concatenation: \", cos_sim)\n",
    "\n",
    "e1_ = avg_emb_g(s1, DIM)\n",
    "e2_ = avg_emb_g(s2, DIM)\n",
    "print(\"By average: \", dot(e1_, e2_)/(norm(e1_)*norm(e2_)))"
   ]
  },
  {
   "cell_type": "code",
   "execution_count": 1574,
   "id": "affected-hospital",
   "metadata": {},
   "outputs": [
    {
     "data": {
      "text/plain": [
       "0.61495805"
      ]
     },
     "execution_count": 1574,
     "metadata": {},
     "output_type": "execute_result"
    }
   ],
   "source": [
    "base_model_wv.similarity('shoe', 'shoes')"
   ]
  },
  {
   "cell_type": "code",
   "execution_count": 1578,
   "id": "adjacent-portfolio",
   "metadata": {},
   "outputs": [
    {
     "name": "stdout",
     "output_type": "stream",
     "text": [
      "By concatenation:  0.9780601484327588\n",
      "By average:  1.0000001\n"
     ]
    }
   ],
   "source": [
    "a1 = \"river bank holds surprises for people\" \n",
    "a2 = \"Federal bank holds surprise for people\"\n",
    "\n",
    "e1 = sen_emb_g(a1) \n",
    "e2 = sen_emb_g(a2)\n",
    "\n",
    "e1, e2 = pad_emb(e1, e2, DIM)\n",
    "\n",
    "cos_sim = dot(e1, e2)/(norm(e1)*norm(e2))\n",
    "print(\"By concatenation: \", cos_sim)\n",
    "\n",
    "e1_ = avg_emb_g(s1, DIM)\n",
    "e2_ = avg_emb_g(s2, DIM)\n",
    "print(\"By average: \", dot(e1_, e2_)/(norm(e1_)*norm(e2_)))"
   ]
  },
  {
   "cell_type": "code",
   "execution_count": null,
   "id": "bronze-review",
   "metadata": {},
   "outputs": [],
   "source": [
    "base_model_wv['wireless charger']"
   ]
  },
  {
   "cell_type": "markdown",
   "id": "seventh-specialist",
   "metadata": {},
   "source": [
    "### Wor2Vec custom trained "
   ]
  },
  {
   "cell_type": "code",
   "execution_count": 1589,
   "id": "elder-ozone",
   "metadata": {},
   "outputs": [
    {
     "data": {
      "text/plain": [
       "(830790695, 982184550)"
      ]
     },
     "execution_count": 1589,
     "metadata": {},
     "output_type": "execute_result"
    }
   ],
   "source": [
    "model = Word2Vec(sentences, min_count=1, size=200, workers=10, window=9, iter=30)\n",
    "model.train(sentences, total_examples=len(sentences), epochs=30)"
   ]
  },
  {
   "cell_type": "code",
   "execution_count": 1590,
   "id": "fleet-going",
   "metadata": {},
   "outputs": [
    {
     "data": {
      "text/plain": [
       "89813"
      ]
     },
     "execution_count": 1590,
     "metadata": {},
     "output_type": "execute_result"
    }
   ],
   "source": [
    "model.save(\"word2vec_200d_w9_m1.model\")\n",
    "len(model.wv.vocab)"
   ]
  },
  {
   "cell_type": "code",
   "execution_count": 1733,
   "id": "daily-symphony",
   "metadata": {},
   "outputs": [],
   "source": [
    "model = Word2Vec.load(\"word2vec_100d_w9_m1.model\")"
   ]
  },
  {
   "cell_type": "code",
   "execution_count": 1734,
   "id": "direct-tolerance",
   "metadata": {},
   "outputs": [
    {
     "name": "stderr",
     "output_type": "stream",
     "text": [
      "C:\\Users\\Akshay\\.conda\\envs\\pytorchenv\\lib\\site-packages\\ipykernel_launcher.py:1: DeprecationWarning: Call to deprecated `__getitem__` (Method will be removed in 4.0.0, use self.wv.__getitem__() instead).\n",
      "  \"\"\"Entry point for launching an IPython kernel.\n"
     ]
    },
    {
     "data": {
      "text/plain": [
       "(100,)"
      ]
     },
     "execution_count": 1734,
     "metadata": {},
     "output_type": "execute_result"
    }
   ],
   "source": [
    "model['laptop'].shape"
   ]
  },
  {
   "cell_type": "code",
   "execution_count": 1735,
   "id": "honey-facility",
   "metadata": {},
   "outputs": [],
   "source": [
    "DIM = 100"
   ]
  },
  {
   "cell_type": "markdown",
   "id": "gentle-lithuania",
   "metadata": {},
   "source": [
    "##### sentence similarity"
   ]
  },
  {
   "cell_type": "code",
   "execution_count": 1809,
   "id": "aerial-flavor",
   "metadata": {},
   "outputs": [],
   "source": [
    "s1 = \"Jo Malone London™ Dark Amber & Ginger Lily Scented Home Candle NO COLOR  7 oz\"\n",
    "s2 = \"Jo Malone London Dark Amber & Ginger Lily Home Candle\""
   ]
  },
  {
   "cell_type": "code",
   "execution_count": 1810,
   "id": "needed-seeker",
   "metadata": {},
   "outputs": [
    {
     "name": "stderr",
     "output_type": "stream",
     "text": [
      "C:\\Users\\Akshay\\.conda\\envs\\pytorchenv\\lib\\site-packages\\ipykernel_launcher.py:27: DeprecationWarning: Call to deprecated `__getitem__` (Method will be removed in 4.0.0, use self.wv.__getitem__() instead).\n"
     ]
    }
   ],
   "source": [
    "e1 = sen_emb(s1) \n",
    "e2 = sen_emb(s2)"
   ]
  },
  {
   "cell_type": "code",
   "execution_count": 1811,
   "id": "alternative-eagle",
   "metadata": {},
   "outputs": [],
   "source": [
    "e1, e2 = pad_emb(e1, e2, DIM)"
   ]
  },
  {
   "cell_type": "code",
   "execution_count": 1812,
   "id": "specified-dublin",
   "metadata": {},
   "outputs": [
    {
     "name": "stdout",
     "output_type": "stream",
     "text": [
      "0.5253544213039529\n"
     ]
    }
   ],
   "source": [
    "cos_sim = dot(e1, e2)/(norm(e1)*norm(e2))\n",
    "print(cos_sim)"
   ]
  },
  {
   "cell_type": "code",
   "execution_count": 1813,
   "id": "moral-specialist",
   "metadata": {},
   "outputs": [
    {
     "name": "stderr",
     "output_type": "stream",
     "text": [
      "C:\\Users\\Akshay\\.conda\\envs\\pytorchenv\\lib\\site-packages\\ipykernel_launcher.py:13: DeprecationWarning: Call to deprecated `__getitem__` (Method will be removed in 4.0.0, use self.wv.__getitem__() instead).\n",
      "  del sys.path[0]\n"
     ]
    }
   ],
   "source": [
    "e1_ = avg_emb(s1, DIM)\n",
    "e2_ = avg_emb(s2, DIM)"
   ]
  },
  {
   "cell_type": "code",
   "execution_count": 1814,
   "id": "devoted-merchant",
   "metadata": {},
   "outputs": [
    {
     "name": "stdout",
     "output_type": "stream",
     "text": [
      "1.0000001\n"
     ]
    }
   ],
   "source": [
    "cos_sim = dot(e1_, e2_)/(norm(e1_)*norm(e2_))\n",
    "print(cos_sim)"
   ]
  },
  {
   "cell_type": "markdown",
   "id": "radio-western",
   "metadata": {},
   "source": [
    "##### word similarity"
   ]
  },
  {
   "cell_type": "code",
   "execution_count": 1819,
   "id": "quantitative-sword",
   "metadata": {},
   "outputs": [
    {
     "name": "stderr",
     "output_type": "stream",
     "text": [
      "C:\\Users\\Akshay\\.conda\\envs\\pytorchenv\\lib\\site-packages\\ipykernel_launcher.py:1: DeprecationWarning: Call to deprecated `similarity` (Method will be removed in 4.0.0, use self.wv.similarity() instead).\n",
      "  \"\"\"Entry point for launching an IPython kernel.\n"
     ]
    },
    {
     "data": {
      "text/plain": [
       "0.0066966154"
      ]
     },
     "execution_count": 1819,
     "metadata": {},
     "output_type": "execute_result"
    }
   ],
   "source": [
    "model.similarity(\"see\", \"sea\")"
   ]
  },
  {
   "cell_type": "markdown",
   "id": "composite-garbage",
   "metadata": {},
   "source": [
    "##### alpha-numeric words"
   ]
  },
  {
   "cell_type": "code",
   "execution_count": 1823,
   "id": "detailed-shame",
   "metadata": {},
   "outputs": [
    {
     "name": "stdout",
     "output_type": "stream",
     "text": [
      "By concatenation:  -0.006502402036809093\n",
      "By average:  1.0\n"
     ]
    },
    {
     "name": "stderr",
     "output_type": "stream",
     "text": [
      "C:\\Users\\Akshay\\.conda\\envs\\pytorchenv\\lib\\site-packages\\ipykernel_launcher.py:27: DeprecationWarning: Call to deprecated `__getitem__` (Method will be removed in 4.0.0, use self.wv.__getitem__() instead).\n",
      "C:\\Users\\Akshay\\.conda\\envs\\pytorchenv\\lib\\site-packages\\ipykernel_launcher.py:13: DeprecationWarning: Call to deprecated `__getitem__` (Method will be removed in 4.0.0, use self.wv.__getitem__() instead).\n",
      "  del sys.path[0]\n"
     ]
    }
   ],
   "source": [
    "a1 = \"2M size shirt\" \n",
    "a2 = \"shirt\"\n",
    "\n",
    "e1 = sen_emb(a1) \n",
    "e2 = sen_emb(a2)\n",
    "\n",
    "e1, e2 = pad_emb(e1, e2, DIM)\n",
    "\n",
    "cos_sim = dot(e1, e2)/(norm(e1)*norm(e2))\n",
    "print(\"By concatenation: \", cos_sim)\n",
    "\n",
    "e1_ = avg_emb(s1, DIM)\n",
    "e2_ = avg_emb(s2, DIM)\n",
    "print(\"By average: \", dot(e1_, e2_)/(norm(e1_)*norm(e2_)))"
   ]
  },
  {
   "cell_type": "markdown",
   "id": "latin-principal",
   "metadata": {},
   "source": [
    "##### spell mistakes"
   ]
  },
  {
   "cell_type": "code",
   "execution_count": null,
   "id": "romance-armenia",
   "metadata": {},
   "outputs": [],
   "source": [
    "model['jecket']"
   ]
  },
  {
   "cell_type": "markdown",
   "id": "geological-nelson",
   "metadata": {},
   "source": [
    "##### prefix / suffix "
   ]
  },
  {
   "cell_type": "code",
   "execution_count": null,
   "id": "separate-entertainment",
   "metadata": {},
   "outputs": [],
   "source": [
    "model.similarity(\"shirt\", \"shirtless\")"
   ]
  },
  {
   "cell_type": "markdown",
   "id": "accomplished-clearing",
   "metadata": {},
   "source": [
    "##### singular / plural"
   ]
  },
  {
   "cell_type": "code",
   "execution_count": 1832,
   "id": "honest-college",
   "metadata": {},
   "outputs": [
    {
     "name": "stderr",
     "output_type": "stream",
     "text": [
      "C:\\Users\\Akshay\\.conda\\envs\\pytorchenv\\lib\\site-packages\\ipykernel_launcher.py:1: DeprecationWarning: Call to deprecated `similarity` (Method will be removed in 4.0.0, use self.wv.similarity() instead).\n",
      "  \"\"\"Entry point for launching an IPython kernel.\n"
     ]
    },
    {
     "data": {
      "text/plain": [
       "0.224303"
      ]
     },
     "execution_count": 1832,
     "metadata": {},
     "output_type": "execute_result"
    }
   ],
   "source": [
    "model.similarity(\"child\", \"children\")"
   ]
  },
  {
   "cell_type": "markdown",
   "id": "massive-simulation",
   "metadata": {},
   "source": [
    "##### Context check"
   ]
  },
  {
   "cell_type": "code",
   "execution_count": 1834,
   "id": "abroad-casino",
   "metadata": {},
   "outputs": [
    {
     "name": "stdout",
     "output_type": "stream",
     "text": [
      "By concatenation:  0.8781490852586474\n",
      "By average:  1.0\n"
     ]
    },
    {
     "name": "stderr",
     "output_type": "stream",
     "text": [
      "C:\\Users\\Akshay\\.conda\\envs\\pytorchenv\\lib\\site-packages\\ipykernel_launcher.py:27: DeprecationWarning: Call to deprecated `__getitem__` (Method will be removed in 4.0.0, use self.wv.__getitem__() instead).\n",
      "C:\\Users\\Akshay\\.conda\\envs\\pytorchenv\\lib\\site-packages\\ipykernel_launcher.py:13: DeprecationWarning: Call to deprecated `__getitem__` (Method will be removed in 4.0.0, use self.wv.__getitem__() instead).\n",
      "  del sys.path[0]\n"
     ]
    }
   ],
   "source": [
    "s1 = \"I bought a Apple PC on sale\"\n",
    "s2 = \"I bought a Apple fruit on sale\"\n",
    "\n",
    "e1 = sen_emb(s1) \n",
    "e2 = sen_emb(s2)\n",
    "\n",
    "e1, e2 = pad_emb(e1, e2, DIM)\n",
    "\n",
    "cos_sim = dot(e1, e2)/(norm(e1)*norm(e2))\n",
    "print(\"By concatenation: \", cos_sim)\n",
    "\n",
    "e1_ = avg_emb(s1, DIM)\n",
    "e2_ = avg_emb(s2, DIM)\n",
    "print(\"By average: \", dot(e1_, e2_)/(norm(e1_)*norm(e2_)))"
   ]
  },
  {
   "cell_type": "markdown",
   "id": "solar-civilization",
   "metadata": {},
   "source": [
    "##### phrases detection"
   ]
  },
  {
   "cell_type": "code",
   "execution_count": null,
   "id": "practical-seafood",
   "metadata": {},
   "outputs": [],
   "source": [
    "model[\"new york\"]"
   ]
  },
  {
   "cell_type": "markdown",
   "id": "sufficient-mechanics",
   "metadata": {},
   "source": [
    "#### Bi-gram / tri-gram"
   ]
  },
  {
   "cell_type": "code",
   "execution_count": 1837,
   "id": "mental-essence",
   "metadata": {},
   "outputs": [],
   "source": [
    "from gensim.test.utils import common_texts\n",
    "from gensim.models.phrases import Phraser, Phrases"
   ]
  },
  {
   "cell_type": "code",
   "execution_count": 1838,
   "id": "supported-controversy",
   "metadata": {},
   "outputs": [],
   "source": [
    "common_terms = [\"of\", \"with\", \"without\", \"and\", \"or\", \"the\", \"a\"]"
   ]
  },
  {
   "cell_type": "code",
   "execution_count": 1839,
   "id": "promising-scoop",
   "metadata": {},
   "outputs": [],
   "source": [
    "phrases = Phrases(sentences, common_terms=common_terms)"
   ]
  },
  {
   "cell_type": "code",
   "execution_count": 1840,
   "id": "yellow-gabriel",
   "metadata": {},
   "outputs": [],
   "source": [
    "bigram = Phraser(phrases)\n",
    "# Applying the Phraser to transform the sentences\n",
    "\n",
    "all_sentences = list(bigram[sentences])"
   ]
  },
  {
   "cell_type": "code",
   "execution_count": 1924,
   "id": "foreign-practitioner",
   "metadata": {},
   "outputs": [
    {
     "data": {
      "text/plain": [
       "1540205"
      ]
     },
     "execution_count": 1924,
     "metadata": {},
     "output_type": "execute_result"
    }
   ],
   "source": [
    "len(all_sentences)"
   ]
  },
  {
   "cell_type": "code",
   "execution_count": 1841,
   "id": "occupational-fellowship",
   "metadata": {},
   "outputs": [
    {
     "name": "stdout",
     "output_type": "stream",
     "text": [
      "[['theory', 'silk', 'shell', 'top', 'ivory', 'small'], ['chantelle_lingerie', 'c_magnifique', 'seamless_unlined', 'minimizer_bra', 'ivory', 'd'], ['rag_and_bone', 'rag_and_bone', 'shiloh_combat', 'boot', 'women', 'black', 'us_eu'], ['bixbee', 'kitty', 'water_resistant', 'lunchbox', 'kids', 'pink', 'little', 'girl', 'one', 'size']]\n"
     ]
    }
   ],
   "source": [
    "print(all_sentences[0:4])"
   ]
  },
  {
   "cell_type": "code",
   "execution_count": 1842,
   "id": "tracked-julian",
   "metadata": {},
   "outputs": [],
   "source": [
    "model = Word2Vec(all_sentences, min_count=1, size=100, workers=10, window=9, iter=30)"
   ]
  },
  {
   "cell_type": "code",
   "execution_count": 1843,
   "id": "entitled-essence",
   "metadata": {},
   "outputs": [
    {
     "data": {
      "text/plain": [
       "155890"
      ]
     },
     "execution_count": 1843,
     "metadata": {},
     "output_type": "execute_result"
    }
   ],
   "source": [
    "len(model.wv.vocab)"
   ]
  },
  {
   "cell_type": "code",
   "execution_count": 1844,
   "id": "defensive-farming",
   "metadata": {},
   "outputs": [
    {
     "name": "stderr",
     "output_type": "stream",
     "text": [
      "C:\\Users\\Akshay\\.conda\\envs\\pytorchenv\\lib\\site-packages\\ipykernel_launcher.py:1: DeprecationWarning: Call to deprecated `__getitem__` (Method will be removed in 4.0.0, use self.wv.__getitem__() instead).\n",
      "  \"\"\"Entry point for launching an IPython kernel.\n"
     ]
    },
    {
     "data": {
      "text/plain": [
       "(100,)"
      ]
     },
     "execution_count": 1844,
     "metadata": {},
     "output_type": "execute_result"
    }
   ],
   "source": [
    "model['laptop'].shape"
   ]
  },
  {
   "cell_type": "code",
   "execution_count": 1845,
   "id": "korean-favorite",
   "metadata": {},
   "outputs": [],
   "source": [
    "DIM = 100"
   ]
  },
  {
   "cell_type": "code",
   "execution_count": 1885,
   "id": "potential-harmony",
   "metadata": {},
   "outputs": [],
   "source": [
    "s1 = \"Salt Water Sandals by Hoy Original Sandal (Baby, Walker, Toddler, Little Kid & Big Kid) SHINY YELLOW Little Kid 2 M\"\n",
    "s2 = \"Salt Water Sandals by Hoy Shoe The Original Sandal Shiny Yellow 1 Little Kid\""
   ]
  },
  {
   "cell_type": "code",
   "execution_count": 1886,
   "id": "guided-nothing",
   "metadata": {},
   "outputs": [
    {
     "name": "stderr",
     "output_type": "stream",
     "text": [
      "C:\\Users\\Akshay\\.conda\\envs\\pytorchenv\\lib\\site-packages\\ipykernel_launcher.py:27: DeprecationWarning: Call to deprecated `__getitem__` (Method will be removed in 4.0.0, use self.wv.__getitem__() instead).\n"
     ]
    }
   ],
   "source": [
    "e1 = sen_emb(s1) \n",
    "e2 = sen_emb(s2)"
   ]
  },
  {
   "cell_type": "code",
   "execution_count": 1887,
   "id": "collect-eligibility",
   "metadata": {},
   "outputs": [],
   "source": [
    "e1, e2 = pad_emb(e1, e2, DIM)"
   ]
  },
  {
   "cell_type": "code",
   "execution_count": 1888,
   "id": "entire-inspector",
   "metadata": {},
   "outputs": [
    {
     "name": "stdout",
     "output_type": "stream",
     "text": [
      "0.30279343493163263\n"
     ]
    }
   ],
   "source": [
    "cos_sim = dot(e1, e2)/(norm(e1)*norm(e2))\n",
    "print(cos_sim)"
   ]
  },
  {
   "cell_type": "code",
   "execution_count": 1889,
   "id": "inappropriate-infrared",
   "metadata": {},
   "outputs": [
    {
     "name": "stderr",
     "output_type": "stream",
     "text": [
      "C:\\Users\\Akshay\\.conda\\envs\\pytorchenv\\lib\\site-packages\\ipykernel_launcher.py:13: DeprecationWarning: Call to deprecated `__getitem__` (Method will be removed in 4.0.0, use self.wv.__getitem__() instead).\n",
      "  del sys.path[0]\n"
     ]
    }
   ],
   "source": [
    "e1_ = avg_emb(s1, DIM)\n",
    "e2_ = avg_emb(s2, DIM)"
   ]
  },
  {
   "cell_type": "code",
   "execution_count": 1890,
   "id": "constant-america",
   "metadata": {},
   "outputs": [
    {
     "name": "stdout",
     "output_type": "stream",
     "text": [
      "0.9999999\n"
     ]
    }
   ],
   "source": [
    "cos_sim = dot(e1_, e2_)/(norm(e1_)*norm(e2_))\n",
    "print(cos_sim)"
   ]
  },
  {
   "cell_type": "code",
   "execution_count": 1895,
   "id": "authentic-algorithm",
   "metadata": {},
   "outputs": [
    {
     "name": "stderr",
     "output_type": "stream",
     "text": [
      "C:\\Users\\Akshay\\.conda\\envs\\pytorchenv\\lib\\site-packages\\ipykernel_launcher.py:1: DeprecationWarning: Call to deprecated `similarity` (Method will be removed in 4.0.0, use self.wv.similarity() instead).\n",
      "  \"\"\"Entry point for launching an IPython kernel.\n"
     ]
    },
    {
     "data": {
      "text/plain": [
       "0.6956452"
      ]
     },
     "execution_count": 1895,
     "metadata": {},
     "output_type": "execute_result"
    }
   ],
   "source": [
    "model.similarity(\"sneaker\", \"shoe\")"
   ]
  },
  {
   "cell_type": "code",
   "execution_count": 1897,
   "id": "perceived-style",
   "metadata": {},
   "outputs": [
    {
     "name": "stdout",
     "output_type": "stream",
     "text": [
      "By concatenation:  0.01699504935929986\n",
      "By average:  0.9999999\n"
     ]
    },
    {
     "name": "stderr",
     "output_type": "stream",
     "text": [
      "C:\\Users\\Akshay\\.conda\\envs\\pytorchenv\\lib\\site-packages\\ipykernel_launcher.py:27: DeprecationWarning: Call to deprecated `__getitem__` (Method will be removed in 4.0.0, use self.wv.__getitem__() instead).\n",
      "C:\\Users\\Akshay\\.conda\\envs\\pytorchenv\\lib\\site-packages\\ipykernel_launcher.py:13: DeprecationWarning: Call to deprecated `__getitem__` (Method will be removed in 4.0.0, use self.wv.__getitem__() instead).\n",
      "  del sys.path[0]\n"
     ]
    }
   ],
   "source": [
    "a1 = \"3 ½ Pillow\" \n",
    "a2 = \"3.5 Pillow\"\n",
    "\n",
    "e1 = sen_emb(a1) \n",
    "e2 = sen_emb(a2)\n",
    "\n",
    "e1, e2 = pad_emb(e1, e2, DIM)\n",
    "\n",
    "cos_sim = dot(e1, e2)/(norm(e1)*norm(e2))\n",
    "print(\"By concatenation: \", cos_sim)\n",
    "\n",
    "e1_ = avg_emb(s1, DIM)\n",
    "e2_ = avg_emb(s2, DIM)\n",
    "print(\"By average: \", dot(e1_, e2_)/(norm(e1_)*norm(e2_)))"
   ]
  },
  {
   "cell_type": "code",
   "execution_count": null,
   "id": "regional-destruction",
   "metadata": {},
   "outputs": [],
   "source": [
    "model['jecket']"
   ]
  },
  {
   "cell_type": "code",
   "execution_count": 1904,
   "id": "broke-sport",
   "metadata": {},
   "outputs": [
    {
     "name": "stderr",
     "output_type": "stream",
     "text": [
      "C:\\Users\\Akshay\\.conda\\envs\\pytorchenv\\lib\\site-packages\\ipykernel_launcher.py:1: DeprecationWarning: Call to deprecated `similarity` (Method will be removed in 4.0.0, use self.wv.similarity() instead).\n",
      "  \"\"\"Entry point for launching an IPython kernel.\n"
     ]
    },
    {
     "data": {
      "text/plain": [
       "0.04212213"
      ]
     },
     "execution_count": 1904,
     "metadata": {},
     "output_type": "execute_result"
    }
   ],
   "source": [
    "model.similarity(\"clean\", \"cleaner\")"
   ]
  },
  {
   "cell_type": "code",
   "execution_count": 1908,
   "id": "inclusive-dispatch",
   "metadata": {},
   "outputs": [
    {
     "name": "stderr",
     "output_type": "stream",
     "text": [
      "C:\\Users\\Akshay\\.conda\\envs\\pytorchenv\\lib\\site-packages\\ipykernel_launcher.py:1: DeprecationWarning: Call to deprecated `similarity` (Method will be removed in 4.0.0, use self.wv.similarity() instead).\n",
      "  \"\"\"Entry point for launching an IPython kernel.\n"
     ]
    },
    {
     "data": {
      "text/plain": [
       "0.6647383"
      ]
     },
     "execution_count": 1908,
     "metadata": {},
     "output_type": "execute_result"
    }
   ],
   "source": [
    "model.similarity(\"shoe\", \"shoes\")"
   ]
  },
  {
   "cell_type": "code",
   "execution_count": 1910,
   "id": "failing-converter",
   "metadata": {},
   "outputs": [
    {
     "name": "stdout",
     "output_type": "stream",
     "text": [
      "By concatenation:  0.9065869478833567\n",
      "By average:  0.9934628\n"
     ]
    },
    {
     "name": "stderr",
     "output_type": "stream",
     "text": [
      "C:\\Users\\Akshay\\.conda\\envs\\pytorchenv\\lib\\site-packages\\ipykernel_launcher.py:27: DeprecationWarning: Call to deprecated `__getitem__` (Method will be removed in 4.0.0, use self.wv.__getitem__() instead).\n",
      "C:\\Users\\Akshay\\.conda\\envs\\pytorchenv\\lib\\site-packages\\ipykernel_launcher.py:13: DeprecationWarning: Call to deprecated `__getitem__` (Method will be removed in 4.0.0, use self.wv.__getitem__() instead).\n",
      "  del sys.path[0]\n"
     ]
    }
   ],
   "source": [
    "s1 = \"river bank holds surprises for people\"\n",
    "s2 = \"Federal bank holds surprise for people\"\n",
    "\n",
    "e1 = sen_emb(s1) \n",
    "e2 = sen_emb(s2)\n",
    "\n",
    "e1, e2 = pad_emb(e1, e2, DIM)\n",
    "\n",
    "cos_sim = dot(e1, e2)/(norm(e1)*norm(e2))\n",
    "print(\"By concatenation: \", cos_sim)\n",
    "\n",
    "e1_ = avg_emb(s1, DIM)\n",
    "e2_ = avg_emb(s2, DIM)\n",
    "print(\"By average: \", dot(e1_, e2_)/(norm(e1_)*norm(e2_)))"
   ]
  },
  {
   "cell_type": "code",
   "execution_count": 1921,
   "id": "about-river",
   "metadata": {},
   "outputs": [
    {
     "name": "stderr",
     "output_type": "stream",
     "text": [
      "C:\\Users\\Akshay\\.conda\\envs\\pytorchenv\\lib\\site-packages\\ipykernel_launcher.py:1: DeprecationWarning: Call to deprecated `similarity` (Method will be removed in 4.0.0, use self.wv.similarity() instead).\n",
      "  \"\"\"Entry point for launching an IPython kernel.\n"
     ]
    },
    {
     "data": {
      "text/plain": [
       "0.5979278"
      ]
     },
     "execution_count": 1921,
     "metadata": {},
     "output_type": "execute_result"
    }
   ],
   "source": [
    "model.similarity(\"wireless_charger\", \"charger\")"
   ]
  },
  {
   "cell_type": "code",
   "execution_count": null,
   "id": "allied-genetics",
   "metadata": {},
   "outputs": [],
   "source": []
  },
  {
   "cell_type": "code",
   "execution_count": null,
   "id": "streaming-district",
   "metadata": {},
   "outputs": [],
   "source": []
  },
  {
   "cell_type": "code",
   "execution_count": null,
   "id": "literary-sterling",
   "metadata": {},
   "outputs": [],
   "source": []
  },
  {
   "cell_type": "code",
   "execution_count": 1409,
   "id": "detected-kuwait",
   "metadata": {},
   "outputs": [],
   "source": [
    "def sen_emb_g(sen):\n",
    "    # pre-process the sentence\n",
    "    sen = sen.replace('-',' ')\n",
    "    sen = sen.replace('/',' ')\n",
    "    sen = remove_special_chars(sen)\n",
    "    sen = sen.replace('&','and')\n",
    "    sen = sen.lower()\n",
    "    \n",
    "    ## split the sen to list of words\n",
    "    words = sen.split()\n",
    "    \n",
    "    emb = []\n",
    "    emb = np.array(emb)\n",
    "        \n",
    "\n",
    "    for word in words:\n",
    "        try:\n",
    "            vec = base_model_wv[word]\n",
    "        \n",
    "        except KeyError:\n",
    "            continue\n",
    "    \n",
    "        emb = np.concatenate([emb, vec])\n",
    "        \n",
    "    return emb    "
   ]
  },
  {
   "cell_type": "code",
   "execution_count": 1410,
   "id": "north-chicken",
   "metadata": {},
   "outputs": [],
   "source": [
    "def avg_emb_g(sen, dim):\n",
    "    sen = sen.replace('-',' ')\n",
    "    sen = sen.replace('/',' ')\n",
    "    sen = remove_special_chars(sen)\n",
    "    sen = sen.replace('&','and')\n",
    "    sen = sen.lower()\n",
    "    words = sen.split()\n",
    "    \n",
    "    vec = np.zeros(dim)\n",
    "    \n",
    "    for word in words:\n",
    "        try:\n",
    "            v = base_model_wv[word]\n",
    "        except KeyError:\n",
    "            continue\n",
    "            \n",
    "        v.setflags(write=1) \n",
    "        vec.setflags(write=1)\n",
    "        \n",
    "        if vec[0] == 0:\n",
    "            vec = v\n",
    "            \n",
    "        for i in range(dim):\n",
    "            vec[i] = (v[i] + vec[i])/2\n",
    "            \n",
    "    return vec   "
   ]
  },
  {
   "cell_type": "code",
   "execution_count": 35,
   "id": "pointed-banana",
   "metadata": {},
   "outputs": [],
   "source": []
  },
  {
   "cell_type": "code",
   "execution_count": 180,
   "id": "adapted-dancing",
   "metadata": {},
   "outputs": [],
   "source": [
    "PUNCT_TO_REMOVE = string.punctuation\n",
    "PUNCT_TO_REMOVE = PUNCT_TO_REMOVE.replace(\"-\",\"\")\n",
    "PUNCT_TO_REMOVE = PUNCT_TO_REMOVE.replace(\".\",\"\")\n",
    "PUNCT_TO_REMOVE = PUNCT_TO_REMOVE.replace(\"&\",\"\")\n",
    "\n",
    "def remove_special_chars(text):\n",
    "    return text.translate(str.maketrans('', '', PUNCT_TO_REMOVE))\n",
    "\n",
    "\n",
    "def sen_emb(sen):\n",
    "    # pre-process the sentence\n",
    "    sen = sen.replace('-',' ')\n",
    "    sen = sen.replace('/',' ')\n",
    "    sen = remove_special_chars(sen)\n",
    "    sen = sen.replace('&','and')\n",
    "    sen = sen.lower()\n",
    "    \n",
    "    ## split the sen to list of words\n",
    "    words = sen.split()\n",
    "    \n",
    "    emb = []\n",
    "    emb = np.array(emb)\n",
    "        \n",
    "\n",
    "    for word in words:\n",
    "        try:\n",
    "            vec = model[word]\n",
    "        \n",
    "        except KeyError:\n",
    "            continue\n",
    "    \n",
    "        emb = np.concatenate([emb, vec])\n",
    "        \n",
    "    return emb    \n",
    "    "
   ]
  },
  {
   "cell_type": "code",
   "execution_count": 802,
   "id": "about-contest",
   "metadata": {},
   "outputs": [],
   "source": [
    "def pad_emb(e1, e2, dim):\n",
    "    s_ = e1.shape\n",
    "    size_1 = s_[0]\n",
    "    \n",
    "    s_ = e2.shape\n",
    "    size_2 = s_[0]\n",
    "    \n",
    "    if size_1 == size_2:\n",
    "        return [e1, e2]\n",
    "    \n",
    "    elif size_1 < size_2:\n",
    "        for _ in range(size_2 - size_1):\n",
    "            e1 = np.append(e1, 0.0)\n",
    "        \n",
    "    elif size_1 > size_2:\n",
    "        for _ in range(size_1 - size_2):\n",
    "            e2 = np.append(e2, 0.0)\n",
    "            \n",
    "    return [e1, e2]"
   ]
  },
  {
   "cell_type": "code",
   "execution_count": 269,
   "id": "attempted-multiple",
   "metadata": {},
   "outputs": [],
   "source": [
    "def avg_emb(sen, dim):\n",
    "    sen = sen.replace('-',' ')\n",
    "    sen = sen.replace('/',' ')\n",
    "    sen = remove_special_chars(sen)\n",
    "    sen = sen.replace('&','and')\n",
    "    sen = sen.lower()\n",
    "    words = sen.split()\n",
    "    \n",
    "    vec = np.zeros(dim)\n",
    "    \n",
    "    for word in words:\n",
    "        try:\n",
    "            v = model[word]\n",
    "        except KeyError:\n",
    "            continue\n",
    "            \n",
    "        v.setflags(write=1) \n",
    "        vec.setflags(write=1)\n",
    "        \n",
    "        if vec[0] == 0:\n",
    "            vec = v\n",
    "            \n",
    "        for i in range(dim):\n",
    "            vec[i] = (v[i] + vec[i])/2\n",
    "            \n",
    "    return vec   "
   ]
  },
  {
   "cell_type": "code",
   "execution_count": null,
   "id": "automotive-surface",
   "metadata": {},
   "outputs": [],
   "source": []
  }
 ],
 "metadata": {
  "kernelspec": {
   "display_name": "Python 3",
   "language": "python",
   "name": "python3"
  },
  "language_info": {
   "codemirror_mode": {
    "name": "ipython",
    "version": 3
   },
   "file_extension": ".py",
   "mimetype": "text/x-python",
   "name": "python",
   "nbconvert_exporter": "python",
   "pygments_lexer": "ipython3",
   "version": "3.7.3"
  }
 },
 "nbformat": 4,
 "nbformat_minor": 5
}
