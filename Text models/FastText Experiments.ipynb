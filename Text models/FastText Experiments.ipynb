{
 "cells": [
  {
   "cell_type": "code",
   "execution_count": 1,
   "id": "three-rebound",
   "metadata": {},
   "outputs": [],
   "source": [
    "import fasttext"
   ]
  },
  {
   "cell_type": "code",
   "execution_count": 2,
   "id": "detected-india",
   "metadata": {},
   "outputs": [
    {
     "name": "stderr",
     "output_type": "stream",
     "text": [
      "Warning : `load_model` does not return WordVectorModel or SupervisedModel any more, but a `FastText` object which is very similar.\n"
     ]
    }
   ],
   "source": [
    "model = fasttext.load_model(\"amazon_review_full.bin\")"
   ]
  },
  {
   "cell_type": "code",
   "execution_count": null,
   "id": "respected-traveler",
   "metadata": {},
   "outputs": [],
   "source": []
  },
  {
   "cell_type": "code",
   "execution_count": 67,
   "id": "previous-picking",
   "metadata": {},
   "outputs": [],
   "source": [
    "import io\n",
    "\n",
    "def load_vectors(fname):\n",
    "    fin = io.open(fname, 'r', encoding='utf-8', newline='\\n', errors='ignore')\n",
    "    n, d = map(int, fin.readline().split())\n",
    "    data = {}\n",
    "    for line in fin:\n",
    "        tokens = line.rstrip().split(' ')\n",
    "        coefs = np.asarray(tokens[1:], dtype='float32')\n",
    "        data[tokens[0]] = coefs\n",
    "    \n",
    "    return data"
   ]
  },
  {
   "cell_type": "code",
   "execution_count": 68,
   "id": "alike-cookie",
   "metadata": {},
   "outputs": [],
   "source": [
    "data = load_vectors('./wiki-news-300d-1M-subword.vec')"
   ]
  },
  {
   "cell_type": "code",
   "execution_count": 78,
   "id": "unauthorized-crime",
   "metadata": {},
   "outputs": [],
   "source": [
    "DIM = 300"
   ]
  },
  {
   "cell_type": "markdown",
   "id": "stunning-cowboy",
   "metadata": {},
   "source": [
    "##### sentence-similarity"
   ]
  },
  {
   "cell_type": "code",
   "execution_count": 133,
   "id": "brilliant-mentor",
   "metadata": {},
   "outputs": [],
   "source": [
    "s1 = \"Salt Water Sandals by Hoy Original Sandal (Baby, Walker, Toddler, Little Kid & Big Kid) SHINY YELLOW Little Kid 2 M\"\n",
    "s2 = \"Salt Water Sandals by Hoy Shoe The Original Sandal Shiny Yellow 1 Little Kid\""
   ]
  },
  {
   "cell_type": "code",
   "execution_count": 139,
   "id": "thick-retirement",
   "metadata": {},
   "outputs": [],
   "source": [
    "e1 = sen_emb(s1) \n",
    "e2 = sen_emb(s2)"
   ]
  },
  {
   "cell_type": "code",
   "execution_count": 140,
   "id": "ideal-night",
   "metadata": {},
   "outputs": [],
   "source": [
    "e1, e2 = pad_emb(e1, e2, DIM)"
   ]
  },
  {
   "cell_type": "code",
   "execution_count": 141,
   "id": "palestinian-fence",
   "metadata": {},
   "outputs": [
    {
     "name": "stdout",
     "output_type": "stream",
     "text": [
      "0.20634976781033643\n"
     ]
    }
   ],
   "source": [
    "cos_sim = np.dot(e1, e2)/(norm(e1)*norm(e2))\n",
    "print(cos_sim)"
   ]
  },
  {
   "cell_type": "code",
   "execution_count": 142,
   "id": "later-artist",
   "metadata": {},
   "outputs": [],
   "source": [
    "e1_ = avg_emb(s1, DIM)\n",
    "e2_ = avg_emb(s2, DIM)"
   ]
  },
  {
   "cell_type": "code",
   "execution_count": 138,
   "id": "greek-evening",
   "metadata": {},
   "outputs": [
    {
     "name": "stdout",
     "output_type": "stream",
     "text": [
      "1.0\n"
     ]
    }
   ],
   "source": [
    "cos_sim = np.dot(e1_, e2_)/(norm(e1_)*norm(e2_))\n",
    "print(cos_sim)"
   ]
  },
  {
   "cell_type": "markdown",
   "id": "outstanding-center",
   "metadata": {},
   "source": [
    "##### word-similarity"
   ]
  },
  {
   "cell_type": "code",
   "execution_count": 154,
   "id": "sharp-costs",
   "metadata": {},
   "outputs": [
    {
     "name": "stdout",
     "output_type": "stream",
     "text": [
      "0.34597263\n"
     ]
    }
   ],
   "source": [
    "e1 = data['mask']\n",
    "e2 = data['health']\n",
    "cos_sim = np.dot(e1, e2)/(norm(e1)*norm(e2))\n",
    "print(cos_sim)"
   ]
  },
  {
   "cell_type": "markdown",
   "id": "blind-agenda",
   "metadata": {},
   "source": [
    "##### alpha-numeric"
   ]
  },
  {
   "cell_type": "code",
   "execution_count": 164,
   "id": "brazilian-secondary",
   "metadata": {},
   "outputs": [
    {
     "name": "stdout",
     "output_type": "stream",
     "text": [
      "0.045931146871255435\n"
     ]
    }
   ],
   "source": [
    "s1 = \"2M size shirt\"\n",
    "s2 = \"shirt\"\n",
    "\n",
    "e1 = sen_emb(s1) \n",
    "e2 = sen_emb(s2)\n",
    "\n",
    "e1, e2 = pad_emb(e1, e2, DIM)\n",
    "\n",
    "cos_sim = np.dot(e1, e2)/(norm(e1)*norm(e2))\n",
    "print(cos_sim)"
   ]
  },
  {
   "cell_type": "markdown",
   "id": "naked-basketball",
   "metadata": {},
   "source": [
    "##### spell-mistakes"
   ]
  },
  {
   "cell_type": "code",
   "execution_count": null,
   "id": "gothic-athletics",
   "metadata": {},
   "outputs": [],
   "source": [
    "e1 = data['laptop']\n",
    "e2 = data['lapttp']\n",
    "cos_sim = np.dot(e1, e2)/(norm(e1)*norm(e2))\n",
    "print(cos_sim)"
   ]
  },
  {
   "cell_type": "markdown",
   "id": "accredited-closer",
   "metadata": {},
   "source": [
    "##### prefix / suffix"
   ]
  },
  {
   "cell_type": "code",
   "execution_count": 182,
   "id": "partial-present",
   "metadata": {},
   "outputs": [
    {
     "name": "stdout",
     "output_type": "stream",
     "text": [
      "0.7213481\n"
     ]
    }
   ],
   "source": [
    "e1 = data['clean']\n",
    "e2 = data['cleaner']\n",
    "cos_sim = np.dot(e1, e2)/(norm(e1)*norm(e2))\n",
    "print(cos_sim)"
   ]
  },
  {
   "cell_type": "markdown",
   "id": "differential-latitude",
   "metadata": {},
   "source": [
    "##### singular / plural "
   ]
  },
  {
   "cell_type": "code",
   "execution_count": 186,
   "id": "backed-highway",
   "metadata": {},
   "outputs": [
    {
     "name": "stdout",
     "output_type": "stream",
     "text": [
      "0.77948236\n"
     ]
    }
   ],
   "source": [
    "e1 = data['shoe']\n",
    "e2 = data['shoes']\n",
    "cos_sim = np.dot(e1, e2)/(norm(e1)*norm(e2))\n",
    "print(cos_sim)"
   ]
  },
  {
   "cell_type": "markdown",
   "id": "based-flower",
   "metadata": {},
   "source": [
    "##### Context check"
   ]
  },
  {
   "cell_type": "code",
   "execution_count": 194,
   "id": "healthy-pollution",
   "metadata": {},
   "outputs": [
    {
     "name": "stdout",
     "output_type": "stream",
     "text": [
      "0.9055997742572052\n"
     ]
    }
   ],
   "source": [
    "s1 = \"river bank holds surprises for people\"\n",
    "s2 = \"Federal bank holds surprise for people\"\n",
    "\n",
    "e1 = sen_emb(s1) \n",
    "e2 = sen_emb(s2)\n",
    "\n",
    "e1, e2 = pad_emb(e1, e2, DIM)\n",
    "\n",
    "cos_sim = np.dot(e1, e2)/(norm(e1)*norm(e2))\n",
    "print(cos_sim)"
   ]
  },
  {
   "cell_type": "markdown",
   "id": "featured-accused",
   "metadata": {},
   "source": [
    "##### Phrases detection "
   ]
  },
  {
   "cell_type": "code",
   "execution_count": 211,
   "id": "aggregate-atlanta",
   "metadata": {},
   "outputs": [
    {
     "name": "stdout",
     "output_type": "stream",
     "text": [
      "0.57993096\n"
     ]
    }
   ],
   "source": [
    "e1 = data['newyork']\n",
    "e2 = data['washington']\n",
    "cos_sim = np.dot(e1, e2)/(norm(e1)*norm(e2))\n",
    "print(cos_sim)"
   ]
  },
  {
   "cell_type": "code",
   "execution_count": null,
   "id": "banner-syracuse",
   "metadata": {},
   "outputs": [],
   "source": []
  },
  {
   "cell_type": "markdown",
   "id": "limiting-first",
   "metadata": {},
   "source": [
    "#### amazon_exp"
   ]
  },
  {
   "cell_type": "code",
   "execution_count": 223,
   "id": "pregnant-asthma",
   "metadata": {},
   "outputs": [],
   "source": [
    "DIM = 10"
   ]
  },
  {
   "cell_type": "code",
   "execution_count": 232,
   "id": "altered-argentina",
   "metadata": {},
   "outputs": [
    {
     "name": "stdout",
     "output_type": "stream",
     "text": [
      "0.7039840221103811\n",
      "-0.14641275\n"
     ]
    }
   ],
   "source": [
    "s1 = \"Jo Malone London™ Dark Amber & Ginger Lily Scented Home Candle NO COLOR  7 oz\"\n",
    "s2 = \"Jo Malone London Dark Amber & Ginger Lily Home Candle\"\n",
    "\n",
    "e1 = sen_emb(s1) \n",
    "e2 = sen_emb(s2)\n",
    "\n",
    "e1, e2 = pad_emb(e1, e2, DIM)\n",
    "\n",
    "cos_sim = np.dot(e1, e2)/(norm(e1)*norm(e2))\n",
    "print(cos_sim)\n",
    "\n",
    "e1_ = avg_emb(s1, DIM)\n",
    "e2_ = avg_emb(s2, DIM)\n",
    "\n",
    "cos_sim = np.dot(e1_, e2_)/(norm(e1_)*norm(e2_))\n",
    "print(cos_sim)"
   ]
  },
  {
   "cell_type": "code",
   "execution_count": 242,
   "id": "patent-patent",
   "metadata": {},
   "outputs": [
    {
     "name": "stdout",
     "output_type": "stream",
     "text": [
      "0.20315863\n"
     ]
    }
   ],
   "source": [
    "e1 = model['see']\n",
    "e2 = model['sea']\n",
    "cos_sim = np.dot(e1, e2)/(norm(e1)*norm(e2))\n",
    "print(cos_sim)"
   ]
  },
  {
   "cell_type": "code",
   "execution_count": 252,
   "id": "cross-cause",
   "metadata": {},
   "outputs": [
    {
     "name": "stdout",
     "output_type": "stream",
     "text": [
      "nan\n"
     ]
    },
    {
     "name": "stderr",
     "output_type": "stream",
     "text": [
      "C:\\Users\\Akshay\\.conda\\envs\\pytorchenv\\lib\\site-packages\\ipykernel_launcher.py:9: RuntimeWarning: invalid value encountered in double_scalars\n",
      "  if __name__ == '__main__':\n"
     ]
    }
   ],
   "source": [
    "s1 = \"weterproof\"\n",
    "s2 = \"water proof\"\n",
    "\n",
    "e1 = sen_emb(s1) \n",
    "e2 = sen_emb(s2)\n",
    "\n",
    "e1, e2 = pad_emb(e1, e2, DIM)\n",
    "\n",
    "cos_sim = np.dot(e1, e2)/(norm(e1)*norm(e2))\n",
    "print(cos_sim)"
   ]
  },
  {
   "cell_type": "code",
   "execution_count": 253,
   "id": "commercial-ballet",
   "metadata": {},
   "outputs": [
    {
     "name": "stdout",
     "output_type": "stream",
     "text": [
      "-0.004059964\n"
     ]
    }
   ],
   "source": [
    "e1 = model['jecket']\n",
    "e2 = model['jacket']\n",
    "cos_sim = np.dot(e1, e2)/(norm(e1)*norm(e2))\n",
    "print(cos_sim)"
   ]
  },
  {
   "cell_type": "code",
   "execution_count": 267,
   "id": "integrated-possible",
   "metadata": {},
   "outputs": [
    {
     "name": "stdout",
     "output_type": "stream",
     "text": [
      "0.8180187902965685\n",
      "0.924704\n"
     ]
    }
   ],
   "source": [
    "s1 = \"river bank holds surprises for people\"\n",
    "s2 = \"Federal bank holds surprise for people\"\n",
    "\n",
    "e1 = sen_emb(s1) \n",
    "e2 = sen_emb(s2)\n",
    "\n",
    "e1, e2 = pad_emb(e1, e2, DIM)\n",
    "\n",
    "cos_sim = np.dot(e1, e2)/(norm(e1)*norm(e2))\n",
    "print(cos_sim) \n",
    "\n",
    "e1_ = avg_emb(s1, DIM)\n",
    "e2_ = avg_emb(s2, DIM)\n",
    "\n",
    "cos_sim = np.dot(e1_, e2_)/(norm(e1_)*norm(e2_))\n",
    "print(cos_sim)"
   ]
  },
  {
   "cell_type": "code",
   "execution_count": 276,
   "id": "absent-zimbabwe",
   "metadata": {},
   "outputs": [
    {
     "name": "stdout",
     "output_type": "stream",
     "text": [
      "0.6297622\n"
     ]
    }
   ],
   "source": [
    "e1 = model['waterproof']\n",
    "e2 = model['resistant']\n",
    "cos_sim = np.dot(e1, e2)/(norm(e1)*norm(e2))\n",
    "print(cos_sim)"
   ]
  },
  {
   "cell_type": "code",
   "execution_count": null,
   "id": "original-reconstruction",
   "metadata": {},
   "outputs": [],
   "source": []
  },
  {
   "cell_type": "code",
   "execution_count": null,
   "id": "favorite-evaluation",
   "metadata": {},
   "outputs": [],
   "source": []
  },
  {
   "cell_type": "code",
   "execution_count": 219,
   "id": "pregnant-rebound",
   "metadata": {},
   "outputs": [],
   "source": [
    "PUNCT_TO_REMOVE = string.punctuation\n",
    "PUNCT_TO_REMOVE = PUNCT_TO_REMOVE.replace(\"-\",\"\")\n",
    "PUNCT_TO_REMOVE = PUNCT_TO_REMOVE.replace(\".\",\"\")\n",
    "PUNCT_TO_REMOVE = PUNCT_TO_REMOVE.replace(\"&\",\"\")\n",
    "\n",
    "def remove_special_chars(text):\n",
    "    return text.translate(str.maketrans('', '', PUNCT_TO_REMOVE))\n",
    "\n",
    "\n",
    "def sen_emb(sen):\n",
    "    # pre-process the sentence\n",
    "    sen = sen.replace('-',' ')\n",
    "    sen = sen.replace('/',' ')\n",
    "    sen = remove_special_chars(sen)\n",
    "    sen = sen.replace('&','and')\n",
    "    sen = sen.lower()\n",
    "    \n",
    "    ## split the sen to list of words\n",
    "    words = sen.split()\n",
    "    \n",
    "    emb = []\n",
    "    emb = np.array(emb)\n",
    "        \n",
    "\n",
    "    for word in words:\n",
    "        try:\n",
    "            vec = model[word]\n",
    "        \n",
    "        except KeyError:\n",
    "            continue\n",
    "    \n",
    "        emb = np.concatenate([emb, vec])\n",
    "        \n",
    "    return emb    \n",
    "    "
   ]
  },
  {
   "cell_type": "code",
   "execution_count": 218,
   "id": "starting-bennett",
   "metadata": {},
   "outputs": [],
   "source": [
    "def pad_emb(e1, e2, dim):\n",
    "    s_ = e1.shape\n",
    "    size_1 = s_[0]\n",
    "    \n",
    "    s_ = e2.shape\n",
    "    size_2 = s_[0]\n",
    "    \n",
    "    if size_1 == size_2:\n",
    "        return [e1, e2]\n",
    "    \n",
    "    elif size_1 < size_2:\n",
    "        for _ in range(size_2 - size_1):\n",
    "            e1 = np.append(e1, 0.0)\n",
    "        \n",
    "    elif size_1 > size_2:\n",
    "        for _ in range(size_1 - size_2):\n",
    "            e2 = np.append(e2, 0.0)\n",
    "            \n",
    "    return [e1, e2]"
   ]
  },
  {
   "cell_type": "code",
   "execution_count": 217,
   "id": "seventh-manual",
   "metadata": {},
   "outputs": [],
   "source": [
    "def avg_emb(sen, dim):\n",
    "    sen = sen.replace('-',' ')\n",
    "    sen = sen.replace('/',' ')\n",
    "    sen = remove_special_chars(sen)\n",
    "    sen = sen.replace('&','and')\n",
    "    sen = sen.lower()\n",
    "    words = sen.split()\n",
    "    \n",
    "    vec = np.zeros(dim)\n",
    "    \n",
    "    for word in words:\n",
    "        try:\n",
    "            v = model[word]\n",
    "        except KeyError:\n",
    "            continue\n",
    "            \n",
    "        v.setflags(write=1) \n",
    "        vec.setflags(write=1)\n",
    "        \n",
    "        if vec[0] == 0:\n",
    "            vec = v\n",
    "            \n",
    "        for i in range(dim):\n",
    "            vec[i] = (v[i] + vec[i])/2\n",
    "            \n",
    "    return vec   "
   ]
  },
  {
   "cell_type": "code",
   "execution_count": null,
   "id": "disturbed-reply",
   "metadata": {},
   "outputs": [],
   "source": []
  },
  {
   "cell_type": "code",
   "execution_count": null,
   "id": "educated-pension",
   "metadata": {},
   "outputs": [],
   "source": []
  },
  {
   "cell_type": "code",
   "execution_count": null,
   "id": "extra-astronomy",
   "metadata": {},
   "outputs": [],
   "source": []
  },
  {
   "cell_type": "code",
   "execution_count": null,
   "id": "uniform-superintendent",
   "metadata": {},
   "outputs": [],
   "source": []
  },
  {
   "cell_type": "code",
   "execution_count": null,
   "id": "incoming-netscape",
   "metadata": {},
   "outputs": [],
   "source": []
  },
  {
   "cell_type": "code",
   "execution_count": null,
   "id": "separated-willow",
   "metadata": {},
   "outputs": [],
   "source": []
  },
  {
   "cell_type": "code",
   "execution_count": null,
   "id": "eight-brother",
   "metadata": {},
   "outputs": [],
   "source": []
  },
  {
   "cell_type": "code",
   "execution_count": null,
   "id": "consistent-trade",
   "metadata": {},
   "outputs": [],
   "source": []
  },
  {
   "cell_type": "code",
   "execution_count": null,
   "id": "acute-technology",
   "metadata": {},
   "outputs": [],
   "source": []
  },
  {
   "cell_type": "code",
   "execution_count": null,
   "id": "surgical-experiment",
   "metadata": {},
   "outputs": [],
   "source": []
  },
  {
   "cell_type": "code",
   "execution_count": 77,
   "id": "blessed-reform",
   "metadata": {},
   "outputs": [
    {
     "data": {
      "text/plain": [
       "1402671"
      ]
     },
     "execution_count": 77,
     "metadata": {},
     "output_type": "execute_result"
    }
   ],
   "source": [
    "len(model.words)"
   ]
  },
  {
   "cell_type": "code",
   "execution_count": 55,
   "id": "spatial-compiler",
   "metadata": {},
   "outputs": [],
   "source": [
    "e1 = model['book']"
   ]
  },
  {
   "cell_type": "code",
   "execution_count": 56,
   "id": "statutory-malawi",
   "metadata": {},
   "outputs": [],
   "source": [
    "e2 = model['books']"
   ]
  },
  {
   "cell_type": "code",
   "execution_count": 76,
   "id": "alike-wrist",
   "metadata": {},
   "outputs": [
    {
     "name": "stdout",
     "output_type": "stream",
     "text": [
      "0.35967568\n"
     ]
    }
   ],
   "source": [
    "cos_sim = np.dot(e1, e2)/(norm(e1)*norm(e2)) \n",
    "print(cos_sim)"
   ]
  },
  {
   "cell_type": "code",
   "execution_count": 16,
   "id": "limited-independence",
   "metadata": {},
   "outputs": [
    {
     "data": {
      "text/plain": [
       "[(0.9681640267372131, 'mostrandose'),\n",
       " (0.9668797254562378, 'man-up'),\n",
       " (0.9656786322593689, 'consalmost'),\n",
       " (0.9618635177612305, 'onlycomplaint'),\n",
       " (0.9574946165084839, 'smartshot'),\n",
       " (0.9567878246307373, 'magazine-late'),\n",
       " (0.9553950428962708, 'monorails'),\n",
       " (0.9535049200057983, 'fantadtic'),\n",
       " (0.9516035318374634, 'thorough--it'),\n",
       " (0.951547384262085, 'a+/server+/net+')]"
      ]
     },
     "execution_count": 16,
     "metadata": {},
     "output_type": "execute_result"
    }
   ],
   "source": [
    "model.get_analogies('water', 'what', 'cold')"
   ]
  },
  {
   "cell_type": "code",
   "execution_count": 17,
   "id": "australian-transparency",
   "metadata": {},
   "outputs": [
    {
     "data": {
      "text/plain": [
       "True"
      ]
     },
     "execution_count": 17,
     "metadata": {},
     "output_type": "execute_result"
    }
   ],
   "source": [
    "'narc' in model"
   ]
  },
  {
   "cell_type": "code",
   "execution_count": 20,
   "id": "atomic-copper",
   "metadata": {},
   "outputs": [
    {
     "data": {
      "text/plain": [
       "array([-0.07588956, -0.13569047,  0.19736196, -0.09127723,  0.19365077,\n",
       "        0.03731917,  0.1109871 , -0.06580413, -0.09331769,  0.22891137],\n",
       "      dtype=float32)"
      ]
     },
     "execution_count": 20,
     "metadata": {},
     "output_type": "execute_result"
    }
   ],
   "source": [
    "model['rambo']"
   ]
  },
  {
   "cell_type": "code",
   "execution_count": 23,
   "id": "narrow-eagle",
   "metadata": {},
   "outputs": [
    {
     "data": {
      "text/plain": [
       "[(0.9841490983963013, 'non-stimulating'),\n",
       " (0.9620241522789001, 'noexplanation'),\n",
       " (0.959243893623352, 'shifting-of-gears'),\n",
       " (0.9591127634048462, 'ehte'),\n",
       " (0.9519392848014832, 'reccomend=-'),\n",
       " (0.950046956539154, 'munchkinland'),\n",
       " (0.9480462074279785, 'mrf'),\n",
       " (0.9475089907646179, 'onda'),\n",
       " (0.9469833970069885, 'gorim'),\n",
       " (0.9462774395942688, 'absoluteally')]"
      ]
     },
     "execution_count": 23,
     "metadata": {},
     "output_type": "execute_result"
    }
   ],
   "source": [
    "model.get_nearest_neighbors('water')"
   ]
  },
  {
   "cell_type": "code",
   "execution_count": null,
   "id": "chronic-perry",
   "metadata": {},
   "outputs": [],
   "source": []
  }
 ],
 "metadata": {
  "kernelspec": {
   "display_name": "Python 3",
   "language": "python",
   "name": "python3"
  },
  "language_info": {
   "codemirror_mode": {
    "name": "ipython",
    "version": 3
   },
   "file_extension": ".py",
   "mimetype": "text/x-python",
   "name": "python",
   "nbconvert_exporter": "python",
   "pygments_lexer": "ipython3",
   "version": "3.7.3"
  }
 },
 "nbformat": 4,
 "nbformat_minor": 5
}
