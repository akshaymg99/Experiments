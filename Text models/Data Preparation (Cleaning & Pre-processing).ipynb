{
 "cells": [
  {
   "cell_type": "code",
   "execution_count": 3,
   "id": "generous-puppy",
   "metadata": {},
   "outputs": [
    {
     "name": "stderr",
     "output_type": "stream",
     "text": [
      "C:\\Users\\Akshay\\.conda\\envs\\pytorchenv\\lib\\site-packages\\sklearn\\utils\\validation.py:37: DeprecationWarning: distutils Version classes are deprecated. Use packaging.version instead.\n",
      "  LARGE_SPARSE_SUPPORTED = LooseVersion(scipy_version) >= '0.14.0'\n"
     ]
    }
   ],
   "source": [
    "import json\n",
    "import numpy as np\n",
    "import pandas as pd\n",
    "import string\n",
    "import re\n",
    "import nltk"
   ]
  },
  {
   "cell_type": "code",
   "execution_count": 2,
   "id": "incident-shadow",
   "metadata": {},
   "outputs": [],
   "source": [
    "df = pd.read_json('12147_final_df.json', lines=True)"
   ]
  },
  {
   "cell_type": "code",
   "execution_count": null,
   "id": "hungry-basics",
   "metadata": {},
   "outputs": [],
   "source": [
    "y = df['match_seed_urlh']\n",
    "df.drop(['match_seed_urlh'], axis=1)"
   ]
  },
  {
   "cell_type": "code",
   "execution_count": 11,
   "id": "derived-queue",
   "metadata": {},
   "outputs": [],
   "source": [
    "## train test split - 80:20\n",
    "from sklearn.model_selection import train_test_split\n",
    "\n",
    "X_train, X_test, y_train, y_test = train_test_split(df, y, test_size=0.2, random_state=42)"
   ]
  },
  {
   "cell_type": "code",
   "execution_count": 12,
   "id": "therapeutic-directory",
   "metadata": {},
   "outputs": [
    {
     "name": "stderr",
     "output_type": "stream",
     "text": [
      "C:\\Users\\Akshay\\.conda\\envs\\pytorchenv\\lib\\site-packages\\ipykernel_launcher.py:1: SettingWithCopyWarning: \n",
      "A value is trying to be set on a copy of a slice from a DataFrame.\n",
      "Try using .loc[row_indexer,col_indexer] = value instead\n",
      "\n",
      "See the caveats in the documentation: http://pandas.pydata.org/pandas-docs/stable/indexing.html#indexing-view-versus-copy\n",
      "  \"\"\"Entry point for launching an IPython kernel.\n"
     ]
    }
   ],
   "source": [
    "X_train['match_seed_urlh'] = y"
   ]
  },
  {
   "cell_type": "code",
   "execution_count": 197,
   "id": "ordinary-mercy",
   "metadata": {},
   "outputs": [],
   "source": [
    "X_train.to_csv('DTrain_80.csv', index=False)\n",
    "X_test.to_csv('DTest_20.csv', index=False)"
   ]
  },
  {
   "cell_type": "markdown",
   "id": "educational-proceeding",
   "metadata": {},
   "source": [
    "#### Read train data"
   ]
  },
  {
   "cell_type": "code",
   "execution_count": null,
   "id": "terminal-savage",
   "metadata": {},
   "outputs": [],
   "source": [
    "X_train = pd.read_csv('DTrain_80.csv')"
   ]
  },
  {
   "cell_type": "code",
   "execution_count": 120,
   "id": "frank-america",
   "metadata": {},
   "outputs": [],
   "source": [
    "corpus = X_train[['title', 'match_title', 'description', 'match_description', 'color']]"
   ]
  },
  {
   "cell_type": "code",
   "execution_count": 121,
   "id": "original-marker",
   "metadata": {},
   "outputs": [
    {
     "data": {
      "text/html": [
       "<div>\n",
       "<style scoped>\n",
       "    .dataframe tbody tr th:only-of-type {\n",
       "        vertical-align: middle;\n",
       "    }\n",
       "\n",
       "    .dataframe tbody tr th {\n",
       "        vertical-align: top;\n",
       "    }\n",
       "\n",
       "    .dataframe thead th {\n",
       "        text-align: right;\n",
       "    }\n",
       "</style>\n",
       "<table border=\"1\" class=\"dataframe\">\n",
       "  <thead>\n",
       "    <tr style=\"text-align: right;\">\n",
       "      <th></th>\n",
       "      <th>title</th>\n",
       "      <th>match_title</th>\n",
       "      <th>description</th>\n",
       "      <th>match_description</th>\n",
       "      <th>color</th>\n",
       "    </tr>\n",
       "  </thead>\n",
       "  <tbody>\n",
       "    <tr>\n",
       "      <th>107867</th>\n",
       "      <td>Theory Silk Shell Top IVORY  Small---</td>\n",
       "      <td>Theory Silk Shell Top IVORY  Medium---</td>\n",
       "      <td></td>\n",
       "      <td></td>\n",
       "      <td>IVORY</td>\n",
       "    </tr>\n",
       "    <tr>\n",
       "      <th>366665</th>\n",
       "      <td>Chantelle Lingerie C Magnifique Seamless Unlin...</td>\n",
       "      <td>C Magnifique Minimizer Bra 1891, Online Only I...</td>\n",
       "      <td>Designed to minimize your bustline by one inch...</td>\n",
       "      <td>Full-coverage support with a delightful subtle...</td>\n",
       "      <td>IVORY</td>\n",
       "    </tr>\n",
       "    <tr>\n",
       "      <th>135770</th>\n",
       "      <td>RAG AND BONE rag &amp; bone Shiloh Combat Boot (Wo...</td>\n",
       "      <td>rag &amp; bone Shiloh Boot | The Style Room, power...</td>\n",
       "      <td>Side panels lend a bit of give to tough, comba...</td>\n",
       "      <td></td>\n",
       "      <td>BLACK</td>\n",
       "    </tr>\n",
       "    <tr>\n",
       "      <th>15283</th>\n",
       "      <td>Bixbee Kitty Water Resistant Lunchbox (Kids) P...</td>\n",
       "      <td>Bixbee Lunchbox Animal</td>\n",
       "      <td>The face of a pretty kitty defines a playful w...</td>\n",
       "      <td></td>\n",
       "      <td>Pink</td>\n",
       "    </tr>\n",
       "    <tr>\n",
       "      <th>66925</th>\n",
       "      <td>Maison Francis Kurkdjian Paris Grand Soir Eau ...</td>\n",
       "      <td>Maison Francis Kurkdjian 6.8 oz. Grand Soir Ea...</td>\n",
       "      <td>&lt;strong&gt;What it is&lt;/strong&gt;: A sophisticated a...</td>\n",
       "      <td></td>\n",
       "      <td>No Color</td>\n",
       "    </tr>\n",
       "  </tbody>\n",
       "</table>\n",
       "</div>"
      ],
      "text/plain": [
       "                                                    title  \\\n",
       "107867              Theory Silk Shell Top IVORY  Small---   \n",
       "366665  Chantelle Lingerie C Magnifique Seamless Unlin...   \n",
       "135770  RAG AND BONE rag & bone Shiloh Combat Boot (Wo...   \n",
       "15283   Bixbee Kitty Water Resistant Lunchbox (Kids) P...   \n",
       "66925   Maison Francis Kurkdjian Paris Grand Soir Eau ...   \n",
       "\n",
       "                                              match_title  \\\n",
       "107867             Theory Silk Shell Top IVORY  Medium---   \n",
       "366665  C Magnifique Minimizer Bra 1891, Online Only I...   \n",
       "135770  rag & bone Shiloh Boot | The Style Room, power...   \n",
       "15283                           Bixbee Lunchbox Animal      \n",
       "66925   Maison Francis Kurkdjian 6.8 oz. Grand Soir Ea...   \n",
       "\n",
       "                                              description  \\\n",
       "107867                                                      \n",
       "366665  Designed to minimize your bustline by one inch...   \n",
       "135770  Side panels lend a bit of give to tough, comba...   \n",
       "15283   The face of a pretty kitty defines a playful w...   \n",
       "66925   <strong>What it is</strong>: A sophisticated a...   \n",
       "\n",
       "                                        match_description     color  \n",
       "107867                                                        IVORY  \n",
       "366665  Full-coverage support with a delightful subtle...     IVORY  \n",
       "135770                                                        BLACK  \n",
       "15283                                                          Pink  \n",
       "66925                                                      No Color  "
      ]
     },
     "execution_count": 121,
     "metadata": {},
     "output_type": "execute_result"
    }
   ],
   "source": [
    "corpus.head()"
   ]
  },
  {
   "cell_type": "code",
   "execution_count": null,
   "id": "willing-reporter",
   "metadata": {},
   "outputs": [],
   "source": [
    "## applying lowercase function to text columns\n",
    "\n",
    "corpus['title'] = corpus['title'].str.lower()\n",
    "corpus['match_title'] = corpus['match_title'].str.lower()\n",
    "corpus['description'] = corpus['description'].str.lower()\n",
    "corpus['match_description'] = corpus['match_description'].str.lower()\n",
    "corpus['color'] = corpus['color'].str.lower()"
   ]
  },
  {
   "cell_type": "code",
   "execution_count": null,
   "id": "simple-object",
   "metadata": {},
   "outputs": [],
   "source": [
    "## replacing '&' with 'and' keyword to conserve semantic meaning of sentences\n",
    "\n",
    "corpus['title'] = corpus['title'].str.replace('&','and')\n",
    "corpus['match_title'] = corpus['match_title'].str.replace('&','and')\n",
    "corpus['description'] = corpus['description'].str.replace('&','and')\n",
    "corpus['match_description'] = corpus['match_description'].str.replace('&','and')\n",
    "corpus['color'] = corpus['color'].str.replace('&','and')"
   ]
  },
  {
   "cell_type": "code",
   "execution_count": null,
   "id": "ceramic-turtle",
   "metadata": {},
   "outputs": [],
   "source": [
    "## removing html-tags from data\n",
    "\n",
    "corpus['title'] = corpus['title'].str.replace(r'<[^<>]*>', '', regex=True)\n",
    "corpus['match_title'] = corpus['match_title'].str.replace(r'<[^<>]*>', '', regex=True)\n",
    "corpus['description'] = corpus['description'].str.replace(r'<[^<>]*>', '', regex=True)\n",
    "corpus['match_description'] = corpus['match_description'].str.replace(r'<[^<>]*>', '', regex=True)\n",
    "corpus['color'] = corpus['color'].str.replace(r'<[^<>]*>', '', regex=True)"
   ]
  },
  {
   "cell_type": "code",
   "execution_count": 125,
   "id": "skilled-cooper",
   "metadata": {},
   "outputs": [
    {
     "name": "stderr",
     "output_type": "stream",
     "text": [
      "C:\\Users\\Akshay\\.conda\\envs\\pytorchenv\\lib\\site-packages\\ipykernel_launcher.py:1: SettingWithCopyWarning: \n",
      "A value is trying to be set on a copy of a slice from a DataFrame.\n",
      "Try using .loc[row_indexer,col_indexer] = value instead\n",
      "\n",
      "See the caveats in the documentation: http://pandas.pydata.org/pandas-docs/stable/indexing.html#indexing-view-versus-copy\n",
      "  \"\"\"Entry point for launching an IPython kernel.\n"
     ]
    }
   ],
   "source": [
    "corpus['description'] = corpus['description'].str.replace(r'what it is:', '')"
   ]
  },
  {
   "cell_type": "code",
   "execution_count": 126,
   "id": "overhead-nutrition",
   "metadata": {},
   "outputs": [],
   "source": [
    "## removing special chars => !\"#$%&\\'()*+,-./:;<=>?@[\\\\]^_{|}~`\n",
    "import string\n",
    "import re\n",
    "\n",
    "PUNCT_TO_REMOVE = string.punctuation\n",
    "PUNCT_TO_REMOVE = PUNCT_TO_REMOVE.replace(\"-\",\"\")\n",
    "# PUNCT_TO_REMOVE = PUNCT_TO_REMOVE.replace(\".\",\"\")\n",
    "PUNCT_TO_REMOVE = PUNCT_TO_REMOVE.replace(\"&\",\"\")\n",
    "\n",
    "def remove_special_chars(text):\n",
    "    return text.translate(str.maketrans('', '', PUNCT_TO_REMOVE))"
   ]
  },
  {
   "cell_type": "code",
   "execution_count": null,
   "id": "pending-karma",
   "metadata": {},
   "outputs": [],
   "source": [
    "## making some values as str to solve \"NaN\" value issue\n",
    "\n",
    "corpus['title'] = corpus['title'].astype(str)\n",
    "corpus['match_title'] = corpus['match_title'].astype(str)\n",
    "corpus['description'] = corpus['description'].astype(str)\n",
    "corpus['match_description'] = corpus['match_description'].astype(str)\n",
    "corpus['color'] = corpus['color'].astype(str)"
   ]
  },
  {
   "cell_type": "code",
   "execution_count": null,
   "id": "stainless-preference",
   "metadata": {},
   "outputs": [],
   "source": [
    "## removing unwanted chars\n",
    "\n",
    "corpus[\"title\"] = corpus[\"title\"].apply(lambda text: remove_special_chars(text))\n",
    "corpus[\"match_title\"] = corpus[\"match_title\"].apply(lambda text: remove_special_chars(text))\n",
    "corpus[\"description\"] = corpus[\"description\"].apply(lambda text: remove_special_chars(text))\n",
    "corpus[\"match_description\"] = corpus[\"match_description\"].apply(lambda text: remove_special_chars(text))\n",
    "corpus[\"color\"] = corpus[\"color\"].apply(lambda text: remove_special_chars(text))"
   ]
  },
  {
   "cell_type": "code",
   "execution_count": null,
   "id": "assumed-poverty",
   "metadata": {},
   "outputs": [],
   "source": [
    "## removing numbers from text strings\n",
    "\n",
    "corpus['title'] = corpus['title'].str.replace('\\d+', '')\n",
    "corpus['match_title'] = corpus['match_title'].str.replace('\\d+', '')\n",
    "corpus['description'] = corpus['description'].str.replace('\\d+', '')\n",
    "corpus['match_description'] = corpus['match_description'].str.replace('\\d+', '')\n",
    "corpus['color'] = corpus['color'].str.replace('\\d+', '')"
   ]
  },
  {
   "cell_type": "code",
   "execution_count": null,
   "id": "sitting-drink",
   "metadata": {},
   "outputs": [],
   "source": [
    "## replacing '-' with ' ' whitespace to properly seperate words\n",
    "\n",
    "corpus['title'] = corpus['title'].str.replace('-',' ')\n",
    "corpus['match_title'] = corpus['match_title'].str.replace('-',' ')             \n",
    "corpus['description'] = corpus['description'].str.replace('-',' ')\n",
    "corpus['match_description'] = corpus['match_description'].str.replace('-',' ')\n",
    "corpus['color'] = corpus['color'].str.replace('-',' ')"
   ]
  },
  {
   "cell_type": "code",
   "execution_count": 134,
   "id": "architectural-grammar",
   "metadata": {},
   "outputs": [],
   "source": [
    "corpus.to_csv('processed_Dtrain_4f.csv', index=False)"
   ]
  },
  {
   "cell_type": "code",
   "execution_count": null,
   "id": "deluxe-glass",
   "metadata": {},
   "outputs": [],
   "source": [
    "# dtype={'title': object, 'match_title':object, 'description':object, 'match_description':object, 'color':object}"
   ]
  },
  {
   "cell_type": "code",
   "execution_count": 250,
   "id": "scheduled-tuesday",
   "metadata": {},
   "outputs": [],
   "source": [
    "corpus = pd.read_csv('processed_Dtrain_4f.csv')"
   ]
  },
  {
   "cell_type": "code",
   "execution_count": 251,
   "id": "arabic-pendant",
   "metadata": {},
   "outputs": [],
   "source": [
    "corpus['title'] = [ '' if x is np.NaN else x for x in corpus['title'] ]\n",
    "corpus['match_title'] = [ '' if x is np.NaN else x for x in corpus['match_title'] ]\n",
    "corpus['description'] = [ '' if x is np.NaN else x for x in corpus['description'] ]\n",
    "corpus['match_description'] = [ '' if x is np.NaN else x for x in corpus['match_description'] ]\n",
    "corpus['color'] = [ '' if x is np.NaN else x for x in corpus['color'] ]"
   ]
  },
  {
   "cell_type": "code",
   "execution_count": 252,
   "id": "motivated-thanksgiving",
   "metadata": {},
   "outputs": [],
   "source": [
    "## performing tokenization - breaking sentences into lexical units\n",
    "\n",
    "import nltk\n",
    "from nltk.tokenize import word_tokenize"
   ]
  },
  {
   "cell_type": "code",
   "execution_count": 253,
   "id": "useful-cambridge",
   "metadata": {},
   "outputs": [],
   "source": [
    "corpus['title'] = corpus.apply(lambda row: nltk.word_tokenize(row['title']), axis=1)\n",
    "corpus['match_title'] = corpus.apply(lambda row: nltk.word_tokenize(row['match_title']), axis=1)\n",
    "corpus['description'] = corpus.apply(lambda row: nltk.word_tokenize(row['description']), axis=1)\n",
    "corpus['match_description'] = corpus.apply(lambda row: nltk.word_tokenize(row['match_description']), axis=1)\n",
    "corpus['color'] = corpus.apply(lambda row: nltk.word_tokenize(row['color']), axis=1)"
   ]
  },
  {
   "cell_type": "code",
   "execution_count": 48,
   "id": "understood-patio",
   "metadata": {},
   "outputs": [],
   "source": [
    "corpus.to_csv('processed_Dtrain_4f_tokenized.csv', index=False)"
   ]
  },
  {
   "cell_type": "markdown",
   "id": "damaged-architect",
   "metadata": {},
   "source": [
    "### training on 'title' feature only"
   ]
  },
  {
   "cell_type": "code",
   "execution_count": 254,
   "id": "inappropriate-summit",
   "metadata": {},
   "outputs": [],
   "source": [
    "sentences = []\n",
    "for row in corpus['title']:\n",
    "    sentences.append(list(row))"
   ]
  },
  {
   "cell_type": "code",
   "execution_count": 256,
   "id": "former-warrant",
   "metadata": {},
   "outputs": [],
   "source": [
    "from gensim.models import Word2Vec\n",
    "model = Word2Vec(sentences, min_count=1, size=200, workers=6, window=5, iter=10)"
   ]
  },
  {
   "cell_type": "code",
   "execution_count": 257,
   "id": "lesser-orbit",
   "metadata": {},
   "outputs": [
    {
     "data": {
      "text/plain": [
       "26698"
      ]
     },
     "execution_count": 257,
     "metadata": {},
     "output_type": "execute_result"
    }
   ],
   "source": [
    "len(model.wv.vocab)"
   ]
  },
  {
   "cell_type": "code",
   "execution_count": 258,
   "id": "informal-zoning",
   "metadata": {},
   "outputs": [
    {
     "name": "stderr",
     "output_type": "stream",
     "text": [
      "C:\\Users\\Akshay\\.conda\\envs\\pytorchenv\\lib\\site-packages\\ipykernel_launcher.py:1: DeprecationWarning: Call to deprecated `most_similar` (Method will be removed in 4.0.0, use self.wv.most_similar() instead).\n",
      "  \"\"\"Entry point for launching an IPython kernel.\n"
     ]
    },
    {
     "data": {
      "text/plain": [
       "[('vest', 0.699643611907959),\n",
       " ('coat', 0.652625560760498),\n",
       " ('parka', 0.6479331254959106),\n",
       " ('raincoat', 0.6120079755783081),\n",
       " ('miniskirt', 0.5529841184616089),\n",
       " ('pullover', 0.507602870464325),\n",
       " ('cardigan', 0.4950186014175415),\n",
       " ('joggers', 0.4948863983154297),\n",
       " ('leggings', 0.491107702255249),\n",
       " ('hoodie', 0.4691888988018036)]"
      ]
     },
     "execution_count": 258,
     "metadata": {},
     "output_type": "execute_result"
    }
   ],
   "source": [
    "model.most_similar('jacket')"
   ]
  },
  {
   "cell_type": "code",
   "execution_count": 259,
   "id": "median-fellowship",
   "metadata": {},
   "outputs": [
    {
     "name": "stderr",
     "output_type": "stream",
     "text": [
      "C:\\Users\\Akshay\\.conda\\envs\\pytorchenv\\lib\\site-packages\\ipykernel_launcher.py:1: DeprecationWarning: Call to deprecated `most_similar` (Method will be removed in 4.0.0, use self.wv.most_similar() instead).\n",
      "  \"\"\"Entry point for launching an IPython kernel.\n"
     ]
    },
    {
     "data": {
      "text/plain": [
       "[('shoe', 0.5678728818893433),\n",
       " ('loafer', 0.5505174398422241),\n",
       " ('slide', 0.5277519822120667),\n",
       " ('sandal', 0.5206455588340759),\n",
       " ('boot', 0.5197134613990784),\n",
       " ('flop', 0.5013018846511841),\n",
       " ('gum', 0.48239028453826904),\n",
       " ('bootie', 0.48095059394836426),\n",
       " ('flip', 0.4711340069770813),\n",
       " ('slipper', 0.45892223715782166)]"
      ]
     },
     "execution_count": 259,
     "metadata": {},
     "output_type": "execute_result"
    }
   ],
   "source": [
    "model.most_similar('sneaker')"
   ]
  },
  {
   "cell_type": "code",
   "execution_count": 264,
   "id": "interpreted-paint",
   "metadata": {},
   "outputs": [
    {
     "name": "stderr",
     "output_type": "stream",
     "text": [
      "C:\\Users\\Akshay\\.conda\\envs\\pytorchenv\\lib\\site-packages\\ipykernel_launcher.py:1: DeprecationWarning: Call to deprecated `most_similar` (Method will be removed in 4.0.0, use self.wv.most_similar() instead).\n",
      "  \"\"\"Entry point for launching an IPython kernel.\n"
     ]
    },
    {
     "data": {
      "text/plain": [
       "[('planner', 0.6576274037361145),\n",
       " ('grabber', 0.6383662223815918),\n",
       " ('toolbox', 0.6313226819038391),\n",
       " ('hedgehog', 0.6312799453735352),\n",
       " ('teething', 0.626238226890564),\n",
       " ('landspeeder™', 0.6118741631507874),\n",
       " ('blankie', 0.6074351072311401),\n",
       " ('pedestal', 0.6036496162414551),\n",
       " ('ark', 0.5969358682632446),\n",
       " ('silverlite', 0.5964605808258057)]"
      ]
     },
     "execution_count": 264,
     "metadata": {},
     "output_type": "execute_result"
    }
   ],
   "source": [
    "model.most_similar('mobile')"
   ]
  },
  {
   "cell_type": "code",
   "execution_count": 270,
   "id": "assigned-strengthening",
   "metadata": {},
   "outputs": [],
   "source": [
    "## Change of hyper-parameters (windows size= (5->7))\n",
    "model = Word2Vec(sentences, min_count=1, size=200, workers=6, window=7, iter=10)"
   ]
  },
  {
   "cell_type": "code",
   "execution_count": 271,
   "id": "intellectual-shepherd",
   "metadata": {},
   "outputs": [
    {
     "data": {
      "text/plain": [
       "26698"
      ]
     },
     "execution_count": 271,
     "metadata": {},
     "output_type": "execute_result"
    }
   ],
   "source": [
    "len(model.wv.vocab)"
   ]
  },
  {
   "cell_type": "code",
   "execution_count": 273,
   "id": "soviet-relay",
   "metadata": {},
   "outputs": [
    {
     "name": "stderr",
     "output_type": "stream",
     "text": [
      "C:\\Users\\Akshay\\.conda\\envs\\pytorchenv\\lib\\site-packages\\ipykernel_launcher.py:1: DeprecationWarning: Call to deprecated `most_similar` (Method will be removed in 4.0.0, use self.wv.most_similar() instead).\n",
      "  \"\"\"Entry point for launching an IPython kernel.\n"
     ]
    },
    {
     "data": {
      "text/plain": [
       "[('vest', 0.7439987659454346),\n",
       " ('coat', 0.6748998165130615),\n",
       " ('parka', 0.6622467637062073),\n",
       " ('raincoat', 0.5972958207130432),\n",
       " ('miniskirt', 0.5470995306968689),\n",
       " ('cardigan', 0.5419610738754272),\n",
       " ('joggers', 0.5329744815826416),\n",
       " ('overshirt', 0.5227255821228027),\n",
       " ('pullover', 0.52142733335495),\n",
       " ('leggings', 0.5188730359077454)]"
      ]
     },
     "execution_count": 273,
     "metadata": {},
     "output_type": "execute_result"
    }
   ],
   "source": [
    "model.most_similar('jacket')"
   ]
  },
  {
   "cell_type": "code",
   "execution_count": 277,
   "id": "prospective-teens",
   "metadata": {},
   "outputs": [
    {
     "name": "stderr",
     "output_type": "stream",
     "text": [
      "C:\\Users\\Akshay\\.conda\\envs\\pytorchenv\\lib\\site-packages\\ipykernel_launcher.py:1: DeprecationWarning: Call to deprecated `most_similar` (Method will be removed in 4.0.0, use self.wv.most_similar() instead).\n",
      "  \"\"\"Entry point for launching an IPython kernel.\n"
     ]
    },
    {
     "data": {
      "text/plain": [
       "[('shoe', 0.5731929540634155),\n",
       " ('sandal', 0.5446249842643738),\n",
       " ('slide', 0.5439327955245972),\n",
       " ('loafer', 0.5302315950393677),\n",
       " ('flop', 0.5233615636825562),\n",
       " ('boot', 0.5102553367614746),\n",
       " ('bootie', 0.5006389617919922),\n",
       " ('slipper', 0.4761015772819519),\n",
       " ('moccasin', 0.46150079369544983),\n",
       " ('flip', 0.4588810205459595)]"
      ]
     },
     "execution_count": 277,
     "metadata": {},
     "output_type": "execute_result"
    }
   ],
   "source": [
    "model.most_similar('sneaker')"
   ]
  },
  {
   "cell_type": "code",
   "execution_count": 278,
   "id": "athletic-makeup",
   "metadata": {},
   "outputs": [
    {
     "name": "stderr",
     "output_type": "stream",
     "text": [
      "C:\\Users\\Akshay\\.conda\\envs\\pytorchenv\\lib\\site-packages\\ipykernel_launcher.py:1: DeprecationWarning: Call to deprecated `most_similar` (Method will be removed in 4.0.0, use self.wv.most_similar() instead).\n",
      "  \"\"\"Entry point for launching an IPython kernel.\n"
     ]
    },
    {
     "data": {
      "text/plain": [
       "[('grabber', 0.6708623766899109),\n",
       " ('hedgehog', 0.6637697815895081),\n",
       " ('puppy', 0.6562122106552124),\n",
       " ('teething', 0.6214553117752075),\n",
       " ('programmer', 0.6004025340080261),\n",
       " ('minicall', 0.5978298783302307),\n",
       " ('planner', 0.5958477258682251),\n",
       " ('ukelele', 0.5952675342559814),\n",
       " ('toolbox', 0.5876369476318359),\n",
       " ('peachlite', 0.5782372951507568)]"
      ]
     },
     "execution_count": 278,
     "metadata": {},
     "output_type": "execute_result"
    }
   ],
   "source": [
    "model.most_similar('mobile')"
   ]
  },
  {
   "cell_type": "code",
   "execution_count": 283,
   "id": "administrative-exception",
   "metadata": {},
   "outputs": [],
   "source": [
    "## Change of hyper-parameters (windows size= (7->3))\n",
    "model = Word2Vec(sentences, min_count=1, size=200, workers=6, window=3, iter=10)"
   ]
  },
  {
   "cell_type": "code",
   "execution_count": 284,
   "id": "healthy-romania",
   "metadata": {},
   "outputs": [
    {
     "data": {
      "text/plain": [
       "26698"
      ]
     },
     "execution_count": 284,
     "metadata": {},
     "output_type": "execute_result"
    }
   ],
   "source": [
    "len(model.wv.vocab)"
   ]
  },
  {
   "cell_type": "code",
   "execution_count": 285,
   "id": "aboriginal-jungle",
   "metadata": {},
   "outputs": [
    {
     "name": "stderr",
     "output_type": "stream",
     "text": [
      "C:\\Users\\Akshay\\.conda\\envs\\pytorchenv\\lib\\site-packages\\ipykernel_launcher.py:1: DeprecationWarning: Call to deprecated `most_similar` (Method will be removed in 4.0.0, use self.wv.most_similar() instead).\n",
      "  \"\"\"Entry point for launching an IPython kernel.\n"
     ]
    },
    {
     "data": {
      "text/plain": [
       "[('vest', 0.6460692882537842),\n",
       " ('parka', 0.6156010627746582),\n",
       " ('coat', 0.6086779832839966),\n",
       " ('raincoat', 0.59493088722229),\n",
       " ('bib', 0.498401403427124),\n",
       " ('miniskirt', 0.49246296286582947),\n",
       " ('leggings', 0.48663175106048584),\n",
       " ('gloves', 0.46884340047836304),\n",
       " ('pullover', 0.46256542205810547),\n",
       " ('joggers', 0.4618302583694458)]"
      ]
     },
     "execution_count": 285,
     "metadata": {},
     "output_type": "execute_result"
    }
   ],
   "source": [
    "model.most_similar('jacket')"
   ]
  },
  {
   "cell_type": "code",
   "execution_count": 286,
   "id": "concrete-heavy",
   "metadata": {},
   "outputs": [
    {
     "name": "stderr",
     "output_type": "stream",
     "text": [
      "C:\\Users\\Akshay\\.conda\\envs\\pytorchenv\\lib\\site-packages\\ipykernel_launcher.py:1: DeprecationWarning: Call to deprecated `most_similar` (Method will be removed in 4.0.0, use self.wv.most_similar() instead).\n",
      "  \"\"\"Entry point for launching an IPython kernel.\n"
     ]
    },
    {
     "data": {
      "text/plain": [
       "[('shoe', 0.575181782245636),\n",
       " ('loafer', 0.5149010419845581),\n",
       " ('flip', 0.4916948676109314),\n",
       " ('flop', 0.48971760272979736),\n",
       " ('sandal', 0.48794713616371155),\n",
       " ('boot', 0.4714520573616028),\n",
       " ('gum', 0.4624810218811035),\n",
       " ('slide', 0.4525415003299713),\n",
       " ('slipper', 0.4499064087867737),\n",
       " ('elk', 0.41835683584213257)]"
      ]
     },
     "execution_count": 286,
     "metadata": {},
     "output_type": "execute_result"
    }
   ],
   "source": [
    "model.most_similar('sneaker')"
   ]
  },
  {
   "cell_type": "code",
   "execution_count": 287,
   "id": "unauthorized-input",
   "metadata": {},
   "outputs": [
    {
     "name": "stderr",
     "output_type": "stream",
     "text": [
      "C:\\Users\\Akshay\\.conda\\envs\\pytorchenv\\lib\\site-packages\\ipykernel_launcher.py:1: DeprecationWarning: Call to deprecated `most_similar` (Method will be removed in 4.0.0, use self.wv.most_similar() instead).\n",
      "  \"\"\"Entry point for launching an IPython kernel.\n"
     ]
    },
    {
     "data": {
      "text/plain": [
       "[('planner', 0.6667201519012451),\n",
       " ('programmer', 0.6560723781585693),\n",
       " ('instruments', 0.6409258246421814),\n",
       " ('pearlgold', 0.6335291862487793),\n",
       " ('landspeeder™', 0.6239038705825806),\n",
       " ('fucshia', 0.6208600997924805),\n",
       " ('ukelele', 0.6207716464996338),\n",
       " ('resisting', 0.6168082356452942),\n",
       " ('tidbit', 0.6146268844604492),\n",
       " ('clubhouse', 0.6140837073326111)]"
      ]
     },
     "execution_count": 287,
     "metadata": {},
     "output_type": "execute_result"
    }
   ],
   "source": [
    "model.most_similar('mobile')"
   ]
  },
  {
   "cell_type": "code",
   "execution_count": 289,
   "id": "perfect-onion",
   "metadata": {},
   "outputs": [],
   "source": [
    "## Change hyperparamter (windows size= (3->9)\n",
    "model = Word2Vec(sentences, min_count=1, size=200, workers=6, window=9, iter=10)"
   ]
  },
  {
   "cell_type": "code",
   "execution_count": 291,
   "id": "nominated-attempt",
   "metadata": {},
   "outputs": [
    {
     "data": {
      "text/plain": [
       "26698"
      ]
     },
     "execution_count": 291,
     "metadata": {},
     "output_type": "execute_result"
    }
   ],
   "source": [
    "len(model.wv.vocab)"
   ]
  },
  {
   "cell_type": "code",
   "execution_count": 292,
   "id": "political-commerce",
   "metadata": {},
   "outputs": [
    {
     "name": "stderr",
     "output_type": "stream",
     "text": [
      "C:\\Users\\Akshay\\.conda\\envs\\pytorchenv\\lib\\site-packages\\ipykernel_launcher.py:1: DeprecationWarning: Call to deprecated `most_similar` (Method will be removed in 4.0.0, use self.wv.most_similar() instead).\n",
      "  \"\"\"Entry point for launching an IPython kernel.\n"
     ]
    },
    {
     "data": {
      "text/plain": [
       "[('vest', 0.7762060165405273),\n",
       " ('parka', 0.6845677495002747),\n",
       " ('coat', 0.6841486096382141),\n",
       " ('raincoat', 0.6209619045257568),\n",
       " ('joggers', 0.581281304359436),\n",
       " ('cardigan', 0.550774097442627),\n",
       " ('miniskirt', 0.5494042634963989),\n",
       " ('pullover', 0.548337996006012),\n",
       " ('leggings', 0.5479260683059692),\n",
       " ('sweatpants', 0.5445652604103088)]"
      ]
     },
     "execution_count": 292,
     "metadata": {},
     "output_type": "execute_result"
    }
   ],
   "source": [
    "model.most_similar('jacket')"
   ]
  },
  {
   "cell_type": "code",
   "execution_count": 293,
   "id": "acute-payday",
   "metadata": {},
   "outputs": [
    {
     "name": "stderr",
     "output_type": "stream",
     "text": [
      "C:\\Users\\Akshay\\.conda\\envs\\pytorchenv\\lib\\site-packages\\ipykernel_launcher.py:1: DeprecationWarning: Call to deprecated `most_similar` (Method will be removed in 4.0.0, use self.wv.most_similar() instead).\n",
      "  \"\"\"Entry point for launching an IPython kernel.\n"
     ]
    },
    {
     "data": {
      "text/plain": [
       "[('shoe', 0.5893261432647705),\n",
       " ('sandal', 0.5477840900421143),\n",
       " ('slide', 0.5447310209274292),\n",
       " ('loafer', 0.5409703850746155),\n",
       " ('boot', 0.5202202796936035),\n",
       " ('flop', 0.4905245006084442),\n",
       " ('bootie', 0.48400360345840454),\n",
       " ('clog', 0.4798380732536316),\n",
       " ('slipper', 0.47803324460983276),\n",
       " ('gargoyle', 0.47009795904159546)]"
      ]
     },
     "execution_count": 293,
     "metadata": {},
     "output_type": "execute_result"
    }
   ],
   "source": [
    "model.most_similar('sneaker')"
   ]
  },
  {
   "cell_type": "code",
   "execution_count": 294,
   "id": "pending-province",
   "metadata": {},
   "outputs": [
    {
     "name": "stderr",
     "output_type": "stream",
     "text": [
      "C:\\Users\\Akshay\\.conda\\envs\\pytorchenv\\lib\\site-packages\\ipykernel_launcher.py:1: DeprecationWarning: Call to deprecated `most_similar` (Method will be removed in 4.0.0, use self.wv.most_similar() instead).\n",
      "  \"\"\"Entry point for launching an IPython kernel.\n"
     ]
    },
    {
     "data": {
      "text/plain": [
       "[('grabber', 0.5979047417640686),\n",
       " ('cradle', 0.5970484018325806),\n",
       " ('puppy', 0.5957483053207397),\n",
       " ('toolbox', 0.5934377312660217),\n",
       " ('hedgehog', 0.592780590057373),\n",
       " ('programmer', 0.5900658369064331),\n",
       " ('blankie', 0.5878332853317261),\n",
       " ('ark', 0.5858703851699829),\n",
       " ('ukelele', 0.581758439540863),\n",
       " ('bola', 0.5698684453964233)]"
      ]
     },
     "execution_count": 294,
     "metadata": {},
     "output_type": "execute_result"
    }
   ],
   "source": [
    "model.most_similar('mobile')"
   ]
  },
  {
   "cell_type": "code",
   "execution_count": 296,
   "id": "waiting-survival",
   "metadata": {},
   "outputs": [
    {
     "name": "stderr",
     "output_type": "stream",
     "text": [
      "C:\\Users\\Akshay\\.conda\\envs\\pytorchenv\\lib\\site-packages\\ipykernel_launcher.py:1: DeprecationWarning: Call to deprecated `most_similar` (Method will be removed in 4.0.0, use self.wv.most_similar() instead).\n",
      "  \"\"\"Entry point for launching an IPython kernel.\n"
     ]
    },
    {
     "data": {
      "text/plain": [
       "[('oblio', 0.7344127893447876),\n",
       " ('speaker', 0.6161797046661377),\n",
       " ('pods', 0.6031231880187988),\n",
       " ('lexon', 0.5906018018722534),\n",
       " ('terrazzo', 0.5842087268829346),\n",
       " ('terazzo', 0.5829258561134338),\n",
       " ('bluetooth®', 0.5524916648864746),\n",
       " ('earbuds', 0.5517601370811462),\n",
       " ('lansing', 0.5196601748466492),\n",
       " ('cleaner', 0.5190761089324951)]"
      ]
     },
     "execution_count": 296,
     "metadata": {},
     "output_type": "execute_result"
    }
   ],
   "source": [
    "model.most_similar('charger')"
   ]
  },
  {
   "cell_type": "code",
   "execution_count": 298,
   "id": "funky-profit",
   "metadata": {},
   "outputs": [],
   "source": [
    "## Change hyperparamter: iter (10->30)\n",
    "model = Word2Vec(sentences, min_count=1, size=200, workers=6, window=9, iter=30)"
   ]
  },
  {
   "cell_type": "code",
   "execution_count": 299,
   "id": "legal-temperature",
   "metadata": {},
   "outputs": [
    {
     "data": {
      "text/plain": [
       "26698"
      ]
     },
     "execution_count": 299,
     "metadata": {},
     "output_type": "execute_result"
    }
   ],
   "source": [
    "len(model.wv.vocab)"
   ]
  },
  {
   "cell_type": "code",
   "execution_count": 300,
   "id": "necessary-river",
   "metadata": {},
   "outputs": [
    {
     "name": "stderr",
     "output_type": "stream",
     "text": [
      "C:\\Users\\Akshay\\.conda\\envs\\pytorchenv\\lib\\site-packages\\ipykernel_launcher.py:1: DeprecationWarning: Call to deprecated `most_similar` (Method will be removed in 4.0.0, use self.wv.most_similar() instead).\n",
      "  \"\"\"Entry point for launching an IPython kernel.\n"
     ]
    },
    {
     "data": {
      "text/plain": [
       "[('vest', 0.7265077233314514),\n",
       " ('coat', 0.6830401420593262),\n",
       " ('parka', 0.6362659335136414),\n",
       " ('raincoat', 0.5556483864784241),\n",
       " ('pullover', 0.5439473986625671),\n",
       " ('joggers', 0.5421296954154968),\n",
       " ('hoodie', 0.5406759977340698),\n",
       " ('pants', 0.5297666788101196),\n",
       " ('cardigan', 0.5138182044029236),\n",
       " ('sweatshirt', 0.5048598051071167)]"
      ]
     },
     "execution_count": 300,
     "metadata": {},
     "output_type": "execute_result"
    }
   ],
   "source": [
    "model.most_similar('jacket')"
   ]
  },
  {
   "cell_type": "code",
   "execution_count": 301,
   "id": "colonial-belly",
   "metadata": {},
   "outputs": [
    {
     "name": "stderr",
     "output_type": "stream",
     "text": [
      "C:\\Users\\Akshay\\.conda\\envs\\pytorchenv\\lib\\site-packages\\ipykernel_launcher.py:1: DeprecationWarning: Call to deprecated `most_similar` (Method will be removed in 4.0.0, use self.wv.most_similar() instead).\n",
      "  \"\"\"Entry point for launching an IPython kernel.\n"
     ]
    },
    {
     "data": {
      "text/plain": [
       "[('sandal', 0.6780663132667542),\n",
       " ('shoe', 0.6225469708442688),\n",
       " ('boot', 0.594718337059021),\n",
       " ('loafer', 0.5941756963729858),\n",
       " ('slide', 0.5841199159622192),\n",
       " ('bootie', 0.5822051167488098),\n",
       " ('flop', 0.5315537452697754),\n",
       " ('flip', 0.5250399112701416),\n",
       " ('moccasin', 0.5183849334716797),\n",
       " ('flat', 0.5160670280456543)]"
      ]
     },
     "execution_count": 301,
     "metadata": {},
     "output_type": "execute_result"
    }
   ],
   "source": [
    "model.most_similar('sneaker')"
   ]
  },
  {
   "cell_type": "code",
   "execution_count": 302,
   "id": "systematic-powell",
   "metadata": {},
   "outputs": [
    {
     "name": "stderr",
     "output_type": "stream",
     "text": [
      "C:\\Users\\Akshay\\.conda\\envs\\pytorchenv\\lib\\site-packages\\ipykernel_launcher.py:1: DeprecationWarning: Call to deprecated `most_similar` (Method will be removed in 4.0.0, use self.wv.most_similar() instead).\n",
      "  \"\"\"Entry point for launching an IPython kernel.\n"
     ]
    },
    {
     "data": {
      "text/plain": [
       "[('cottesloe', 0.5120266079902649),\n",
       " ('grabber', 0.5072698593139648),\n",
       " ('teething', 0.4988667368888855),\n",
       " ('multco', 0.47503307461738586),\n",
       " ('programmer', 0.4733580946922302),\n",
       " ('blankie', 0.4664655327796936),\n",
       " ('allix', 0.4608061909675598),\n",
       " ('ark', 0.4499088227748871),\n",
       " ('flashcards', 0.445121169090271),\n",
       " ('ukelele', 0.439644455909729)]"
      ]
     },
     "execution_count": 302,
     "metadata": {},
     "output_type": "execute_result"
    }
   ],
   "source": [
    "model.most_similar('mobile')"
   ]
  },
  {
   "cell_type": "code",
   "execution_count": 307,
   "id": "designing-charter",
   "metadata": {},
   "outputs": [],
   "source": [
    "## Changing embedding dimension 200->300\n",
    "model = Word2Vec(sentences, min_count=1, size=300, workers=6, window=9, iter=30)"
   ]
  },
  {
   "cell_type": "code",
   "execution_count": 308,
   "id": "compound-strength",
   "metadata": {},
   "outputs": [
    {
     "data": {
      "text/plain": [
       "26698"
      ]
     },
     "execution_count": 308,
     "metadata": {},
     "output_type": "execute_result"
    }
   ],
   "source": [
    "len(model.wv.vocab)"
   ]
  },
  {
   "cell_type": "code",
   "execution_count": 309,
   "id": "minimal-theory",
   "metadata": {},
   "outputs": [
    {
     "name": "stderr",
     "output_type": "stream",
     "text": [
      "C:\\Users\\Akshay\\.conda\\envs\\pytorchenv\\lib\\site-packages\\ipykernel_launcher.py:1: DeprecationWarning: Call to deprecated `most_similar` (Method will be removed in 4.0.0, use self.wv.most_similar() instead).\n",
      "  \"\"\"Entry point for launching an IPython kernel.\n"
     ]
    },
    {
     "data": {
      "text/plain": [
       "[('vest', 0.7053204774856567),\n",
       " ('coat', 0.6617432832717896),\n",
       " ('parka', 0.6214284896850586),\n",
       " ('raincoat', 0.5477792024612427),\n",
       " ('joggers', 0.5271948575973511),\n",
       " ('pants', 0.5196796655654907),\n",
       " ('pullover', 0.5123668909072876),\n",
       " ('hoodie', 0.5090541839599609),\n",
       " ('sweatpants', 0.5053430795669556),\n",
       " ('cardigan', 0.4997313618659973)]"
      ]
     },
     "execution_count": 309,
     "metadata": {},
     "output_type": "execute_result"
    }
   ],
   "source": [
    "model.most_similar('jacket')"
   ]
  },
  {
   "cell_type": "code",
   "execution_count": 310,
   "id": "naughty-debate",
   "metadata": {},
   "outputs": [
    {
     "name": "stderr",
     "output_type": "stream",
     "text": [
      "C:\\Users\\Akshay\\.conda\\envs\\pytorchenv\\lib\\site-packages\\ipykernel_launcher.py:1: DeprecationWarning: Call to deprecated `most_similar` (Method will be removed in 4.0.0, use self.wv.most_similar() instead).\n",
      "  \"\"\"Entry point for launching an IPython kernel.\n"
     ]
    },
    {
     "data": {
      "text/plain": [
       "[('sandal', 0.6437646150588989),\n",
       " ('shoe', 0.5988448262214661),\n",
       " ('boot', 0.5933150053024292),\n",
       " ('loafer', 0.5691571235656738),\n",
       " ('bootie', 0.5663340091705322),\n",
       " ('slide', 0.5650060176849365),\n",
       " ('flop', 0.546144962310791),\n",
       " ('slipper', 0.5213775634765625),\n",
       " ('flat', 0.5031276345252991),\n",
       " ('flip', 0.4806806743144989)]"
      ]
     },
     "execution_count": 310,
     "metadata": {},
     "output_type": "execute_result"
    }
   ],
   "source": [
    "model.most_similar('sneaker')"
   ]
  },
  {
   "cell_type": "code",
   "execution_count": 312,
   "id": "contemporary-reality",
   "metadata": {},
   "outputs": [
    {
     "name": "stderr",
     "output_type": "stream",
     "text": [
      "C:\\Users\\Akshay\\.conda\\envs\\pytorchenv\\lib\\site-packages\\ipykernel_launcher.py:1: DeprecationWarning: Call to deprecated `most_similar` (Method will be removed in 4.0.0, use self.wv.most_similar() instead).\n",
      "  \"\"\"Entry point for launching an IPython kernel.\n"
     ]
    },
    {
     "data": {
      "text/plain": [
       "[('grabber', 0.4878574311733246),\n",
       " ('allix', 0.482843279838562),\n",
       " ('goal', 0.47212713956832886),\n",
       " ('sophiesticated', 0.4712635576725006),\n",
       " ('blankie', 0.46532467007637024),\n",
       " ('multco', 0.4456629157066345),\n",
       " ('quarterly', 0.4438058137893677),\n",
       " ('ark', 0.44104254245758057),\n",
       " ('programmer', 0.43792349100112915),\n",
       " ('cottesloe', 0.4276331663131714)]"
      ]
     },
     "execution_count": 312,
     "metadata": {},
     "output_type": "execute_result"
    }
   ],
   "source": [
    "model.most_similar('mobile')"
   ]
  },
  {
   "cell_type": "code",
   "execution_count": 314,
   "id": "optimum-toronto",
   "metadata": {},
   "outputs": [],
   "source": [
    "## Change in hyperparameter: window (9-7)\n",
    "model = Word2Vec(sentences, min_count=1, size=300, workers=6, window=7, iter=30)"
   ]
  },
  {
   "cell_type": "code",
   "execution_count": 316,
   "id": "statutory-shuttle",
   "metadata": {},
   "outputs": [
    {
     "name": "stderr",
     "output_type": "stream",
     "text": [
      "C:\\Users\\Akshay\\.conda\\envs\\pytorchenv\\lib\\site-packages\\ipykernel_launcher.py:1: DeprecationWarning: Call to deprecated `most_similar` (Method will be removed in 4.0.0, use self.wv.most_similar() instead).\n",
      "  \"\"\"Entry point for launching an IPython kernel.\n"
     ]
    },
    {
     "data": {
      "text/plain": [
       "[('vest', 0.6921069025993347),\n",
       " ('coat', 0.6389036178588867),\n",
       " ('parka', 0.5980799198150635),\n",
       " ('raincoat', 0.5334936380386353),\n",
       " ('pants', 0.49985814094543457),\n",
       " ('pullover', 0.4899914264678955),\n",
       " ('joggers', 0.48584848642349243),\n",
       " ('cardigan', 0.4743598699569702),\n",
       " ('leggings', 0.4682120680809021),\n",
       " ('sweatpants', 0.46053311228752136)]"
      ]
     },
     "execution_count": 316,
     "metadata": {},
     "output_type": "execute_result"
    }
   ],
   "source": [
    "model.most_similar('jacket')"
   ]
  },
  {
   "cell_type": "code",
   "execution_count": 317,
   "id": "continuous-lawyer",
   "metadata": {},
   "outputs": [
    {
     "name": "stderr",
     "output_type": "stream",
     "text": [
      "C:\\Users\\Akshay\\.conda\\envs\\pytorchenv\\lib\\site-packages\\ipykernel_launcher.py:1: DeprecationWarning: Call to deprecated `most_similar` (Method will be removed in 4.0.0, use self.wv.most_similar() instead).\n",
      "  \"\"\"Entry point for launching an IPython kernel.\n"
     ]
    },
    {
     "data": {
      "text/plain": [
       "[('sandal', 0.6327903866767883),\n",
       " ('shoe', 0.5975995063781738),\n",
       " ('loafer', 0.5783309936523438),\n",
       " ('boot', 0.5776581168174744),\n",
       " ('slide', 0.5721780061721802),\n",
       " ('bootie', 0.5647616386413574),\n",
       " ('flop', 0.5460494756698608),\n",
       " ('slipper', 0.505042314529419),\n",
       " ('flip', 0.5047544240951538),\n",
       " ('flat', 0.48346245288848877)]"
      ]
     },
     "execution_count": 317,
     "metadata": {},
     "output_type": "execute_result"
    }
   ],
   "source": [
    "model.most_similar('sneaker')"
   ]
  },
  {
   "cell_type": "code",
   "execution_count": 318,
   "id": "acoustic-seating",
   "metadata": {},
   "outputs": [
    {
     "name": "stderr",
     "output_type": "stream",
     "text": [
      "C:\\Users\\Akshay\\.conda\\envs\\pytorchenv\\lib\\site-packages\\ipykernel_launcher.py:1: DeprecationWarning: Call to deprecated `most_similar` (Method will be removed in 4.0.0, use self.wv.most_similar() instead).\n",
      "  \"\"\"Entry point for launching an IPython kernel.\n"
     ]
    },
    {
     "data": {
      "text/plain": [
       "[('goal', 0.5091447234153748),\n",
       " ('blankie', 0.5063661336898804),\n",
       " ('teething', 0.4934045374393463),\n",
       " ('programmer', 0.4832916557788849),\n",
       " ('puppy', 0.4738975167274475),\n",
       " ('grabber', 0.4737568497657776),\n",
       " ('flashcards', 0.46878406405448914),\n",
       " ('planner', 0.46817195415496826),\n",
       " ('quarterly', 0.46658653020858765),\n",
       " ('clovelly', 0.45564427971839905)]"
      ]
     },
     "execution_count": 318,
     "metadata": {},
     "output_type": "execute_result"
    }
   ],
   "source": [
    "model.most_similar('mobile')"
   ]
  },
  {
   "cell_type": "code",
   "execution_count": 320,
   "id": "radical-immigration",
   "metadata": {},
   "outputs": [],
   "source": [
    "## Changing mincount (1-2)\n",
    "model = Word2Vec(sentences, min_count=2, size=200, workers=6, window=9, iter=30)"
   ]
  },
  {
   "cell_type": "code",
   "execution_count": 321,
   "id": "experimental-netherlands",
   "metadata": {},
   "outputs": [
    {
     "data": {
      "text/plain": [
       "22952"
      ]
     },
     "execution_count": 321,
     "metadata": {},
     "output_type": "execute_result"
    }
   ],
   "source": [
    "len(model.wv.vocab)"
   ]
  },
  {
   "cell_type": "code",
   "execution_count": 322,
   "id": "minute-lafayette",
   "metadata": {},
   "outputs": [
    {
     "name": "stderr",
     "output_type": "stream",
     "text": [
      "C:\\Users\\Akshay\\.conda\\envs\\pytorchenv\\lib\\site-packages\\ipykernel_launcher.py:1: DeprecationWarning: Call to deprecated `most_similar` (Method will be removed in 4.0.0, use self.wv.most_similar() instead).\n",
      "  \"\"\"Entry point for launching an IPython kernel.\n"
     ]
    },
    {
     "data": {
      "text/plain": [
       "[('vest', 0.7161762714385986),\n",
       " ('coat', 0.674823522567749),\n",
       " ('parka', 0.6393566131591797),\n",
       " ('raincoat', 0.5564126372337341),\n",
       " ('joggers', 0.551395058631897),\n",
       " ('pullover', 0.5374972224235535),\n",
       " ('pants', 0.5299801826477051),\n",
       " ('hoodie', 0.5285268425941467),\n",
       " ('sweatpants', 0.5223351120948792),\n",
       " ('cardigan', 0.5125088691711426)]"
      ]
     },
     "execution_count": 322,
     "metadata": {},
     "output_type": "execute_result"
    }
   ],
   "source": [
    "model.most_similar('jacket')"
   ]
  },
  {
   "cell_type": "code",
   "execution_count": 324,
   "id": "likely-cooper",
   "metadata": {},
   "outputs": [
    {
     "name": "stderr",
     "output_type": "stream",
     "text": [
      "C:\\Users\\Akshay\\.conda\\envs\\pytorchenv\\lib\\site-packages\\ipykernel_launcher.py:1: DeprecationWarning: Call to deprecated `most_similar` (Method will be removed in 4.0.0, use self.wv.most_similar() instead).\n",
      "  \"\"\"Entry point for launching an IPython kernel.\n"
     ]
    },
    {
     "data": {
      "text/plain": [
       "[('sandal', 0.6674016714096069),\n",
       " ('shoe', 0.6106605529785156),\n",
       " ('slide', 0.586976945400238),\n",
       " ('boot', 0.5850046873092651),\n",
       " ('bootie', 0.5841420292854309),\n",
       " ('loafer', 0.5797597169876099),\n",
       " ('flop', 0.5296533107757568),\n",
       " ('slipper', 0.5254599452018738),\n",
       " ('flat', 0.5140346884727478),\n",
       " ('flip', 0.5092979669570923)]"
      ]
     },
     "execution_count": 324,
     "metadata": {},
     "output_type": "execute_result"
    }
   ],
   "source": [
    "model.most_similar('sneaker')"
   ]
  },
  {
   "cell_type": "code",
   "execution_count": 325,
   "id": "minus-military",
   "metadata": {},
   "outputs": [
    {
     "name": "stderr",
     "output_type": "stream",
     "text": [
      "C:\\Users\\Akshay\\.conda\\envs\\pytorchenv\\lib\\site-packages\\ipykernel_launcher.py:1: DeprecationWarning: Call to deprecated `most_similar` (Method will be removed in 4.0.0, use self.wv.most_similar() instead).\n",
      "  \"\"\"Entry point for launching an IPython kernel.\n"
     ]
    },
    {
     "data": {
      "text/plain": [
       "[('grabber', 0.5308519601821899),\n",
       " ('multco', 0.5242213010787964),\n",
       " ('cottesloe', 0.5116217136383057),\n",
       " ('ark', 0.49865520000457764),\n",
       " ('blankie', 0.4929807186126709),\n",
       " ('noahs', 0.4885956048965454),\n",
       " ('allix', 0.4647219479084015),\n",
       " ('sophiesticated', 0.4602026641368866),\n",
       " ('roffe', 0.45898887515068054),\n",
       " ('therapeutic', 0.45886945724487305)]"
      ]
     },
     "execution_count": 325,
     "metadata": {},
     "output_type": "execute_result"
    }
   ],
   "source": [
    "model.most_similar('mobile')"
   ]
  },
  {
   "cell_type": "markdown",
   "id": "racial-shoot",
   "metadata": {},
   "source": [
    "### training on all features - (title, match_title, description, min_description, color)"
   ]
  },
  {
   "cell_type": "code",
   "execution_count": 328,
   "id": "banner-identifier",
   "metadata": {},
   "outputs": [],
   "source": [
    "sentences = []\n",
    "for row in corpus['title']:\n",
    "    sentences.append(list(row))\n",
    "    \n",
    "for row in corpus['match_title']:\n",
    "    sentences.append(list(row))\n",
    "\n",
    "for row in corpus['description']:\n",
    "    sentences.append(list(row))\n",
    "    \n",
    "for row in corpus['match_description']:\n",
    "    sentences.append(list(row))\n",
    "    \n",
    "for row in corpus['color']:\n",
    "    sentences.append(list(row))"
   ]
  },
  {
   "cell_type": "code",
   "execution_count": 329,
   "id": "rocky-alabama",
   "metadata": {},
   "outputs": [
    {
     "data": {
      "text/plain": [
       "1540205"
      ]
     },
     "execution_count": 329,
     "metadata": {},
     "output_type": "execute_result"
    }
   ],
   "source": [
    "len(sentences)"
   ]
  },
  {
   "cell_type": "code",
   "execution_count": 333,
   "id": "dense-grounds",
   "metadata": {},
   "outputs": [],
   "source": [
    "model = Word2Vec(sentences, min_count=1, size=200, workers=6, window=9, iter=30)"
   ]
  },
  {
   "cell_type": "code",
   "execution_count": 335,
   "id": "adjacent-announcement",
   "metadata": {},
   "outputs": [
    {
     "data": {
      "text/plain": [
       "89813"
      ]
     },
     "execution_count": 335,
     "metadata": {},
     "output_type": "execute_result"
    }
   ],
   "source": [
    "len(model.wv.vocab)"
   ]
  },
  {
   "cell_type": "code",
   "execution_count": 336,
   "id": "judicial-envelope",
   "metadata": {},
   "outputs": [
    {
     "name": "stderr",
     "output_type": "stream",
     "text": [
      "C:\\Users\\Akshay\\.conda\\envs\\pytorchenv\\lib\\site-packages\\ipykernel_launcher.py:1: DeprecationWarning: Call to deprecated `most_similar` (Method will be removed in 4.0.0, use self.wv.most_similar() instead).\n",
      "  \"\"\"Entry point for launching an IPython kernel.\n"
     ]
    },
    {
     "data": {
      "text/plain": [
       "[('vest', 0.741928219795227),\n",
       " ('parka', 0.6525267362594604),\n",
       " ('raincoat', 0.6182602643966675),\n",
       " ('cardigan', 0.6044610738754272),\n",
       " ('hoodie', 0.5461168885231018),\n",
       " ('windbreaker', 0.5416706800460815),\n",
       " ('anorak', 0.5351794958114624),\n",
       " ('blazer', 0.5113333463668823),\n",
       " ('sweatshirt', 0.5003517866134644),\n",
       " ('gilet', 0.4896860122680664)]"
      ]
     },
     "execution_count": 336,
     "metadata": {},
     "output_type": "execute_result"
    }
   ],
   "source": [
    "model.most_similar('jacket')"
   ]
  },
  {
   "cell_type": "code",
   "execution_count": 337,
   "id": "german-dictionary",
   "metadata": {},
   "outputs": [
    {
     "name": "stderr",
     "output_type": "stream",
     "text": [
      "C:\\Users\\Akshay\\.conda\\envs\\pytorchenv\\lib\\site-packages\\ipykernel_launcher.py:1: DeprecationWarning: Call to deprecated `most_similar` (Method will be removed in 4.0.0, use self.wv.most_similar() instead).\n",
      "  \"\"\"Entry point for launching an IPython kernel.\n"
     ]
    },
    {
     "data": {
      "text/plain": [
       "[('sneakers', 0.7442237734794617),\n",
       " ('sandal', 0.6258714199066162),\n",
       " ('bootie', 0.617617666721344),\n",
       " ('shoe', 0.6070288419723511),\n",
       " ('loafer', 0.5863436460494995),\n",
       " ('boot', 0.562466561794281),\n",
       " ('mule', 0.5350886583328247),\n",
       " ('derby', 0.4969525933265686),\n",
       " ('trainers', 0.4875684976577759),\n",
       " ('shoes', 0.4820402264595032)]"
      ]
     },
     "execution_count": 337,
     "metadata": {},
     "output_type": "execute_result"
    }
   ],
   "source": [
    "model.most_similar('sneaker')"
   ]
  },
  {
   "cell_type": "code",
   "execution_count": 338,
   "id": "finnish-craft",
   "metadata": {},
   "outputs": [
    {
     "name": "stderr",
     "output_type": "stream",
     "text": [
      "C:\\Users\\Akshay\\.conda\\envs\\pytorchenv\\lib\\site-packages\\ipykernel_launcher.py:1: DeprecationWarning: Call to deprecated `most_similar` (Method will be removed in 4.0.0, use self.wv.most_similar() instead).\n",
      "  \"\"\"Entry point for launching an IPython kernel.\n"
     ]
    },
    {
     "data": {
      "text/plain": [
       "[('coding', 0.38513898849487305),\n",
       " ('recieve', 0.3376978039741516),\n",
       " ('sensesaromatherapy', 0.3370952308177948),\n",
       " ('nokidhungryorgonedollar', 0.33002710342407227),\n",
       " ('haba', 0.3283977508544922),\n",
       " ('ding', 0.3274790644645691),\n",
       " ('beginninghow', 0.32530075311660767),\n",
       " ('baubles', 0.32338595390319824),\n",
       " ('pacifiers', 0.3120989203453064),\n",
       " ('timex™', 0.3120735287666321)]"
      ]
     },
     "execution_count": 338,
     "metadata": {},
     "output_type": "execute_result"
    }
   ],
   "source": [
    "model.most_similar('mobile')"
   ]
  },
  {
   "cell_type": "code",
   "execution_count": 339,
   "id": "sound-train",
   "metadata": {},
   "outputs": [
    {
     "name": "stderr",
     "output_type": "stream",
     "text": [
      "C:\\Users\\Akshay\\.conda\\envs\\pytorchenv\\lib\\site-packages\\ipykernel_launcher.py:1: DeprecationWarning: Call to deprecated `most_similar` (Method will be removed in 4.0.0, use self.wv.most_similar() instead).\n",
      "  \"\"\"Entry point for launching an IPython kernel.\n"
     ]
    },
    {
     "data": {
      "text/plain": [
       "[('couch', 0.5190832614898682),\n",
       " ('marinière', 0.402392715215683),\n",
       " ('torchlight', 0.38560929894447327),\n",
       " ('chilling', 0.38253551721572876),\n",
       " ('comfiest', 0.3780391216278076),\n",
       " ('occassion', 0.36806732416152954),\n",
       " ('go', 0.3645569980144501),\n",
       " ('plié', 0.36319711804389954),\n",
       " ('btch', 0.362680584192276),\n",
       " ('gowho', 0.35397690534591675)]"
      ]
     },
     "execution_count": 339,
     "metadata": {},
     "output_type": "execute_result"
    }
   ],
   "source": [
    "model.most_similar('sofa')"
   ]
  },
  {
   "cell_type": "code",
   "execution_count": 340,
   "id": "biological-mother",
   "metadata": {},
   "outputs": [
    {
     "name": "stderr",
     "output_type": "stream",
     "text": [
      "C:\\Users\\Akshay\\.conda\\envs\\pytorchenv\\lib\\site-packages\\ipykernel_launcher.py:1: DeprecationWarning: Call to deprecated `most_similar` (Method will be removed in 4.0.0, use self.wv.most_similar() instead).\n",
      "  \"\"\"Entry point for launching an IPython kernel.\n"
     ]
    },
    {
     "data": {
      "text/plain": [
       "[('wi', 0.4996408224105835),\n",
       " ('adapter', 0.4524473249912262),\n",
       " ('oblio', 0.4518716335296631),\n",
       " ('incompatible', 0.44209590554237366),\n",
       " ('aaa', 0.4414590001106262),\n",
       " ('keysmart', 0.44033461809158325),\n",
       " ('wifi', 0.43954890966415405),\n",
       " ('assistant', 0.43842485547065735),\n",
       " ('android', 0.4331709146499634),\n",
       " ('canceling', 0.4292817711830139)]"
      ]
     },
     "execution_count": 340,
     "metadata": {},
     "output_type": "execute_result"
    }
   ],
   "source": [
    "model.most_similar('charger')"
   ]
  },
  {
   "cell_type": "markdown",
   "id": "hairy-newspaper",
   "metadata": {},
   "source": [
    "### changing the hyperparameters"
   ]
  },
  {
   "cell_type": "code",
   "execution_count": 342,
   "id": "super-powder",
   "metadata": {},
   "outputs": [],
   "source": [
    "model = Word2Vec(sentences, min_count=1, size=200, workers=6, window=7, iter=30)"
   ]
  },
  {
   "cell_type": "code",
   "execution_count": 343,
   "id": "adopted-reconstruction",
   "metadata": {},
   "outputs": [
    {
     "data": {
      "text/plain": [
       "89813"
      ]
     },
     "execution_count": 343,
     "metadata": {},
     "output_type": "execute_result"
    }
   ],
   "source": [
    "len(model.wv.vocab)"
   ]
  },
  {
   "cell_type": "code",
   "execution_count": 344,
   "id": "surgical-agency",
   "metadata": {},
   "outputs": [
    {
     "name": "stderr",
     "output_type": "stream",
     "text": [
      "C:\\Users\\Akshay\\.conda\\envs\\pytorchenv\\lib\\site-packages\\ipykernel_launcher.py:1: DeprecationWarning: Call to deprecated `most_similar` (Method will be removed in 4.0.0, use self.wv.most_similar() instead).\n",
      "  \"\"\"Entry point for launching an IPython kernel.\n"
     ]
    },
    {
     "data": {
      "text/plain": [
       "[('vest', 0.7360107898712158),\n",
       " ('parka', 0.6576131582260132),\n",
       " ('raincoat', 0.6079296469688416),\n",
       " ('cardigan', 0.5949206948280334),\n",
       " ('anorak', 0.554686427116394),\n",
       " ('hoodie', 0.5396915674209595),\n",
       " ('blazer', 0.5189775824546814),\n",
       " ('windbreaker', 0.5032904148101807),\n",
       " ('sweater', 0.47806912660598755),\n",
       " ('sweatshirt', 0.476653516292572)]"
      ]
     },
     "execution_count": 344,
     "metadata": {},
     "output_type": "execute_result"
    }
   ],
   "source": [
    "model.most_similar('jacket')"
   ]
  },
  {
   "cell_type": "code",
   "execution_count": 345,
   "id": "postal-carol",
   "metadata": {},
   "outputs": [
    {
     "name": "stderr",
     "output_type": "stream",
     "text": [
      "C:\\Users\\Akshay\\.conda\\envs\\pytorchenv\\lib\\site-packages\\ipykernel_launcher.py:1: DeprecationWarning: Call to deprecated `most_similar` (Method will be removed in 4.0.0, use self.wv.most_similar() instead).\n",
      "  \"\"\"Entry point for launching an IPython kernel.\n"
     ]
    },
    {
     "data": {
      "text/plain": [
       "[('sneakers', 0.7375390529632568),\n",
       " ('bootie', 0.6308452486991882),\n",
       " ('sandal', 0.627427339553833),\n",
       " ('shoe', 0.6104562878608704),\n",
       " ('loafer', 0.5932319760322571),\n",
       " ('boot', 0.5632538199424744),\n",
       " ('mule', 0.551547646522522),\n",
       " ('derby', 0.5009572505950928),\n",
       " ('shoes', 0.48454520106315613),\n",
       " ('trainers', 0.46670132875442505)]"
      ]
     },
     "execution_count": 345,
     "metadata": {},
     "output_type": "execute_result"
    }
   ],
   "source": [
    "model.most_similar('sneaker')"
   ]
  },
  {
   "cell_type": "code",
   "execution_count": 346,
   "id": "acting-astronomy",
   "metadata": {},
   "outputs": [
    {
     "name": "stderr",
     "output_type": "stream",
     "text": [
      "C:\\Users\\Akshay\\.conda\\envs\\pytorchenv\\lib\\site-packages\\ipykernel_launcher.py:1: DeprecationWarning: Call to deprecated `most_similar` (Method will be removed in 4.0.0, use self.wv.most_similar() instead).\n",
      "  \"\"\"Entry point for launching an IPython kernel.\n"
     ]
    },
    {
     "data": {
      "text/plain": [
       "[('hedgehog', 0.35714003443717957),\n",
       " ('apps', 0.3535084128379822),\n",
       " ('bathtub', 0.3454494774341583),\n",
       " ('cakes', 0.3265300989151001),\n",
       " ('podcasts', 0.3219749629497528),\n",
       " ('coding', 0.32107093930244446),\n",
       " ('charges', 0.3204496502876282),\n",
       " ('touchbar', 0.3149166405200958),\n",
       " ('bandages', 0.3136991858482361),\n",
       " ('brutal', 0.3134861886501312)]"
      ]
     },
     "execution_count": 346,
     "metadata": {},
     "output_type": "execute_result"
    }
   ],
   "source": [
    "model.most_similar('mobile')"
   ]
  },
  {
   "cell_type": "code",
   "execution_count": 347,
   "id": "sporting-simulation",
   "metadata": {},
   "outputs": [
    {
     "name": "stderr",
     "output_type": "stream",
     "text": [
      "C:\\Users\\Akshay\\.conda\\envs\\pytorchenv\\lib\\site-packages\\ipykernel_launcher.py:1: DeprecationWarning: Call to deprecated `most_similar` (Method will be removed in 4.0.0, use self.wv.most_similar() instead).\n",
      "  \"\"\"Entry point for launching an IPython kernel.\n"
     ]
    },
    {
     "data": {
      "text/plain": [
       "[('couch', 0.5608115792274475),\n",
       " ('plié', 0.43403780460357666),\n",
       " ('barre', 0.4010542333126068),\n",
       " ('goshade', 0.363606333732605),\n",
       " ('marinière', 0.36343634128570557),\n",
       " ('sole—for', 0.3599902391433716),\n",
       " ('go', 0.359938383102417),\n",
       " ('tortillas', 0.3587237000465393),\n",
       " ('snuggling', 0.3564422130584717),\n",
       " ('streets', 0.35636264085769653)]"
      ]
     },
     "execution_count": 347,
     "metadata": {},
     "output_type": "execute_result"
    }
   ],
   "source": [
    "model.most_similar('sofa')"
   ]
  },
  {
   "cell_type": "code",
   "execution_count": 348,
   "id": "confirmed-female",
   "metadata": {},
   "outputs": [
    {
     "name": "stderr",
     "output_type": "stream",
     "text": [
      "C:\\Users\\Akshay\\.conda\\envs\\pytorchenv\\lib\\site-packages\\ipykernel_launcher.py:1: DeprecationWarning: Call to deprecated `most_similar` (Method will be removed in 4.0.0, use self.wv.most_similar() instead).\n",
      "  \"\"\"Entry point for launching an IPython kernel.\n"
     ]
    },
    {
     "data": {
      "text/plain": [
       "[('wi', 0.45451295375823975),\n",
       " ('adapter', 0.43053901195526123),\n",
       " ('keysmart', 0.42842555046081543),\n",
       " ('soundsport®', 0.4195632338523865),\n",
       " ('device', 0.4154983162879944),\n",
       " ('phone', 0.4125204086303711),\n",
       " ('assistant', 0.4110783040523529),\n",
       " ('oblio', 0.41051608324050903),\n",
       " ('qi', 0.40727007389068604),\n",
       " ('electronics', 0.4071753919124603)]"
      ]
     },
     "execution_count": 348,
     "metadata": {},
     "output_type": "execute_result"
    }
   ],
   "source": [
    "model.most_similar('charger')"
   ]
  },
  {
   "cell_type": "code",
   "execution_count": 350,
   "id": "advance-wilson",
   "metadata": {},
   "outputs": [],
   "source": [
    "## Changing hyperparameter: dim-size (200-300)\n",
    "model = Word2Vec(sentences, min_count=1, size=300, workers=6, window=9, iter=30)"
   ]
  },
  {
   "cell_type": "code",
   "execution_count": 352,
   "id": "editorial-applicant",
   "metadata": {},
   "outputs": [
    {
     "name": "stderr",
     "output_type": "stream",
     "text": [
      "C:\\Users\\Akshay\\.conda\\envs\\pytorchenv\\lib\\site-packages\\ipykernel_launcher.py:1: DeprecationWarning: Call to deprecated `most_similar` (Method will be removed in 4.0.0, use self.wv.most_similar() instead).\n",
      "  \"\"\"Entry point for launching an IPython kernel.\n"
     ]
    },
    {
     "data": {
      "text/plain": [
       "[('vest', 0.6987109184265137),\n",
       " ('parka', 0.5827820301055908),\n",
       " ('cardigan', 0.5420409440994263),\n",
       " ('raincoat', 0.524449348449707),\n",
       " ('hoodie', 0.5065807104110718),\n",
       " ('windbreaker', 0.4877925515174866),\n",
       " ('anorak', 0.4775785207748413),\n",
       " ('sweatshirt', 0.45647621154785156),\n",
       " ('blazer', 0.45554202795028687),\n",
       " ('sweater', 0.44973719120025635)]"
      ]
     },
     "execution_count": 352,
     "metadata": {},
     "output_type": "execute_result"
    }
   ],
   "source": [
    "model.most_similar('jacket')"
   ]
  },
  {
   "cell_type": "code",
   "execution_count": 353,
   "id": "coral-occurrence",
   "metadata": {},
   "outputs": [
    {
     "name": "stderr",
     "output_type": "stream",
     "text": [
      "C:\\Users\\Akshay\\.conda\\envs\\pytorchenv\\lib\\site-packages\\ipykernel_launcher.py:1: DeprecationWarning: Call to deprecated `most_similar` (Method will be removed in 4.0.0, use self.wv.most_similar() instead).\n",
      "  \"\"\"Entry point for launching an IPython kernel.\n"
     ]
    },
    {
     "data": {
      "text/plain": [
       "[('sneakers', 0.7191941738128662),\n",
       " ('bootie', 0.5944501161575317),\n",
       " ('sandal', 0.5931066274642944),\n",
       " ('shoe', 0.5624397397041321),\n",
       " ('loafer', 0.5511095523834229),\n",
       " ('boot', 0.5401980876922607),\n",
       " ('mule', 0.4582121968269348),\n",
       " ('derby', 0.4527275562286377),\n",
       " ('shoes', 0.42743754386901855),\n",
       " ('trainers', 0.41453176736831665)]"
      ]
     },
     "execution_count": 353,
     "metadata": {},
     "output_type": "execute_result"
    }
   ],
   "source": [
    "model.most_similar('sneaker')"
   ]
  },
  {
   "cell_type": "code",
   "execution_count": 354,
   "id": "surprised-dictionary",
   "metadata": {},
   "outputs": [
    {
     "name": "stderr",
     "output_type": "stream",
     "text": [
      "C:\\Users\\Akshay\\.conda\\envs\\pytorchenv\\lib\\site-packages\\ipykernel_launcher.py:1: DeprecationWarning: Call to deprecated `most_similar` (Method will be removed in 4.0.0, use self.wv.most_similar() instead).\n",
      "  \"\"\"Entry point for launching an IPython kernel.\n"
     ]
    },
    {
     "data": {
      "text/plain": [
       "[('skidproof', 0.3245064616203308),\n",
       " ('beginninghow', 0.3093853294849396),\n",
       " ('valleys', 0.29352158308029175),\n",
       " ('baubles', 0.2912706732749939),\n",
       " ('tent', 0.28146907687187195),\n",
       " ('apps', 0.28036925196647644),\n",
       " ('bathtub', 0.27838143706321716),\n",
       " ('ding', 0.27599817514419556),\n",
       " ('appealwhy', 0.27366405725479126),\n",
       " ('inches•', 0.2688619792461395)]"
      ]
     },
     "execution_count": 354,
     "metadata": {},
     "output_type": "execute_result"
    }
   ],
   "source": [
    "model.most_similar('mobile')"
   ]
  },
  {
   "cell_type": "code",
   "execution_count": 355,
   "id": "behavioral-tomato",
   "metadata": {},
   "outputs": [
    {
     "name": "stderr",
     "output_type": "stream",
     "text": [
      "C:\\Users\\Akshay\\.conda\\envs\\pytorchenv\\lib\\site-packages\\ipykernel_launcher.py:1: DeprecationWarning: Call to deprecated `most_similar` (Method will be removed in 4.0.0, use self.wv.most_similar() instead).\n",
      "  \"\"\"Entry point for launching an IPython kernel.\n"
     ]
    },
    {
     "data": {
      "text/plain": [
       "[('couch', 0.4735751748085022),\n",
       " ('goshade', 0.388747900724411),\n",
       " ('plié', 0.38663190603256226),\n",
       " ('chilling', 0.35262930393218994),\n",
       " ('logo—based', 0.3328953683376312),\n",
       " ('btch', 0.32912561297416687),\n",
       " ('snuggling', 0.3253437280654907),\n",
       " ('biceps', 0.32035568356513977),\n",
       " ('bitch', 0.32014116644859314),\n",
       " ('irons—is', 0.31433945894241333)]"
      ]
     },
     "execution_count": 355,
     "metadata": {},
     "output_type": "execute_result"
    }
   ],
   "source": [
    "model.most_similar('sofa')"
   ]
  },
  {
   "cell_type": "code",
   "execution_count": 356,
   "id": "personalized-cloud",
   "metadata": {},
   "outputs": [
    {
     "name": "stderr",
     "output_type": "stream",
     "text": [
      "C:\\Users\\Akshay\\.conda\\envs\\pytorchenv\\lib\\site-packages\\ipykernel_launcher.py:1: DeprecationWarning: Call to deprecated `most_similar` (Method will be removed in 4.0.0, use self.wv.most_similar() instead).\n",
      "  \"\"\"Entry point for launching an IPython kernel.\n"
     ]
    },
    {
     "data": {
      "text/plain": [
       "[('soundsport®', 0.42741966247558594),\n",
       " ('wi', 0.4097926914691925),\n",
       " ('aaa', 0.3956053555011749),\n",
       " ('cleantray', 0.3732897937297821),\n",
       " ('device', 0.366916298866272),\n",
       " ('charging', 0.36455193161964417),\n",
       " ('planter', 0.36025023460388184),\n",
       " ('incompatible', 0.3600127398967743),\n",
       " ('usb', 0.35808759927749634),\n",
       " ('soundbar', 0.35481107234954834)]"
      ]
     },
     "execution_count": 356,
     "metadata": {},
     "output_type": "execute_result"
    }
   ],
   "source": [
    "model.most_similar('charger')"
   ]
  },
  {
   "cell_type": "code",
   "execution_count": 358,
   "id": "close-treasure",
   "metadata": {},
   "outputs": [],
   "source": [
    "## Changing hyperparameter (mincount 1-2)\n",
    "model = Word2Vec(sentences, min_count=2, size=200, workers=6, window=9, iter=30)"
   ]
  },
  {
   "cell_type": "code",
   "execution_count": 359,
   "id": "musical-construction",
   "metadata": {},
   "outputs": [
    {
     "data": {
      "text/plain": [
       "68207"
      ]
     },
     "execution_count": 359,
     "metadata": {},
     "output_type": "execute_result"
    }
   ],
   "source": [
    "len(model.wv.vocab)"
   ]
  },
  {
   "cell_type": "code",
   "execution_count": 360,
   "id": "according-flash",
   "metadata": {},
   "outputs": [
    {
     "name": "stderr",
     "output_type": "stream",
     "text": [
      "C:\\Users\\Akshay\\.conda\\envs\\pytorchenv\\lib\\site-packages\\ipykernel_launcher.py:1: DeprecationWarning: Call to deprecated `most_similar` (Method will be removed in 4.0.0, use self.wv.most_similar() instead).\n",
      "  \"\"\"Entry point for launching an IPython kernel.\n"
     ]
    },
    {
     "data": {
      "text/plain": [
       "[('vest', 0.7335571050643921),\n",
       " ('parka', 0.6453668475151062),\n",
       " ('raincoat', 0.6063073873519897),\n",
       " ('cardigan', 0.5994545221328735),\n",
       " ('hoodie', 0.5367416143417358),\n",
       " ('windbreaker', 0.5242978930473328),\n",
       " ('blazer', 0.513157069683075),\n",
       " ('anorak', 0.5049210786819458),\n",
       " ('snowsuit', 0.4945971667766571),\n",
       " ('sweatshirt', 0.4891900420188904)]"
      ]
     },
     "execution_count": 360,
     "metadata": {},
     "output_type": "execute_result"
    }
   ],
   "source": [
    "model.most_similar('jacket')"
   ]
  },
  {
   "cell_type": "code",
   "execution_count": 361,
   "id": "dominican-taxation",
   "metadata": {},
   "outputs": [
    {
     "name": "stderr",
     "output_type": "stream",
     "text": [
      "C:\\Users\\Akshay\\.conda\\envs\\pytorchenv\\lib\\site-packages\\ipykernel_launcher.py:1: DeprecationWarning: Call to deprecated `most_similar` (Method will be removed in 4.0.0, use self.wv.most_similar() instead).\n",
      "  \"\"\"Entry point for launching an IPython kernel.\n"
     ]
    },
    {
     "data": {
      "text/plain": [
       "[('sneakers', 0.7455086708068848),\n",
       " ('sandal', 0.6187825202941895),\n",
       " ('shoe', 0.6066161394119263),\n",
       " ('bootie', 0.6053400635719299),\n",
       " ('loafer', 0.5857114791870117),\n",
       " ('boot', 0.5588629245758057),\n",
       " ('mule', 0.5228941440582275),\n",
       " ('derby', 0.48803332448005676),\n",
       " ('shoes', 0.4660491347312927),\n",
       " ('slipper', 0.4418397843837738)]"
      ]
     },
     "execution_count": 361,
     "metadata": {},
     "output_type": "execute_result"
    }
   ],
   "source": [
    "model.most_similar('sneaker')"
   ]
  },
  {
   "cell_type": "code",
   "execution_count": 362,
   "id": "engaging-soldier",
   "metadata": {},
   "outputs": [
    {
     "name": "stderr",
     "output_type": "stream",
     "text": [
      "C:\\Users\\Akshay\\.conda\\envs\\pytorchenv\\lib\\site-packages\\ipykernel_launcher.py:1: DeprecationWarning: Call to deprecated `most_similar` (Method will be removed in 4.0.0, use self.wv.most_similar() instead).\n",
      "  \"\"\"Entry point for launching an IPython kernel.\n"
     ]
    },
    {
     "data": {
      "text/plain": [
       "[('bathtub', 0.3337714672088623),\n",
       " ('touchbar', 0.33204734325408936),\n",
       " ('comotomo', 0.33136212825775146),\n",
       " ('cakes', 0.3232908844947815),\n",
       " ('bills', 0.3195013999938965),\n",
       " ('girlfriends', 0.31939882040023804),\n",
       " ('slice', 0.30698084831237793),\n",
       " ('baubles', 0.3041940927505493),\n",
       " ('greatness', 0.3038279414176941),\n",
       " ('farmer', 0.30352920293807983)]"
      ]
     },
     "execution_count": 362,
     "metadata": {},
     "output_type": "execute_result"
    }
   ],
   "source": [
    "model.most_similar('mobile')"
   ]
  },
  {
   "cell_type": "code",
   "execution_count": 363,
   "id": "greek-testimony",
   "metadata": {},
   "outputs": [
    {
     "name": "stderr",
     "output_type": "stream",
     "text": [
      "C:\\Users\\Akshay\\.conda\\envs\\pytorchenv\\lib\\site-packages\\ipykernel_launcher.py:1: DeprecationWarning: Call to deprecated `most_similar` (Method will be removed in 4.0.0, use self.wv.most_similar() instead).\n",
      "  \"\"\"Entry point for launching an IPython kernel.\n"
     ]
    },
    {
     "data": {
      "text/plain": [
       "[('couch', 0.5766681432723999),\n",
       " ('marinière', 0.3916207253932953),\n",
       " ('plié', 0.3886525630950928),\n",
       " ('goshade', 0.3551502227783203),\n",
       " ('comfiest', 0.3533968925476074),\n",
       " ('snuggling', 0.3502125144004822),\n",
       " ('torchlight', 0.3469448387622833),\n",
       " ('chilling', 0.3460928499698639),\n",
       " ('gowho', 0.3422125577926636),\n",
       " ('taxis', 0.33958202600479126)]"
      ]
     },
     "execution_count": 363,
     "metadata": {},
     "output_type": "execute_result"
    }
   ],
   "source": [
    "model.most_similar('sofa') "
   ]
  },
  {
   "cell_type": "code",
   "execution_count": 364,
   "id": "matched-stress",
   "metadata": {},
   "outputs": [
    {
     "name": "stderr",
     "output_type": "stream",
     "text": [
      "C:\\Users\\Akshay\\.conda\\envs\\pytorchenv\\lib\\site-packages\\ipykernel_launcher.py:1: DeprecationWarning: Call to deprecated `most_similar` (Method will be removed in 4.0.0, use self.wv.most_similar() instead).\n",
      "  \"\"\"Entry point for launching an IPython kernel.\n"
     ]
    },
    {
     "data": {
      "text/plain": [
       "[('aaa', 0.4739176034927368),\n",
       " ('wi', 0.4678841829299927),\n",
       " ('usb', 0.4677230715751648),\n",
       " ('assistant', 0.45538416504859924),\n",
       " ('earbuds', 0.4379603862762451),\n",
       " ('battery', 0.43377041816711426),\n",
       " ('rechargeable', 0.4254394471645355),\n",
       " ('incompatible', 0.4230232834815979),\n",
       " ('speaker', 0.4202727675437927),\n",
       " ('android', 0.40753012895584106)]"
      ]
     },
     "execution_count": 364,
     "metadata": {},
     "output_type": "execute_result"
    }
   ],
   "source": [
    "model.most_similar('charger') "
   ]
  },
  {
   "cell_type": "code",
   "execution_count": null,
   "id": "asian-capital",
   "metadata": {},
   "outputs": [],
   "source": []
  },
  {
   "cell_type": "code",
   "execution_count": 1,
   "id": "solid-glory",
   "metadata": {},
   "outputs": [],
   "source": [
    "import json\n",
    "\n",
    "data_ = []\n",
    "for line in open('12147_final_df.json', 'r'):\n",
    "    data_.append(json.loads(line))"
   ]
  },
  {
   "cell_type": "code",
   "execution_count": 2,
   "id": "federal-madagascar",
   "metadata": {},
   "outputs": [
    {
     "data": {
      "text/plain": [
       "{'index': 7325.0,\n",
       " 'match_available_price': -1.0,\n",
       " 'match_source': 'Amazon-US',\n",
       " 'match_stock': 'Out of Stock',\n",
       " 'match_crawl_time': 20210228162,\n",
       " 'match_raw_subcategory': 'Boots',\n",
       " 'match_seed_urlh': '5efb4ac2212f109ebc889dc2a735f791dfc4119a',\n",
       " 'match_mrp': -1.0,\n",
       " 'match_title': \"UGG Kids' Classic Clear Mini Ii Fashion Boot\",\n",
       " 'match_raw_brand': '',\n",
       " 'match_urlh': 'aae97172ffc6c29bc80b6e9eaaa1db65044ce689',\n",
       " 'match_sku': 'B08LLYWTGQ',\n",
       " 'match_raw_category': 'Clothing, Shoes & Jewelry',\n",
       " 'match_color': 'unknown',\n",
       " 'match_crawl_type': 'product',\n",
       " 'match_crawl_date': 20210228,\n",
       " 'match_status': 0.0,\n",
       " 'match_url': 'https://www.amazon.com/UGG-Kids-Classic-Clear-Sulfur/dp/B0854QJSX4',\n",
       " 'match_datasource_s': '',\n",
       " 'match_country': 'usa',\n",
       " 'match_size': '6 Big Kid',\n",
       " 'match_upc': '',\n",
       " 'match_seed_url': 'na',\n",
       " 'match_thumbnail': 'https://images-na.ssl-images-amazon.com/images/I/41FdHfM1roL._AC_.jpg',\n",
       " 'match_timestamp': '2021-02-28T17:53:15.112Z',\n",
       " 'match__version_': 1.692962437e+18,\n",
       " 'match_raw_meta': 'Clothing, Shoes & Jewelry › Girls › Shoes › Boots',\n",
       " 'source': 'ShopNordstrom-US',\n",
       " 'raw_category': 'Shoes',\n",
       " 'available_price': 120.0,\n",
       " 'urlh': '0725042f2096f72e2fec58511378b43483dc810a',\n",
       " 'crawl_type': 'product',\n",
       " 'raw_subcategory': 'Boots',\n",
       " 'country': 'usa',\n",
       " 'mrp': 120.0,\n",
       " 'crawl_date': 20210218,\n",
       " 'color': 'SULFUR',\n",
       " 'sku': '5606854_700_Big Kid',\n",
       " 'size': '6 M',\n",
       " 'upc': 194715066564.0,\n",
       " 'datasource_s': 'nordstrom',\n",
       " 'url': 'https://www.nordstrom.com/s/5606854#!#29788767#nordstrom',\n",
       " 'stock': 'Out Of Stock',\n",
       " 'raw_brand': 'UGG',\n",
       " 'status': 0,\n",
       " 'seed_url': 'https://www.nordstrom.com/s/5606854#!#Big Kid#nordstrom',\n",
       " 'thumbnail': 'https://n.nordstrommedia.com/id/sr3/a3dbcb5b-055e-4bbb-a6d6-1943021ffa98.jpeg',\n",
       " 'crawl_time': 20210218050,\n",
       " 'title': 'UGG® Mini Classic II Waterproof Clear Boot (Little Kid & Big Kid) SULFUR Big Kid 6 M---',\n",
       " 'seed_urlh': '9ea4991d50849affdfc6758a108360f3f469e777',\n",
       " 'timestamp': 1613604744872,\n",
       " '_version_': 1.691987209e+18,\n",
       " 'match_shipping_charges': '',\n",
       " 'match_sku_s': '',\n",
       " 'match_offers': '',\n",
       " 'match_shipping_time': '',\n",
       " 'match_title_s': '',\n",
       " 'match_type': 'valid',\n",
       " 'task_type': 'Exact Matching',\n",
       " 'images': '',\n",
       " 'match_images': '',\n",
       " 'description': '',\n",
       " 'match_description': '',\n",
       " 'specification': '',\n",
       " 'match_specification': '',\n",
       " 'match_extracted_attributes': '',\n",
       " 'extracted_attributes': '',\n",
       " 'task_description': '',\n",
       " 'match_rank': -1.0,\n",
       " 'match_norm_category': '',\n",
       " 'match_norm_brand': '',\n",
       " 'norm_brand': '',\n",
       " 'raw_meta': '',\n",
       " 'flag': 0.0,\n",
       " 'match_material': '',\n",
       " 'product_type': None,\n",
       " 'brand': None,\n",
       " 'bid': None,\n",
       " 'tagged_data': None,\n",
       " 'is_published': None,\n",
       " 'docs': None,\n",
       " 'match_subcategory': None,\n",
       " 'match_category': None,\n",
       " 'match_brand': None,\n",
       " 'match_match_type': None,\n",
       " 'category': None,\n",
       " 'subcategory': None}"
      ]
     },
     "execution_count": 2,
     "metadata": {},
     "output_type": "execute_result"
    }
   ],
   "source": [
    "data_[4456]"
   ]
  },
  {
   "cell_type": "code",
   "execution_count": null,
   "id": "handed-claim",
   "metadata": {},
   "outputs": [],
   "source": []
  },
  {
   "cell_type": "code",
   "execution_count": 5,
   "id": "mental-asian",
   "metadata": {},
   "outputs": [],
   "source": [
    "df = pd.read_json('12147_final_df.json', lines=True)"
   ]
  },
  {
   "cell_type": "code",
   "execution_count": 8,
   "id": "finite-indiana",
   "metadata": {},
   "outputs": [
    {
     "data": {
      "text/plain": [
       "valid      332208\n",
       "invalid     52844\n",
       "Name: match_type, dtype: int64"
      ]
     },
     "execution_count": 8,
     "metadata": {},
     "output_type": "execute_result"
    }
   ],
   "source": [
    "df['match_type'].value_counts()"
   ]
  },
  {
   "cell_type": "code",
   "execution_count": 9,
   "id": "established-craft",
   "metadata": {},
   "outputs": [
    {
     "data": {
      "text/plain": [
       "Exact Matching    369539\n",
       "Name: task_type, dtype: int64"
      ]
     },
     "execution_count": 9,
     "metadata": {},
     "output_type": "execute_result"
    }
   ],
   "source": [
    "df['task_type'].value_counts()"
   ]
  },
  {
   "cell_type": "code",
   "execution_count": null,
   "id": "committed-budapest",
   "metadata": {},
   "outputs": [],
   "source": []
  },
  {
   "cell_type": "code",
   "execution_count": null,
   "id": "established-indicator",
   "metadata": {},
   "outputs": [],
   "source": []
  }
 ],
 "metadata": {
  "kernelspec": {
   "display_name": "Python 3",
   "language": "python",
   "name": "python3"
  },
  "language_info": {
   "codemirror_mode": {
    "name": "ipython",
    "version": 3
   },
   "file_extension": ".py",
   "mimetype": "text/x-python",
   "name": "python",
   "nbconvert_exporter": "python",
   "pygments_lexer": "ipython3",
   "version": "3.7.3"
  }
 },
 "nbformat": 4,
 "nbformat_minor": 5
}
