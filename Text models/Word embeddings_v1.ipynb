{
 "cells": [
  {
   "cell_type": "markdown",
   "id": "modified-cardiff",
   "metadata": {},
   "source": [
    "## Spacy Embeddings & similarity check"
   ]
  },
  {
   "cell_type": "code",
   "execution_count": 9,
   "id": "amateur-fairy",
   "metadata": {},
   "outputs": [],
   "source": [
    "import spacy"
   ]
  },
  {
   "cell_type": "code",
   "execution_count": 10,
   "id": "sensitive-joshua",
   "metadata": {},
   "outputs": [],
   "source": [
    "nlp = spacy.blank(\"en\")"
   ]
  },
  {
   "cell_type": "code",
   "execution_count": 11,
   "id": "metropolitan-purchase",
   "metadata": {},
   "outputs": [],
   "source": [
    "doc = nlp(\"Test Experiment sentence for tokenization\")"
   ]
  },
  {
   "cell_type": "code",
   "execution_count": 12,
   "id": "absent-daniel",
   "metadata": {},
   "outputs": [
    {
     "name": "stdout",
     "output_type": "stream",
     "text": [
      "Test  \n",
      "Experiment  \n",
      "sentence  \n",
      "for  \n",
      "tokenization  \n"
     ]
    }
   ],
   "source": [
    "for token in doc:\n",
    "    print(token.text, token.pos_, token.dep_)"
   ]
  },
  {
   "cell_type": "code",
   "execution_count": 13,
   "id": "indie-composite",
   "metadata": {},
   "outputs": [
    {
     "data": {
      "text/plain": [
       "'Experiment'"
      ]
     },
     "execution_count": 13,
     "metadata": {},
     "output_type": "execute_result"
    }
   ],
   "source": [
    "token = doc[1]\n",
    "token.text"
   ]
  },
  {
   "cell_type": "code",
   "execution_count": 14,
   "id": "patent-marble",
   "metadata": {},
   "outputs": [
    {
     "name": "stdout",
     "output_type": "stream",
     "text": [
      "Experiment sentence\n"
     ]
    }
   ],
   "source": [
    "span = doc[1:3]  ## token slice, but not string slice\n",
    "print(span.text)"
   ]
  },
  {
   "cell_type": "code",
   "execution_count": 15,
   "id": "czech-holly",
   "metadata": {},
   "outputs": [
    {
     "name": "stdout",
     "output_type": "stream",
     "text": [
      "Index:    [0, 1, 2, 3, 4]\n",
      "Text:     ['Test', 'Experiment', 'sentence', 'for', 'tokenization']\n",
      "is_alpha: [True, True, True, True, True]\n",
      "is_punct: [False, False, False, False, False]\n",
      "like_num: [False, False, False, False, False]\n"
     ]
    }
   ],
   "source": [
    "## Boolean checking of characteristics of tokens\n",
    "\n",
    "print(\"Index:   \", [token.i for token in doc])\n",
    "print(\"Text:    \", [token.text for token in doc])\n",
    "print(\"is_alpha:\", [token.is_alpha for token in doc])\n",
    "print(\"is_punct:\", [token.is_punct for token in doc])\n",
    "print(\"like_num:\", [token.like_num for token in doc])"
   ]
  },
  {
   "cell_type": "code",
   "execution_count": 16,
   "id": "designed-victor",
   "metadata": {},
   "outputs": [],
   "source": [
    "nlp = spacy.load('en_core_web_md')"
   ]
  },
  {
   "cell_type": "code",
   "execution_count": 17,
   "id": "coordinated-understanding",
   "metadata": {},
   "outputs": [],
   "source": [
    "corpus = nlp(u\"Apple and Samsung are mobile brands\")"
   ]
  },
  {
   "cell_type": "code",
   "execution_count": 18,
   "id": "labeled-hardwood",
   "metadata": {},
   "outputs": [],
   "source": [
    "Apple = corpus[0]\n",
    "Samsung = corpus[2]\n",
    "mobile = corpus[4]\n",
    "brands = corpus[5]"
   ]
  },
  {
   "cell_type": "code",
   "execution_count": 22,
   "id": "mathematical-commissioner",
   "metadata": {},
   "outputs": [
    {
     "name": "stdout",
     "output_type": "stream",
     "text": [
      "[-3.6391e-01  4.3771e-01 -2.0447e-01 -2.2889e-01 -1.4227e-01  2.7396e-01\n",
      " -1.1435e-02 -1.8578e-01  3.7361e-01  7.5339e-01 -3.0591e-01  2.3741e-02\n",
      " -7.7876e-01 -1.3802e-01  6.6992e-02 -6.4303e-02 -4.0024e-01  1.5309e+00\n",
      " -1.3897e-02 -1.5657e-01  2.5366e-01  2.1610e-01 -3.2720e-01  3.4974e-01\n",
      " -6.4845e-02 -2.9501e-01 -6.3923e-01 -6.2017e-02  2.4559e-01 -6.9334e-02\n",
      " -3.9967e-01  3.0925e-02  4.9033e-01  6.7524e-01  1.9481e-01  5.1488e-01\n",
      " -3.1149e-01 -7.9939e-02 -6.2096e-01 -5.3277e-03 -1.1264e-01  8.3528e-02\n",
      " -7.6947e-03 -1.0788e-01  1.6628e-01  4.2273e-01 -1.9009e-01 -2.9035e-01\n",
      "  4.5630e-02  1.0120e-01 -4.0855e-01 -3.5000e-01 -3.6175e-01 -4.1396e-01\n",
      "  5.9485e-01 -1.1524e+00  3.2424e-02  3.4364e-01 -1.9209e-01  4.3255e-02\n",
      "  4.9227e-02 -5.4258e-01  9.1275e-01  2.9576e-01  2.3658e-02 -6.8737e-01\n",
      " -1.9503e-01 -1.1059e-01 -2.2567e-01  2.4180e-01 -3.1230e-01  4.2700e-01\n",
      "  8.3952e-02  2.2703e-01  3.0581e-01 -1.7276e-01  3.2536e-01  5.4696e-03\n",
      " -3.2745e-01  1.9439e-01  2.2616e-01  7.4742e-02  2.2033e-01 -4.0301e-01\n",
      " -3.1594e-01 -2.8910e-02  9.7858e-01  7.1860e-01  1.4995e-01  6.3421e-02\n",
      "  2.8332e-01 -1.5231e-01  3.9330e-04  1.8076e-01 -4.0199e-01  6.0187e-02\n",
      " -2.7543e-02  1.6590e-01 -2.5774e-01  1.6150e-01  3.7247e-01 -3.8273e-01\n",
      "  2.4012e-01 -4.2617e-02 -6.6785e-01 -9.4437e-01  2.7916e-01  1.0476e-01\n",
      "  1.3952e+00 -1.4296e-01 -5.5049e-01  5.3982e-02 -7.7524e-01 -2.8255e-01\n",
      " -2.3323e-02  2.4801e-01  2.2855e-01 -3.7408e-01  7.6012e-02  2.4031e-01\n",
      "  1.0746e-01  1.2411e-01 -2.0676e-01 -2.5804e-01 -1.6791e-01  4.3499e-01\n",
      "  6.1762e-01 -2.9955e-02  1.6196e-01 -2.9001e-01 -3.1159e-01 -8.7262e-01\n",
      "  4.3167e-01 -1.5071e-01 -4.1420e-01 -5.3730e-01 -1.9910e-01  1.3270e-01\n",
      " -1.5018e-01 -4.9335e-01 -2.5127e+00  3.1660e-01  3.6396e-01 -5.9248e-02\n",
      "  3.1120e-02  4.1071e-02  1.6917e-02  5.8410e-01 -2.0201e-01  7.0238e-02\n",
      "  8.7547e-01 -2.0114e-01  5.1920e-01  2.6786e-01 -5.5643e-01 -3.1247e-01\n",
      " -3.7992e-01  4.2857e-01  4.1780e-01  3.0608e-01 -2.1657e-01  7.2464e-01\n",
      "  6.1734e-01  5.8085e-02 -6.2708e-01  5.2895e-02 -2.5628e-01 -3.2688e-01\n",
      " -6.1280e-01  6.2609e-01 -1.7965e-01  8.8925e-01  2.1963e-01 -3.4052e-03\n",
      " -7.8663e-02  3.4799e-01 -2.6062e-01  8.0410e-03  1.1721e-01 -4.5147e-01\n",
      " -1.2178e-01 -5.7030e-01  4.6602e-01  2.5059e-02  5.3986e-02 -7.6693e-01\n",
      "  1.3173e-01 -2.8776e-02 -4.1915e-01 -2.4415e-01 -4.0295e-01 -4.1520e-01\n",
      "  3.7643e-02 -1.4843e-01  2.6094e-02  1.5315e-01  3.8310e-01 -5.5825e-01\n",
      " -3.3433e-01 -2.7939e-02 -4.3712e-01 -3.1802e-01 -3.1731e-01  9.2891e-02\n",
      " -9.9397e-02 -1.8846e-01  5.2270e-02  2.9061e-01  1.0639e+00  9.9584e-02\n",
      " -5.6775e-01  2.9446e-01  3.7797e-01 -2.1905e-01 -5.2616e-01 -4.1744e-01\n",
      " -6.5951e-01 -4.0820e-01 -6.0945e-01  1.1759e-02 -2.9122e-01 -3.1457e-01\n",
      "  5.7076e-02  4.1503e-01  3.7345e-01 -4.7119e-02 -7.1996e-02  1.4587e-01\n",
      " -3.0763e-01  1.0759e-01 -5.9447e-01 -4.0205e-01  3.0677e-01 -1.9891e-01\n",
      " -7.0775e-01 -1.1513e-01  3.0866e-01 -6.9235e-01  2.1219e-01  1.0554e-01\n",
      "  2.2617e-01 -2.6145e-01 -3.9298e-01 -2.3585e-01  3.0795e-02 -1.0193e-01\n",
      "  3.2070e-01  3.0505e-01 -5.3470e-01 -7.9272e-02 -1.6817e-01 -2.2115e-01\n",
      " -3.5143e-01 -9.2376e-02  1.4686e-01 -1.9859e-01  2.0460e-01  2.0276e-01\n",
      "  3.6144e-01 -3.5867e-01  4.0095e-01  6.3686e-02 -1.2763e-01 -1.6226e-01\n",
      " -3.1763e-01 -5.8732e-01 -5.4009e-01 -4.9035e-01 -4.6035e-01 -1.9794e-01\n",
      " -2.5209e-01  2.5706e-01  4.0110e-01  5.2830e-02 -3.2079e-01  3.9563e-01\n",
      " -4.4512e-01 -9.1862e-02 -1.9243e-01  1.5397e-01 -2.8923e-01  6.0561e-01\n",
      "  5.8133e-01  3.2268e-01  6.3892e-02  8.5438e-02  1.4956e-01  3.8134e-01\n",
      " -1.1820e-01 -2.3951e-01 -6.7731e-01  2.8090e-01 -5.1770e-01 -4.1098e-01\n",
      " -4.1292e-01 -6.7856e-02 -3.3721e-02 -7.2958e-01 -4.7891e-01  7.2956e-01]\n",
      "Embedding dimension:  300\n"
     ]
    }
   ],
   "source": [
    "emb = Apple.vector\n",
    "\n",
    "print(emb)\n",
    "print(\"Embedding dimension: \", len(emb))  ## embedding dimension"
   ]
  },
  {
   "cell_type": "markdown",
   "id": "purple-apache",
   "metadata": {},
   "source": [
    "#### POS Tagging"
   ]
  },
  {
   "cell_type": "code",
   "execution_count": 25,
   "id": "specialized-timer",
   "metadata": {},
   "outputs": [
    {
     "name": "stdout",
     "output_type": "stream",
     "text": [
      "Apple --->  PROPN\n",
      "and --->  CCONJ\n",
      "Samsung --->  PROPN\n",
      "are --->  AUX\n",
      "mobile --->  ADJ\n",
      "brands --->  NOUN\n"
     ]
    }
   ],
   "source": [
    "for token in corpus:\n",
    "    print(token.text, \"---> \", token.pos_)"
   ]
  },
  {
   "cell_type": "markdown",
   "id": "spectacular-brazil",
   "metadata": {},
   "source": [
    "#### Linguistic tagging (NP -> Noun Phrase, VB -> verb phrase .. etc)"
   ]
  },
  {
   "cell_type": "code",
   "execution_count": 29,
   "id": "included-finland",
   "metadata": {},
   "outputs": [
    {
     "name": "stdout",
     "output_type": "stream",
     "text": [
      "Apple --->  PROPN \tTags -->  NNP \tSyntactic dependency:  nsubj\n",
      "and --->  CCONJ \tTags -->  CC \tSyntactic dependency:  cc\n",
      "Samsung --->  PROPN \tTags -->  NNP \tSyntactic dependency:  conj\n",
      "are --->  AUX \tTags -->  VBP \tSyntactic dependency:  ROOT\n",
      "mobile --->  ADJ \tTags -->  JJ \tSyntactic dependency:  amod\n",
      "brands --->  NOUN \tTags -->  NNS \tSyntactic dependency:  attr\n"
     ]
    }
   ],
   "source": [
    "## Syntactic tagging also represents relation between tokens\n",
    "\n",
    "for token in corpus:\n",
    "    print(token.text, \"---> \", token.pos_, \"\\tTags --> \", token.tag_, \"\\tSyntactic dependency: \" , token.dep_)"
   ]
  },
  {
   "cell_type": "code",
   "execution_count": 30,
   "id": "tender-phoenix",
   "metadata": {},
   "outputs": [
    {
     "name": "stderr",
     "output_type": "stream",
     "text": [
      "C:\\Users\\Akshay\\.conda\\envs\\pytorchenv\\lib\\runpy.py:193: UserWarning: [W011] It looks like you're calling displacy.serve from within a Jupyter notebook or a similar environment. This likely means you're already running a local web server, so there's no need to make displaCy start another one. Instead, you should be able to replace displacy.serve with displacy.render to show the visualization.\n",
      "  \"__main__\", mod_spec)\n"
     ]
    },
    {
     "data": {
      "text/html": [
       "<!DOCTYPE html>\n",
       "<html lang=\"en\">\n",
       "    <head>\n",
       "        <title>displaCy</title>\n",
       "    </head>\n",
       "\n",
       "    <body style=\"font-size: 16px; font-family: -apple-system, BlinkMacSystemFont, 'Segoe UI', Helvetica, Arial, sans-serif, 'Apple Color Emoji', 'Segoe UI Emoji', 'Segoe UI Symbol'; padding: 4rem 2rem; direction: ltr\">\n",
       "<figure style=\"margin-bottom: 6rem\">\n",
       "<svg xmlns=\"http://www.w3.org/2000/svg\" xmlns:xlink=\"http://www.w3.org/1999/xlink\" xml:lang=\"en\" id=\"cdfe7eb56cc54dd09550ca7f0ec3dbae-0\" class=\"displacy\" width=\"1100\" height=\"399.5\" direction=\"ltr\" style=\"max-width: none; height: 399.5px; color: #000000; background: #ffffff; font-family: Arial; direction: ltr\">\n",
       "<text class=\"displacy-token\" fill=\"currentColor\" text-anchor=\"middle\" y=\"309.5\">\n",
       "    <tspan class=\"displacy-word\" fill=\"currentColor\" x=\"50\">Apple</tspan>\n",
       "    <tspan class=\"displacy-tag\" dy=\"2em\" fill=\"currentColor\" x=\"50\">PROPN</tspan>\n",
       "</text>\n",
       "\n",
       "<text class=\"displacy-token\" fill=\"currentColor\" text-anchor=\"middle\" y=\"309.5\">\n",
       "    <tspan class=\"displacy-word\" fill=\"currentColor\" x=\"225\">and</tspan>\n",
       "    <tspan class=\"displacy-tag\" dy=\"2em\" fill=\"currentColor\" x=\"225\">CCONJ</tspan>\n",
       "</text>\n",
       "\n",
       "<text class=\"displacy-token\" fill=\"currentColor\" text-anchor=\"middle\" y=\"309.5\">\n",
       "    <tspan class=\"displacy-word\" fill=\"currentColor\" x=\"400\">Samsung</tspan>\n",
       "    <tspan class=\"displacy-tag\" dy=\"2em\" fill=\"currentColor\" x=\"400\">PROPN</tspan>\n",
       "</text>\n",
       "\n",
       "<text class=\"displacy-token\" fill=\"currentColor\" text-anchor=\"middle\" y=\"309.5\">\n",
       "    <tspan class=\"displacy-word\" fill=\"currentColor\" x=\"575\">are</tspan>\n",
       "    <tspan class=\"displacy-tag\" dy=\"2em\" fill=\"currentColor\" x=\"575\">AUX</tspan>\n",
       "</text>\n",
       "\n",
       "<text class=\"displacy-token\" fill=\"currentColor\" text-anchor=\"middle\" y=\"309.5\">\n",
       "    <tspan class=\"displacy-word\" fill=\"currentColor\" x=\"750\">mobile</tspan>\n",
       "    <tspan class=\"displacy-tag\" dy=\"2em\" fill=\"currentColor\" x=\"750\">ADJ</tspan>\n",
       "</text>\n",
       "\n",
       "<text class=\"displacy-token\" fill=\"currentColor\" text-anchor=\"middle\" y=\"309.5\">\n",
       "    <tspan class=\"displacy-word\" fill=\"currentColor\" x=\"925\">brands</tspan>\n",
       "    <tspan class=\"displacy-tag\" dy=\"2em\" fill=\"currentColor\" x=\"925\">NOUN</tspan>\n",
       "</text>\n",
       "\n",
       "<g class=\"displacy-arrow\">\n",
       "    <path class=\"displacy-arc\" id=\"arrow-cdfe7eb56cc54dd09550ca7f0ec3dbae-0-0\" stroke-width=\"2px\" d=\"M70,264.5 C70,2.0 575.0,2.0 575.0,264.5\" fill=\"none\" stroke=\"currentColor\"/>\n",
       "    <text dy=\"1.25em\" style=\"font-size: 0.8em; letter-spacing: 1px\">\n",
       "        <textPath xlink:href=\"#arrow-cdfe7eb56cc54dd09550ca7f0ec3dbae-0-0\" class=\"displacy-label\" startOffset=\"50%\" side=\"left\" fill=\"currentColor\" text-anchor=\"middle\">nsubj</textPath>\n",
       "    </text>\n",
       "    <path class=\"displacy-arrowhead\" d=\"M70,266.5 L62,254.5 78,254.5\" fill=\"currentColor\"/>\n",
       "</g>\n",
       "\n",
       "<g class=\"displacy-arrow\">\n",
       "    <path class=\"displacy-arc\" id=\"arrow-cdfe7eb56cc54dd09550ca7f0ec3dbae-0-1\" stroke-width=\"2px\" d=\"M70,264.5 C70,177.0 215.0,177.0 215.0,264.5\" fill=\"none\" stroke=\"currentColor\"/>\n",
       "    <text dy=\"1.25em\" style=\"font-size: 0.8em; letter-spacing: 1px\">\n",
       "        <textPath xlink:href=\"#arrow-cdfe7eb56cc54dd09550ca7f0ec3dbae-0-1\" class=\"displacy-label\" startOffset=\"50%\" side=\"left\" fill=\"currentColor\" text-anchor=\"middle\">cc</textPath>\n",
       "    </text>\n",
       "    <path class=\"displacy-arrowhead\" d=\"M215.0,266.5 L223.0,254.5 207.0,254.5\" fill=\"currentColor\"/>\n",
       "</g>\n",
       "\n",
       "<g class=\"displacy-arrow\">\n",
       "    <path class=\"displacy-arc\" id=\"arrow-cdfe7eb56cc54dd09550ca7f0ec3dbae-0-2\" stroke-width=\"2px\" d=\"M70,264.5 C70,89.5 395.0,89.5 395.0,264.5\" fill=\"none\" stroke=\"currentColor\"/>\n",
       "    <text dy=\"1.25em\" style=\"font-size: 0.8em; letter-spacing: 1px\">\n",
       "        <textPath xlink:href=\"#arrow-cdfe7eb56cc54dd09550ca7f0ec3dbae-0-2\" class=\"displacy-label\" startOffset=\"50%\" side=\"left\" fill=\"currentColor\" text-anchor=\"middle\">conj</textPath>\n",
       "    </text>\n",
       "    <path class=\"displacy-arrowhead\" d=\"M395.0,266.5 L403.0,254.5 387.0,254.5\" fill=\"currentColor\"/>\n",
       "</g>\n",
       "\n",
       "<g class=\"displacy-arrow\">\n",
       "    <path class=\"displacy-arc\" id=\"arrow-cdfe7eb56cc54dd09550ca7f0ec3dbae-0-3\" stroke-width=\"2px\" d=\"M770,264.5 C770,177.0 915.0,177.0 915.0,264.5\" fill=\"none\" stroke=\"currentColor\"/>\n",
       "    <text dy=\"1.25em\" style=\"font-size: 0.8em; letter-spacing: 1px\">\n",
       "        <textPath xlink:href=\"#arrow-cdfe7eb56cc54dd09550ca7f0ec3dbae-0-3\" class=\"displacy-label\" startOffset=\"50%\" side=\"left\" fill=\"currentColor\" text-anchor=\"middle\">amod</textPath>\n",
       "    </text>\n",
       "    <path class=\"displacy-arrowhead\" d=\"M770,266.5 L762,254.5 778,254.5\" fill=\"currentColor\"/>\n",
       "</g>\n",
       "\n",
       "<g class=\"displacy-arrow\">\n",
       "    <path class=\"displacy-arc\" id=\"arrow-cdfe7eb56cc54dd09550ca7f0ec3dbae-0-4\" stroke-width=\"2px\" d=\"M595,264.5 C595,89.5 920.0,89.5 920.0,264.5\" fill=\"none\" stroke=\"currentColor\"/>\n",
       "    <text dy=\"1.25em\" style=\"font-size: 0.8em; letter-spacing: 1px\">\n",
       "        <textPath xlink:href=\"#arrow-cdfe7eb56cc54dd09550ca7f0ec3dbae-0-4\" class=\"displacy-label\" startOffset=\"50%\" side=\"left\" fill=\"currentColor\" text-anchor=\"middle\">attr</textPath>\n",
       "    </text>\n",
       "    <path class=\"displacy-arrowhead\" d=\"M920.0,266.5 L928.0,254.5 912.0,254.5\" fill=\"currentColor\"/>\n",
       "</g>\n",
       "</svg>\n",
       "</figure>\n",
       "</body>\n",
       "</html>"
      ],
      "text/plain": [
       "<IPython.core.display.HTML object>"
      ]
     },
     "metadata": {},
     "output_type": "display_data"
    },
    {
     "name": "stdout",
     "output_type": "stream",
     "text": [
      "\n",
      "Using the 'dep' visualizer\n",
      "Serving on http://0.0.0.0:5000 ...\n",
      "\n",
      "Shutting down server on port 5000.\n"
     ]
    }
   ],
   "source": [
    "## Visualizing the dependency parsing\n",
    "\n",
    "from spacy import displacy\n",
    "\n",
    "displacy.serve(corpus, style=\"dep\")"
   ]
  },
  {
   "cell_type": "markdown",
   "id": "bibliographic-genesis",
   "metadata": {},
   "source": [
    "#### NER / Label Tagging"
   ]
  },
  {
   "cell_type": "code",
   "execution_count": 42,
   "id": "understanding-kenya",
   "metadata": {},
   "outputs": [
    {
     "name": "stdout",
     "output_type": "stream",
     "text": [
      "Apple ORG \tstart_pos 0 end_pos 5\n",
      "Samsung ORG \tstart_pos 10 end_pos 17\n"
     ]
    }
   ],
   "source": [
    "for ent in corpus.ents:\n",
    "    print(ent.text,  ent.label_, \"\\tstart_pos\" , ent.start_char, \"end_pos\", ent.end_char,)"
   ]
  },
  {
   "cell_type": "code",
   "execution_count": 45,
   "id": "according-muscle",
   "metadata": {},
   "outputs": [
    {
     "name": "stderr",
     "output_type": "stream",
     "text": [
      "C:\\Users\\Akshay\\.conda\\envs\\pytorchenv\\lib\\runpy.py:193: UserWarning: [W011] It looks like you're calling displacy.serve from within a Jupyter notebook or a similar environment. This likely means you're already running a local web server, so there's no need to make displaCy start another one. Instead, you should be able to replace displacy.serve with displacy.render to show the visualization.\n",
      "  \"__main__\", mod_spec)\n"
     ]
    },
    {
     "data": {
      "text/html": [
       "<!DOCTYPE html>\n",
       "<html lang=\"en\">\n",
       "    <head>\n",
       "        <title>displaCy</title>\n",
       "    </head>\n",
       "\n",
       "    <body style=\"font-size: 16px; font-family: -apple-system, BlinkMacSystemFont, 'Segoe UI', Helvetica, Arial, sans-serif, 'Apple Color Emoji', 'Segoe UI Emoji', 'Segoe UI Symbol'; padding: 4rem 2rem; direction: ltr\">\n",
       "<figure style=\"margin-bottom: 6rem\">\n",
       "<div class=\"entities\" style=\"line-height: 2.5; direction: ltr\">\n",
       "<mark class=\"entity\" style=\"background: #7aecec; padding: 0.45em 0.6em; margin: 0 0.25em; line-height: 1; border-radius: 0.35em;\">\n",
       "    Apple\n",
       "    <span style=\"font-size: 0.8em; font-weight: bold; line-height: 1; border-radius: 0.35em; text-transform: uppercase; vertical-align: middle; margin-left: 0.5rem\">ORG</span>\n",
       "</mark>\n",
       " and \n",
       "<mark class=\"entity\" style=\"background: #7aecec; padding: 0.45em 0.6em; margin: 0 0.25em; line-height: 1; border-radius: 0.35em;\">\n",
       "    Samsung\n",
       "    <span style=\"font-size: 0.8em; font-weight: bold; line-height: 1; border-radius: 0.35em; text-transform: uppercase; vertical-align: middle; margin-left: 0.5rem\">ORG</span>\n",
       "</mark>\n",
       " are mobile brands</div>\n",
       "</figure>\n",
       "</body>\n",
       "</html>"
      ],
      "text/plain": [
       "<IPython.core.display.HTML object>"
      ]
     },
     "metadata": {},
     "output_type": "display_data"
    },
    {
     "name": "stdout",
     "output_type": "stream",
     "text": [
      "\n",
      "Using the 'ent' visualizer\n",
      "Serving on http://0.0.0.0:5000 ...\n",
      "\n",
      "Shutting down server on port 5000.\n"
     ]
    }
   ],
   "source": [
    "displacy.serve(corpus, style=\"ent\")"
   ]
  },
  {
   "cell_type": "markdown",
   "id": "steady-pressure",
   "metadata": {},
   "source": [
    "##### Checking words if they are out of vocabulary"
   ]
  },
  {
   "cell_type": "code",
   "execution_count": 46,
   "id": "comparable-august",
   "metadata": {},
   "outputs": [
    {
     "name": "stdout",
     "output_type": "stream",
     "text": [
      "Apple True 7.1346846 False\n",
      "and True 4.6577983 False\n",
      "Samsung True 7.77001 False\n",
      "are True 5.41568 False\n",
      "mobile True 6.9603257 False\n",
      "brands True 6.6324863 False\n"
     ]
    }
   ],
   "source": [
    "for token in corpus:\n",
    "    print(token.text, token.has_vector, token.vector_norm, token.is_oov)"
   ]
  },
  {
   "cell_type": "markdown",
   "id": "nearby-macintosh",
   "metadata": {},
   "source": [
    "#### Similary between two text segments"
   ]
  },
  {
   "cell_type": "code",
   "execution_count": 49,
   "id": "fitted-harassment",
   "metadata": {},
   "outputs": [],
   "source": [
    "text1 = nlp(\"Dell Laptop for sale at Rs 49999, i3, 1TB Memory\")\n",
    "text2 = nlp(\"i3 processor laptop for sale at Rs 48000 with 1 Tera Byte Harddrive\")"
   ]
  },
  {
   "cell_type": "code",
   "execution_count": 51,
   "id": "primary-savannah",
   "metadata": {},
   "outputs": [
    {
     "name": "stdout",
     "output_type": "stream",
     "text": [
      "0.8624262310396199\n"
     ]
    }
   ],
   "source": [
    "print(text1.similarity(text2))  ## similarity score range(0-1)"
   ]
  },
  {
   "cell_type": "code",
   "execution_count": 74,
   "id": "rising-turtle",
   "metadata": {},
   "outputs": [],
   "source": [
    "t2 = nlp(\"Sofa furniture size 24x12 pale blue color\")"
   ]
  },
  {
   "cell_type": "code",
   "execution_count": 75,
   "id": "impaired-pepper",
   "metadata": {},
   "outputs": [
    {
     "name": "stdout",
     "output_type": "stream",
     "text": [
      "0.4332451634463822\n"
     ]
    }
   ],
   "source": [
    "print(text1.similarity(t2))"
   ]
  },
  {
   "cell_type": "code",
   "execution_count": 82,
   "id": "senior-bloom",
   "metadata": {},
   "outputs": [
    {
     "name": "stdout",
     "output_type": "stream",
     "text": [
      "Dell Laptop PERSON \tstart_pos 0 end_pos 11\n",
      "Rs 49999 PRODUCT \tstart_pos 24 end_pos 32\n",
      "i3 PRODUCT \tstart_pos 34 end_pos 36\n",
      "1 CARDINAL \tstart_pos 38 end_pos 39\n"
     ]
    },
    {
     "name": "stderr",
     "output_type": "stream",
     "text": [
      "C:\\Users\\Akshay\\.conda\\envs\\pytorchenv\\lib\\runpy.py:193: UserWarning: [W011] It looks like you're calling displacy.serve from within a Jupyter notebook or a similar environment. This likely means you're already running a local web server, so there's no need to make displaCy start another one. Instead, you should be able to replace displacy.serve with displacy.render to show the visualization.\n",
      "  \"__main__\", mod_spec)\n"
     ]
    },
    {
     "data": {
      "text/html": [
       "<!DOCTYPE html>\n",
       "<html lang=\"en\">\n",
       "    <head>\n",
       "        <title>displaCy</title>\n",
       "    </head>\n",
       "\n",
       "    <body style=\"font-size: 16px; font-family: -apple-system, BlinkMacSystemFont, 'Segoe UI', Helvetica, Arial, sans-serif, 'Apple Color Emoji', 'Segoe UI Emoji', 'Segoe UI Symbol'; padding: 4rem 2rem; direction: ltr\">\n",
       "<figure style=\"margin-bottom: 6rem\">\n",
       "<div class=\"entities\" style=\"line-height: 2.5; direction: ltr\">\n",
       "<mark class=\"entity\" style=\"background: #aa9cfc; padding: 0.45em 0.6em; margin: 0 0.25em; line-height: 1; border-radius: 0.35em;\">\n",
       "    Dell Laptop\n",
       "    <span style=\"font-size: 0.8em; font-weight: bold; line-height: 1; border-radius: 0.35em; text-transform: uppercase; vertical-align: middle; margin-left: 0.5rem\">PERSON</span>\n",
       "</mark>\n",
       " for sale at \n",
       "<mark class=\"entity\" style=\"background: #bfeeb7; padding: 0.45em 0.6em; margin: 0 0.25em; line-height: 1; border-radius: 0.35em;\">\n",
       "    Rs 49999\n",
       "    <span style=\"font-size: 0.8em; font-weight: bold; line-height: 1; border-radius: 0.35em; text-transform: uppercase; vertical-align: middle; margin-left: 0.5rem\">PRODUCT</span>\n",
       "</mark>\n",
       ", \n",
       "<mark class=\"entity\" style=\"background: #bfeeb7; padding: 0.45em 0.6em; margin: 0 0.25em; line-height: 1; border-radius: 0.35em;\">\n",
       "    i3\n",
       "    <span style=\"font-size: 0.8em; font-weight: bold; line-height: 1; border-radius: 0.35em; text-transform: uppercase; vertical-align: middle; margin-left: 0.5rem\">PRODUCT</span>\n",
       "</mark>\n",
       ", \n",
       "<mark class=\"entity\" style=\"background: #e4e7d2; padding: 0.45em 0.6em; margin: 0 0.25em; line-height: 1; border-radius: 0.35em;\">\n",
       "    1\n",
       "    <span style=\"font-size: 0.8em; font-weight: bold; line-height: 1; border-radius: 0.35em; text-transform: uppercase; vertical-align: middle; margin-left: 0.5rem\">CARDINAL</span>\n",
       "</mark>\n",
       "TB Memory</div>\n",
       "</figure>\n",
       "</body>\n",
       "</html>"
      ],
      "text/plain": [
       "<IPython.core.display.HTML object>"
      ]
     },
     "metadata": {},
     "output_type": "display_data"
    },
    {
     "name": "stdout",
     "output_type": "stream",
     "text": [
      "\n",
      "Using the 'ent' visualizer\n",
      "Serving on http://0.0.0.0:5000 ...\n",
      "\n",
      "Shutting down server on port 5000.\n"
     ]
    }
   ],
   "source": [
    "tokens = []\n",
    "\n",
    "for ent in text1.ents:\n",
    "    print(ent.text,  ent.label_, \"\\tstart_pos\" , ent.start_char, \"end_pos\", ent.end_char)\n",
    "    #tokens.append(text1[ent.start_char:ent.end_char])\n",
    "    \n",
    "displacy.serve(text1, style=\"ent\")"
   ]
  },
  {
   "cell_type": "markdown",
   "id": "concerned-mortality",
   "metadata": {},
   "source": [
    "#### token to token comparision"
   ]
  },
  {
   "cell_type": "code",
   "execution_count": null,
   "id": "developed-korean",
   "metadata": {},
   "outputs": [],
   "source": []
  },
  {
   "cell_type": "markdown",
   "id": "retained-breakfast",
   "metadata": {},
   "source": [
    "### Reading e-commerce data"
   ]
  },
  {
   "cell_type": "code",
   "execution_count": 85,
   "id": "suffering-minutes",
   "metadata": {},
   "outputs": [],
   "source": [
    "import json\n",
    "\n",
    "data_ = []\n",
    "for line in open('12147_final_df.json', 'r'):\n",
    "    data_.append(json.loads(line))"
   ]
  },
  {
   "cell_type": "code",
   "execution_count": 88,
   "id": "turned-workplace",
   "metadata": {},
   "outputs": [
    {
     "data": {
      "text/plain": [
       "385052"
      ]
     },
     "execution_count": 88,
     "metadata": {},
     "output_type": "execute_result"
    }
   ],
   "source": [
    "len(data_)"
   ]
  },
  {
   "cell_type": "code",
   "execution_count": 89,
   "id": "constant-signature",
   "metadata": {
    "scrolled": true
   },
   "outputs": [
    {
     "data": {
      "text/plain": [
       "{'index': 9.0,\n",
       " 'match_available_price': 40.95,\n",
       " 'match_source': 'Amazon-US',\n",
       " 'match_stock': 'In Stock',\n",
       " 'match_crawl_time': 20210228175,\n",
       " 'match_raw_subcategory': 'Sandals',\n",
       " 'match_seed_urlh': '17abcf03e89b3beea1ad99928603caa04648fc62',\n",
       " 'match_mrp': 40.95,\n",
       " 'match_title': 'Salt Water Sandals by Hoy Shoe The Original Sandal Shiny Yellow 1 Little Kid  ',\n",
       " 'match_raw_brand': 'Salt Water Sandals',\n",
       " 'match_urlh': '17b4e6f1e1dc6bcc50d90a19698dfc6eed3359b0',\n",
       " 'match_sku': 'B005BFPO3W',\n",
       " 'match_raw_category': 'Clothing, Shoes & Jewelry',\n",
       " 'match_color': 'Shiny Yellow',\n",
       " 'match_crawl_type': 'product',\n",
       " 'match_crawl_date': 20210228,\n",
       " 'match_status': 0.0,\n",
       " 'match_url': 'https://www.amazon.com/Salt-Water-Sandals-Original-Toddler/dp/B005BFPO3W',\n",
       " 'match_datasource_s': '',\n",
       " 'match_country': 'usa',\n",
       " 'match_size': '1 Little Kid',\n",
       " 'match_upc': '',\n",
       " 'match_seed_url': 'https://www.amazon.com/Salt-Water-Sandals-Original-Sandal/dp/B0067GKH3Q',\n",
       " 'match_thumbnail': 'https://m.media-amazon.com/images/I/41Ezoo52LPL._AC_.jpg',\n",
       " 'match_timestamp': '2021-02-28T19:32:51.143Z',\n",
       " 'match__version_': 1.692968704e+18,\n",
       " 'match_raw_meta': 'Clothing, Shoes & Jewelry › Girls › Shoes › Sandals',\n",
       " 'source': 'ShopNordstrom-US',\n",
       " 'raw_category': 'Shoes',\n",
       " 'available_price': 40.95,\n",
       " 'urlh': '37d664baec95e3c3e30f71d8bffcb94e37292149',\n",
       " 'crawl_type': 'product',\n",
       " 'raw_subcategory': 'Sandals/Slides',\n",
       " 'country': 'usa',\n",
       " 'mrp': 40.95,\n",
       " 'crawl_date': 20210228,\n",
       " 'color': 'SHINY YELLOW',\n",
       " 'sku': '3097385_730_Little Kid',\n",
       " 'size': '2 M',\n",
       " 'upc': 523881025.0,\n",
       " 'datasource_s': 'nordstrom',\n",
       " 'url': 'https://www.nordstrom.com/s/3097385#!#11060069#nordstrom',\n",
       " 'stock': 'In Stock',\n",
       " 'raw_brand': 'SALT WATER SANDALS',\n",
       " 'status': 0,\n",
       " 'seed_url': 'https://www.nordstrom.com/s/3097385#!#Little Kid#nordstrom',\n",
       " 'thumbnail': 'https://n.nordstrommedia.com/id/sr3/91a6d608-13be-430e-ab15-da5c69617267.jpeg',\n",
       " 'crawl_time': 20210228151,\n",
       " 'title': 'Salt Water Sandals by Hoy Original Sandal (Baby, Walker, Toddler, Little Kid & Big Kid) SHINY YELLOW Little Kid 2 M',\n",
       " 'seed_urlh': '7221bea7726671b9176c1bb52cded522498feacc',\n",
       " 'timestamp': 1614529422417,\n",
       " '_version_': 1.692956804e+18,\n",
       " 'match_shipping_charges': '',\n",
       " 'match_sku_s': '',\n",
       " 'match_offers': '',\n",
       " 'match_shipping_time': '',\n",
       " 'match_title_s': '',\n",
       " 'match_type': 'valid',\n",
       " 'task_type': 'Exact Matching',\n",
       " 'images': '',\n",
       " 'match_images': '',\n",
       " 'description': '',\n",
       " 'match_description': '',\n",
       " 'specification': '',\n",
       " 'match_specification': '',\n",
       " 'match_extracted_attributes': [['Is Discontinued By Manufacturer', 'No'],\n",
       "  ['Product Dimensions', '5.75 x 4.5 x 7.75 inches; 3.04 Ounces'],\n",
       "  ['Item model number', 'Salt-Water - The Original Sandal'],\n",
       "  ['Department', 'Baby-girls'],\n",
       "  ['Date First Available', 'June 2, 2011'],\n",
       "  ['Manufacturer', 'Saltwater by Hoy'],\n",
       "  ['ASIN', 'B004ZQPM08']],\n",
       " 'extracted_attributes': '',\n",
       " 'task_description': '',\n",
       " 'match_rank': -1.0,\n",
       " 'match_norm_category': '',\n",
       " 'match_norm_brand': '',\n",
       " 'norm_brand': '',\n",
       " 'raw_meta': '',\n",
       " 'flag': 0.0,\n",
       " 'match_material': '',\n",
       " 'product_type': None,\n",
       " 'brand': None,\n",
       " 'bid': None,\n",
       " 'tagged_data': None,\n",
       " 'is_published': None,\n",
       " 'docs': None,\n",
       " 'match_subcategory': None,\n",
       " 'match_category': None,\n",
       " 'match_brand': None,\n",
       " 'match_match_type': None,\n",
       " 'category': None,\n",
       " 'subcategory': None}"
      ]
     },
     "execution_count": 89,
     "metadata": {},
     "output_type": "execute_result"
    }
   ],
   "source": [
    "data_[0]"
   ]
  },
  {
   "cell_type": "code",
   "execution_count": null,
   "id": "restricted-ridge",
   "metadata": {},
   "outputs": [],
   "source": []
  },
  {
   "cell_type": "markdown",
   "id": "blocked-corrections",
   "metadata": {},
   "source": [
    "## FastText"
   ]
  },
  {
   "cell_type": "code",
   "execution_count": null,
   "id": "consecutive-instrumentation",
   "metadata": {},
   "outputs": [],
   "source": []
  },
  {
   "cell_type": "code",
   "execution_count": null,
   "id": "executive-completion",
   "metadata": {},
   "outputs": [],
   "source": []
  },
  {
   "cell_type": "markdown",
   "id": "guilty-refund",
   "metadata": {},
   "source": [
    "## Word2Vec"
   ]
  },
  {
   "cell_type": "code",
   "execution_count": 1,
   "id": "tender-actor",
   "metadata": {},
   "outputs": [],
   "source": [
    "from gensim.models.word2vec import Word2Vec\n",
    "import gensim.downloader as api"
   ]
  },
  {
   "cell_type": "code",
   "execution_count": 3,
   "id": "presidential-member",
   "metadata": {},
   "outputs": [
    {
     "name": "stdout",
     "output_type": "stream",
     "text": [
      "[==================================================] 100.0% 31.6/31.6MB downloaded\n"
     ]
    }
   ],
   "source": [
    "corpus = api.load('text8')"
   ]
  },
  {
   "cell_type": "code",
   "execution_count": 4,
   "id": "first-mobile",
   "metadata": {},
   "outputs": [],
   "source": [
    "model = Word2Vec(corpus)  ## training on corpus"
   ]
  },
  {
   "cell_type": "code",
   "execution_count": 5,
   "id": "suspended-fourth",
   "metadata": {},
   "outputs": [
    {
     "name": "stdout",
     "output_type": "stream",
     "text": [
      "[('trees', 0.677410900592804), ('bark', 0.6747909784317017), ('leaf', 0.6383562684059143), ('flower', 0.6171472072601318), ('bird', 0.6062579154968262), ('fruit', 0.6017009019851685), ('avl', 0.5758088231086731), ('cave', 0.571187436580658), ('cactus', 0.5711280107498169), ('leaves', 0.5696697235107422)]\n"
     ]
    }
   ],
   "source": [
    "print(model.wv.most_similar('tree'))"
   ]
  },
  {
   "cell_type": "code",
   "execution_count": null,
   "id": "diagnostic-occasions",
   "metadata": {},
   "outputs": [],
   "source": []
  },
  {
   "cell_type": "code",
   "execution_count": null,
   "id": "affected-floating",
   "metadata": {},
   "outputs": [],
   "source": [
    "## Available pre-trained models\n"
   ]
  },
  {
   "cell_type": "code",
   "execution_count": 3,
   "id": "quarterly-friend",
   "metadata": {},
   "outputs": [
    {
     "name": "stdout",
     "output_type": "stream",
     "text": [
      "[===============================-------------------] 63.0% 80.6/128.1MB downloaded"
     ]
    },
    {
     "name": "stderr",
     "output_type": "stream",
     "text": [
      "IOPub message rate exceeded.\n",
      "The notebook server will temporarily stop sending output\n",
      "to the client in order to avoid crashing it.\n",
      "To change this limit, set the config variable\n",
      "`--NotebookApp.iopub_msg_rate_limit`.\n",
      "\n",
      "Current values:\n",
      "NotebookApp.iopub_msg_rate_limit=1000.0 (msgs/sec)\n",
      "NotebookApp.rate_limit_window=3.0 (secs)\n",
      "\n"
     ]
    },
    {
     "name": "stdout",
     "output_type": "stream",
     "text": [
      "[==============================================----] 93.8% 120.2/128.1MB downloaded"
     ]
    },
    {
     "name": "stderr",
     "output_type": "stream",
     "text": [
      "IOPub message rate exceeded.\n",
      "The notebook server will temporarily stop sending output\n",
      "to the client in order to avoid crashing it.\n",
      "To change this limit, set the config variable\n",
      "`--NotebookApp.iopub_msg_rate_limit`.\n",
      "\n",
      "Current values:\n",
      "NotebookApp.iopub_msg_rate_limit=1000.0 (msgs/sec)\n",
      "NotebookApp.rate_limit_window=3.0 (secs)\n",
      "\n"
     ]
    },
    {
     "name": "stdout",
     "output_type": "stream",
     "text": [
      "\n"
     ]
    }
   ],
   "source": [
    "# print(api.load('glove-wiki-gigaword-50', return_path=True))\n",
    "model = api.load(\"glove-wiki-gigaword-100\")"
   ]
  },
  {
   "cell_type": "code",
   "execution_count": 5,
   "id": "continental-forge",
   "metadata": {},
   "outputs": [
    {
     "name": "stderr",
     "output_type": "stream",
     "text": [
      "C:\\Users\\Akshay\\.conda\\envs\\pytorchenv\\lib\\site-packages\\ipykernel_launcher.py:1: DeprecationWarning: Call to deprecated `wv` (Attribute will be removed in 4.0.0, use self instead).\n",
      "  \"\"\"Entry point for launching an IPython kernel.\n"
     ]
    },
    {
     "data": {
      "text/plain": [
       "[('ceramic', 0.6910325288772583),\n",
       " ('stained', 0.6856706142425537),\n",
       " ('walls', 0.6817072629928589),\n",
       " ('plastic', 0.6806964874267578),\n",
       " ('window', 0.6744905710220337),\n",
       " ('metal', 0.6706480979919434),\n",
       " ('stone', 0.6591024398803711),\n",
       " ('piece', 0.6523524522781372),\n",
       " ('pieces', 0.6489548683166504),\n",
       " ('shards', 0.6478654742240906)]"
      ]
     },
     "execution_count": 5,
     "metadata": {},
     "output_type": "execute_result"
    }
   ],
   "source": [
    "model.wv.most_similar(\"glass\") ## no difference in using .wv method for models"
   ]
  },
  {
   "cell_type": "code",
   "execution_count": 6,
   "id": "bottom-straight",
   "metadata": {},
   "outputs": [
    {
     "data": {
      "text/plain": [
       "[('ceramic', 0.6910325288772583),\n",
       " ('stained', 0.6856706142425537),\n",
       " ('walls', 0.6817072629928589),\n",
       " ('plastic', 0.6806964874267578),\n",
       " ('window', 0.6744905710220337),\n",
       " ('metal', 0.6706480979919434),\n",
       " ('stone', 0.6591024398803711),\n",
       " ('piece', 0.6523524522781372),\n",
       " ('pieces', 0.6489548683166504),\n",
       " ('shards', 0.6478654742240906)]"
      ]
     },
     "execution_count": 6,
     "metadata": {},
     "output_type": "execute_result"
    }
   ],
   "source": [
    "model.most_similar(\"glass\")"
   ]
  },
  {
   "cell_type": "markdown",
   "id": "forbidden-gilbert",
   "metadata": {},
   "source": [
    "#### Bi-gram model"
   ]
  },
  {
   "cell_type": "code",
   "execution_count": null,
   "id": "appointed-comparative",
   "metadata": {},
   "outputs": [],
   "source": [
    "from gensim.test.utils import common_texts"
   ]
  },
  {
   "cell_type": "code",
   "execution_count": null,
   "id": "black-conjunction",
   "metadata": {},
   "outputs": [],
   "source": [
    "## training a bigram detector\n",
    "bigram_transformer = Phrases(common_texts"
   ]
  },
  {
   "cell_type": "code",
   "execution_count": null,
   "id": "unexpected-knight",
   "metadata": {},
   "outputs": [],
   "source": [
    "# Apply the trained MWE detector to a corpus, using the result to train a Word2vec model.\n",
    "model = Word2Vec(bigram_transformer[common_texts], min_count=1)"
   ]
  },
  {
   "cell_type": "code",
   "execution_count": null,
   "id": "comfortable-locator",
   "metadata": {},
   "outputs": [],
   "source": []
  },
  {
   "cell_type": "markdown",
   "id": "composed-stretch",
   "metadata": {},
   "source": [
    "## Glove "
   ]
  },
  {
   "cell_type": "code",
   "execution_count": 1,
   "id": "retained-albany",
   "metadata": {},
   "outputs": [],
   "source": [
    "import os\n",
    "from gensim.scripts.glove2word2vec import glove2word2vec"
   ]
  },
  {
   "cell_type": "code",
   "execution_count": null,
   "id": "collected-battery",
   "metadata": {},
   "outputs": [],
   "source": [
    "root_folder='.'\n",
    "data_folder_name='data'\n",
    "glove_filename='glove.6B.100d.txt'\n",
    "word2vec_output_file = glove_filename+'.word2vec'\n",
    "\n",
    "# glove_path = os.path.abspath(os.path.join(DATA_PATH, glove_filename))\n",
    "# glove2word2vec(glove_path, word2vec_output_file)"
   ]
  },
  {
   "cell_type": "markdown",
   "id": "consolidated-exemption",
   "metadata": {},
   "source": [
    "#### Available glove models\n",
    " glove.6B_tokens - (50-300 dimension) <br>\n",
    " glove.42B_tokens <br>\n",
    " glove.840B_tokens <br>\n",
    " glove.27B_tokens_twitter"
   ]
  },
  {
   "cell_type": "code",
   "execution_count": 4,
   "id": "scenic-fitness",
   "metadata": {},
   "outputs": [
    {
     "name": "stdout",
     "output_type": "stream",
     "text": [
      "GloVe data loaded\n"
     ]
    }
   ],
   "source": [
    "import numpy as np\n",
    "\n",
    "embeddings_index = {}\n",
    "f = open('./glove.6B.100d.txt', encoding=\"utf8\")\n",
    "for line in f:\n",
    "    values = line.split(' ')\n",
    "    word = values[0] ## The first entry is the word\n",
    "    coefs = np.asarray(values[1:], dtype='float32') ## These are the vecotrs representing the embedding for the word\n",
    "    embeddings_index[word] = coefs\n",
    "f.close()\n",
    "\n",
    "print('GloVe data loaded')"
   ]
  },
  {
   "cell_type": "code",
   "execution_count": 8,
   "id": "minor-margin",
   "metadata": {},
   "outputs": [
    {
     "data": {
      "text/plain": [
       "array([-0.12612 ,  0.15564 ,  0.73378 , -0.20459 ,  0.44796 ,  0.55318 ,\n",
       "        0.74986 ,  0.044664,  0.70504 ,  0.5721  ,  0.68294 ,  0.404   ,\n",
       "       -0.30313 ,  0.35006 , -0.37475 ,  0.035355, -0.060059,  0.45026 ,\n",
       "        0.45652 , -0.10797 , -0.5212  , -0.5381  ,  0.52531 ,  0.26234 ,\n",
       "        0.38583 , -0.27634 , -0.2725  , -0.3148  , -0.29824 ,  0.34577 ,\n",
       "        0.47973 ,  0.61487 , -0.21743 ,  0.56996 ,  0.84115 ,  0.59942 ,\n",
       "       -0.21932 ,  0.11974 ,  1.196   , -0.27857 ,  0.47654 , -0.057031,\n",
       "        0.56029 , -0.45929 , -1.1889  ,  0.098238,  0.3118  , -0.16599 ,\n",
       "        0.59446 ,  0.19975 ,  0.3876  ,  0.19775 , -0.30316 , -0.08063 ,\n",
       "        0.27396 , -0.40205 , -0.55974 , -0.21332 ,  1.3266  , -0.39926 ,\n",
       "       -0.031734,  0.58554 , -0.38878 ,  0.51607 , -0.57022 ,  0.047489,\n",
       "        0.54649 , -0.30561 ,  0.45699 ,  0.70653 ,  0.77859 ,  0.22167 ,\n",
       "        0.88696 , -0.6587  , -0.72107 ,  0.93184 ,  0.34877 ,  0.35567 ,\n",
       "       -0.11896 ,  0.47235 ,  0.81035 , -0.083377, -0.14989 , -0.05048 ,\n",
       "       -1.3173  , -0.13931 ,  0.60453 , -0.25865 , -0.34384 , -0.088602,\n",
       "        0.1847  ,  1.3137  ,  0.92452 , -0.58978 , -0.063638, -0.43797 ,\n",
       "        0.3073  , -0.35663 ,  1.304   , -0.4711  ], dtype=float32)"
      ]
     },
     "execution_count": 8,
     "metadata": {},
     "output_type": "execute_result"
    }
   ],
   "source": [
    "embeddings_index['laptop']"
   ]
  },
  {
   "cell_type": "code",
   "execution_count": null,
   "id": "muslim-unemployment",
   "metadata": {},
   "outputs": [],
   "source": []
  },
  {
   "cell_type": "markdown",
   "id": "elder-horizontal",
   "metadata": {},
   "source": [
    "## TF-IFD Embeddings"
   ]
  },
  {
   "cell_type": "code",
   "execution_count": null,
   "id": "exposed-insert",
   "metadata": {},
   "outputs": [],
   "source": [
    "from sklearn.feature_extraction.text import TfidfVectorizer\n",
    "\n",
    "tfidf = TfidfVectorizer()\n",
    "bow_rep_tfidf = tfidf.fit_transform(processed_docs)\n",
    "\n"
   ]
  },
  {
   "cell_type": "code",
   "execution_count": null,
   "id": "dying-juice",
   "metadata": {},
   "outputs": [],
   "source": [
    "print(tfidf.tf_)   ## ID for all words in vocabulary\n",
    "print(tfidf.idf_)   ## IDF for all words in the vocabulary\n"
   ]
  },
  {
   "cell_type": "code",
   "execution_count": null,
   "id": "complete-victorian",
   "metadata": {},
   "outputs": [],
   "source": [
    "temp = tfidf.transform(['sentence of your choice'])\n",
    "print(temp.to_array())"
   ]
  },
  {
   "cell_type": "code",
   "execution_count": null,
   "id": "developed-andorra",
   "metadata": {},
   "outputs": [],
   "source": []
  },
  {
   "cell_type": "code",
   "execution_count": null,
   "id": "involved-pressing",
   "metadata": {},
   "outputs": [],
   "source": []
  }
 ],
 "metadata": {
  "kernelspec": {
   "display_name": "Python 3",
   "language": "python",
   "name": "python3"
  },
  "language_info": {
   "codemirror_mode": {
    "name": "ipython",
    "version": 3
   },
   "file_extension": ".py",
   "mimetype": "text/x-python",
   "name": "python",
   "nbconvert_exporter": "python",
   "pygments_lexer": "ipython3",
   "version": "3.7.3"
  }
 },
 "nbformat": 4,
 "nbformat_minor": 5
}
