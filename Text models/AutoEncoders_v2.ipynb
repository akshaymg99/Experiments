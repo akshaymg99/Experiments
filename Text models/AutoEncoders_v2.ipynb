{
 "cells": [
  {
   "cell_type": "code",
   "execution_count": null,
   "id": "nuclear-projection",
   "metadata": {},
   "outputs": [],
   "source": [
    "import numpy as np\n",
    "import pandas as pd\n",
    "from sklearn.model_selection import train_test_split\n",
    "from keras.layers import Dense, Flatten, Reshape, Input, InputLayer\n",
    "from keras.models import Sequential, Model\n",
    "from tqdm import tqdm\n",
    "from IPython.display import Image"
   ]
  },
  {
   "cell_type": "code",
   "execution_count": 3,
   "id": "certain-russian",
   "metadata": {},
   "outputs": [
    {
     "name": "stderr",
     "output_type": "stream",
     "text": [
      "In C:\\Users\\Akshay\\.conda\\envs\\pytorchenv\\lib\\site-packages\\matplotlib\\mpl-data\\stylelib\\_classic_test.mplstyle: \n",
      "The savefig.frameon rcparam was deprecated in Matplotlib 3.1 and will be removed in 3.3.\n",
      "In C:\\Users\\Akshay\\.conda\\envs\\pytorchenv\\lib\\site-packages\\matplotlib\\mpl-data\\stylelib\\_classic_test.mplstyle: \n",
      "The verbose.level rcparam was deprecated in Matplotlib 3.1 and will be removed in 3.3.\n",
      "In C:\\Users\\Akshay\\.conda\\envs\\pytorchenv\\lib\\site-packages\\matplotlib\\mpl-data\\stylelib\\_classic_test.mplstyle: \n",
      "The verbose.fileo rcparam was deprecated in Matplotlib 3.1 and will be removed in 3.3.\n"
     ]
    }
   ],
   "source": [
    "import matplotlib.pyplot as plt\n",
    "from keras import layers\n",
    "import keras"
   ]
  },
  {
   "cell_type": "code",
   "execution_count": 1,
   "id": "younger-stopping",
   "metadata": {},
   "outputs": [],
   "source": [
    "from sentence_transformers import SentenceTransformer\n",
    "from sentence_transformers import util\n",
    "model_s = SentenceTransformer('all-mpnet-base-v2')"
   ]
  },
  {
   "cell_type": "code",
   "execution_count": 4,
   "id": "vietnamese-worse",
   "metadata": {},
   "outputs": [
    {
     "data": {
      "text/plain": [
       "293648"
      ]
     },
     "execution_count": 4,
     "metadata": {},
     "output_type": "execute_result"
    }
   ],
   "source": [
    "df = pd.read_csv('data/zappos_variant_db.csv')\n",
    "df['Index'] = df.index\n",
    "len(df)"
   ]
  },
  {
   "cell_type": "code",
   "execution_count": 7,
   "id": "fabulous-franklin",
   "metadata": {},
   "outputs": [
    {
     "data": {
      "text/html": [
       "<div>\n",
       "<style scoped>\n",
       "    .dataframe tbody tr th:only-of-type {\n",
       "        vertical-align: middle;\n",
       "    }\n",
       "\n",
       "    .dataframe tbody tr th {\n",
       "        vertical-align: top;\n",
       "    }\n",
       "\n",
       "    .dataframe thead th {\n",
       "        text-align: right;\n",
       "    }\n",
       "</style>\n",
       "<table border=\"1\" class=\"dataframe\">\n",
       "  <thead>\n",
       "    <tr style=\"text-align: right;\">\n",
       "      <th></th>\n",
       "      <th>Unnamed: 0</th>\n",
       "      <th>urlh</th>\n",
       "      <th>title</th>\n",
       "      <th>color</th>\n",
       "      <th>size</th>\n",
       "      <th>Index</th>\n",
       "    </tr>\n",
       "  </thead>\n",
       "  <tbody>\n",
       "    <tr>\n",
       "      <th>0</th>\n",
       "      <td>0</td>\n",
       "      <td>23132a4fe9927072c64ad1241e7d2ddd5b34fd2e</td>\n",
       "      <td>Steve Madden Gorgeena Over the Knee Boot - Dar...</td>\n",
       "      <td>Dark Grey</td>\n",
       "      <td>8 M</td>\n",
       "      <td>0</td>\n",
       "    </tr>\n",
       "    <tr>\n",
       "      <th>1</th>\n",
       "      <td>1</td>\n",
       "      <td>9175b83637b26e3f633c5ed25313220900855be5</td>\n",
       "      <td>Cobb Hill Erika Slingback - Amber Yellow - 9 -...</td>\n",
       "      <td>Amber Yellow</td>\n",
       "      <td>9 B - Medium</td>\n",
       "      <td>1</td>\n",
       "    </tr>\n",
       "    <tr>\n",
       "      <th>2</th>\n",
       "      <td>2</td>\n",
       "      <td>95a20f28f7ef48194deeca47c12c8fb26be23c4f</td>\n",
       "      <td>Cobb Hill Erika Slingback - Black - 6 - D - Wide</td>\n",
       "      <td>Black</td>\n",
       "      <td>6 D - Wide</td>\n",
       "      <td>2</td>\n",
       "    </tr>\n",
       "    <tr>\n",
       "      <th>3</th>\n",
       "      <td>3</td>\n",
       "      <td>defe118bb8fd435ea68e3999569bb5c3bb870520</td>\n",
       "      <td>Cobb Hill Erika Slingback - Black - 7.5 - D - ...</td>\n",
       "      <td>Black</td>\n",
       "      <td>7.5 D - Wide</td>\n",
       "      <td>3</td>\n",
       "    </tr>\n",
       "    <tr>\n",
       "      <th>4</th>\n",
       "      <td>4</td>\n",
       "      <td>719414b6774380592a73f17d87e4b64264884482</td>\n",
       "      <td>Cobb Hill Erika Slingback - Black - 9.5 - D - ...</td>\n",
       "      <td>Black</td>\n",
       "      <td>9.5 D - Wide</td>\n",
       "      <td>4</td>\n",
       "    </tr>\n",
       "  </tbody>\n",
       "</table>\n",
       "</div>"
      ],
      "text/plain": [
       "   Unnamed: 0                                      urlh  \\\n",
       "0           0  23132a4fe9927072c64ad1241e7d2ddd5b34fd2e   \n",
       "1           1  9175b83637b26e3f633c5ed25313220900855be5   \n",
       "2           2  95a20f28f7ef48194deeca47c12c8fb26be23c4f   \n",
       "3           3  defe118bb8fd435ea68e3999569bb5c3bb870520   \n",
       "4           4  719414b6774380592a73f17d87e4b64264884482   \n",
       "\n",
       "                                               title         color  \\\n",
       "0  Steve Madden Gorgeena Over the Knee Boot - Dar...     Dark Grey   \n",
       "1  Cobb Hill Erika Slingback - Amber Yellow - 9 -...  Amber Yellow   \n",
       "2   Cobb Hill Erika Slingback - Black - 6 - D - Wide         Black   \n",
       "3  Cobb Hill Erika Slingback - Black - 7.5 - D - ...         Black   \n",
       "4  Cobb Hill Erika Slingback - Black - 9.5 - D - ...         Black   \n",
       "\n",
       "           size  Index  \n",
       "0           8 M      0  \n",
       "1  9 B - Medium      1  \n",
       "2    6 D - Wide      2  \n",
       "3  7.5 D - Wide      3  \n",
       "4  9.5 D - Wide      4  "
      ]
     },
     "execution_count": 7,
     "metadata": {},
     "output_type": "execute_result"
    }
   ],
   "source": [
    "df.head()"
   ]
  },
  {
   "cell_type": "code",
   "execution_count": 5,
   "id": "hazardous-victorian",
   "metadata": {},
   "outputs": [],
   "source": [
    "df['title'] = [ '' if x is np.NaN else x for x in df['title'] ]\n",
    "df['color'] = [ '' if x is np.NaN else x for x in df['color'] ]\n",
    "df['size'] = [ '' if x is np.NaN else x for x in df['size'] ]"
   ]
  },
  {
   "cell_type": "code",
   "execution_count": 17,
   "id": "interracial-thesis",
   "metadata": {},
   "outputs": [
    {
     "name": "stderr",
     "output_type": "stream",
     "text": [
      "100%|███████████████████████████████████████████████████████████████████████| 293648/293648 [10:09:50<00:00,  8.03it/s]\n"
     ]
    },
    {
     "data": {
      "text/plain": [
       "(293648, 2304)"
      ]
     },
     "execution_count": 17,
     "metadata": {},
     "output_type": "execute_result"
    }
   ],
   "source": [
    "vectors = []\n",
    "\n",
    "for i in tqdm(df['Index']):\n",
    "    l1 = len(df['title'][i])\n",
    "    l2 = len(df['color'][i])\n",
    "    l3 = len(df['size'][i])\n",
    "    \n",
    "    if l1 != 0 and l2 !=0 and l3 != 0:\n",
    "        v_f1 = model_s.encode(df['title'][i])\n",
    "        v_f2 = model_s.encode(df['color'][i][0])\n",
    "        v_f3 = model_s.encode(df['size'][i][0])\n",
    "        \n",
    "        #print(v_f1.shape, v_f2.shape, v_f3.shape)\n",
    "        \n",
    "        v_prod = np.concatenate((v_f1, v_f2, v_f3), axis=0)\n",
    "        \n",
    "    vectors.append(v_prod)\n",
    "\n",
    "vectors = np.array(vectors)\n",
    "vectors.shape"
   ]
  },
  {
   "cell_type": "code",
   "execution_count": 18,
   "id": "tired-theme",
   "metadata": {},
   "outputs": [],
   "source": [
    "np.save('zappos_data_vectors', vectors)"
   ]
  },
  {
   "cell_type": "code",
   "execution_count": 6,
   "id": "grand-clinton",
   "metadata": {},
   "outputs": [],
   "source": [
    "vectors = np.load('zappos_data_vectors.npy')"
   ]
  },
  {
   "cell_type": "code",
   "execution_count": 7,
   "id": "social-detection",
   "metadata": {},
   "outputs": [],
   "source": [
    "X = vectors"
   ]
  },
  {
   "cell_type": "code",
   "execution_count": 8,
   "id": "executive-solid",
   "metadata": {},
   "outputs": [],
   "source": [
    "X_train, X_test = train_test_split(X, test_size=0.1, random_state=42)"
   ]
  },
  {
   "cell_type": "code",
   "execution_count": 9,
   "id": "frequent-interval",
   "metadata": {},
   "outputs": [
    {
     "name": "stdout",
     "output_type": "stream",
     "text": [
      "(264283, 2304)\n",
      "(29365, 2304)\n"
     ]
    }
   ],
   "source": [
    "print(X_train.shape)\n",
    "print(X_test.shape)"
   ]
  },
  {
   "cell_type": "code",
   "execution_count": null,
   "id": "recovered-sphere",
   "metadata": {},
   "outputs": [],
   "source": []
  },
  {
   "cell_type": "markdown",
   "id": "interracial-albany",
   "metadata": {},
   "source": [
    "### AutoEncoder Architecture"
   ]
  },
  {
   "cell_type": "code",
   "execution_count": 10,
   "id": "color-circular",
   "metadata": {},
   "outputs": [],
   "source": [
    "emb_dim = 2304\n",
    "hidden_layer_1_size = 2000\n",
    "hidden_layer_2_size = 1500"
   ]
  },
  {
   "cell_type": "code",
   "execution_count": 11,
   "id": "prostate-topic",
   "metadata": {},
   "outputs": [],
   "source": [
    "encoder = Sequential()\n",
    "encoder.add(InputLayer((emb_dim, )))\n",
    "encoder.add(Dense(hidden_layer_1_size, activation='relu'))\n",
    "encoder.add(Dense(hidden_layer_2_size, activation='linear'))\n",
    "\n",
    "decoder = Sequential()\n",
    "decoder.add(InputLayer((hidden_layer_2_size, )))\n",
    "decoder.add(Dense(hidden_layer_1_size, activation='relu'))\n",
    "decoder.add(Dense(emb_dim, activation='linear')) "
   ]
  },
  {
   "cell_type": "code",
   "execution_count": 12,
   "id": "photographic-prime",
   "metadata": {},
   "outputs": [
    {
     "name": "stdout",
     "output_type": "stream",
     "text": [
      "Model: \"model_1\"\n",
      "_________________________________________________________________\n",
      "Layer (type)                 Output Shape              Param #   \n",
      "=================================================================\n",
      "input_3 (InputLayer)         (None, 2304)              0         \n",
      "_________________________________________________________________\n",
      "sequential_1 (Sequential)    (None, 1500)              7611500   \n",
      "_________________________________________________________________\n",
      "sequential_2 (Sequential)    (None, 2304)              7612304   \n",
      "=================================================================\n",
      "Total params: 15,223,804\n",
      "Trainable params: 15,223,804\n",
      "Non-trainable params: 0\n",
      "_________________________________________________________________\n"
     ]
    }
   ],
   "source": [
    "inp = Input((emb_dim, ))\n",
    "code = encoder(inp)\n",
    "reconstruction = decoder(code)\n",
    "\n",
    "autoencoder_1 = Model(inp, reconstruction)\n",
    "autoencoder_1.compile(optimizer='adam', loss='cosine_similarity')\n",
    "\n",
    "autoencoder_1.summary()"
   ]
  },
  {
   "cell_type": "code",
   "execution_count": 15,
   "id": "lovely-organ",
   "metadata": {},
   "outputs": [
    {
     "data": {
      "image/png": "[encoded data removed]",
      "text/plain": [
       "<IPython.core.display.Image object>"
      ]
     },
     "execution_count": 15,
     "metadata": {},
     "output_type": "execute_result"
    }
   ],
   "source": [
    "Image(filename='Autoencoder_architecture_pic_2.png')"
   ]
  },
  {
   "cell_type": "code",
   "execution_count": 13,
   "id": "hindu-multimedia",
   "metadata": {},
   "outputs": [
    {
     "name": "stdout",
     "output_type": "stream",
     "text": [
      "WARNING:tensorflow:From C:\\Users\\Akshay\\.conda\\envs\\pytorchenv\\lib\\site-packages\\tensorflow\\python\\ops\\math_grad.py:1250: add_dispatch_support.<locals>.wrapper (from tensorflow.python.ops.array_ops) is deprecated and will be removed in a future version.\n",
      "Instructions for updating:\n",
      "Use tf.where in 2.0, which has the same broadcast rule as np.where\n",
      "WARNING:tensorflow:From C:\\Users\\Akshay\\.conda\\envs\\pytorchenv\\lib\\site-packages\\keras\\backend\\tensorflow_backend.py:422: The name tf.global_variables is deprecated. Please use tf.compat.v1.global_variables instead.\n",
      "\n",
      "Train on 264283 samples, validate on 29365 samples\n",
      "Epoch 1/1\n",
      "264283/264283 [==============================] - 2023s 8ms/step - loss: -0.9794 - val_loss: -0.9937\n"
     ]
    }
   ],
   "source": [
    "history = autoencoder_1.fit(x=X_train, y=X_train, epochs=1, validation_data=[X_test, X_test])"
   ]
  },
  {
   "cell_type": "code",
   "execution_count": 16,
   "id": "centered-blame",
   "metadata": {},
   "outputs": [
    {
     "data": {
      "image/png": "[encoded data removed]",
      "text/plain": [
       "<Figure size 432x288 with 1 Axes>"
      ]
     },
     "metadata": {
      "needs_background": "light"
     },
     "output_type": "display_data"
    }
   ],
   "source": [
    "plt.plot(history.history['loss'])\n",
    "plt.plot(history.history['val_loss'])\n",
    "plt.title('model loss')\n",
    "plt.ylabel('loss')\n",
    "plt.xlabel('epoch')\n",
    "plt.legend(['train', 'test'], loc='upper left')\n",
    "plt.show()"
   ]
  },
  {
   "cell_type": "code",
   "execution_count": null,
   "id": "subsequent-tours",
   "metadata": {},
   "outputs": [],
   "source": []
  },
  {
   "cell_type": "markdown",
   "id": "excellent-public",
   "metadata": {},
   "source": [
    "### Inference "
   ]
  },
  {
   "cell_type": "code",
   "execution_count": 93,
   "id": "frequent-projector",
   "metadata": {},
   "outputs": [
    {
     "name": "stdout",
     "output_type": "stream",
     "text": [
      "Cobb Hill Erika Slingback - Black - 6 - D - Wide\n",
      "Black\n",
      "6 D - Wide\n"
     ]
    }
   ],
   "source": [
    "index_1 = 2\n",
    "print(df['title'][index_1])\n",
    "print(df['color'][index_1])\n",
    "print(df['size'][index_1])"
   ]
  },
  {
   "cell_type": "code",
   "execution_count": 94,
   "id": "parallel-associate",
   "metadata": {},
   "outputs": [
    {
     "name": "stdout",
     "output_type": "stream",
     "text": [
      "Cobb Hill Erika Slingback - Black - 7.5 - D - Wide\n",
      "Black\n",
      "7.5 D - Wide\n"
     ]
    }
   ],
   "source": [
    "index_2 = 3\n",
    "print(df['title'][index_2])\n",
    "print(df['color'][index_2])\n",
    "print(df['size'][index_2])"
   ]
  },
  {
   "cell_type": "code",
   "execution_count": 95,
   "id": "better-carroll",
   "metadata": {},
   "outputs": [
    {
     "data": {
      "text/plain": [
       "(2304,)"
      ]
     },
     "execution_count": 95,
     "metadata": {},
     "output_type": "execute_result"
    }
   ],
   "source": [
    "v_f1 = model_s.encode(df['title'][index_1])\n",
    "v_f2 = model_s.encode(df['color'][index_1])\n",
    "v_f3 = model_s.encode(df['size'][index_1])\n",
    "\n",
    "v_prod_1 = np.concatenate((v_f1, v_f2, v_f3), axis=0)\n",
    "v_prod_1.shape"
   ]
  },
  {
   "cell_type": "code",
   "execution_count": 96,
   "id": "imperial-marketplace",
   "metadata": {},
   "outputs": [
    {
     "data": {
      "text/plain": [
       "(2304,)"
      ]
     },
     "execution_count": 96,
     "metadata": {},
     "output_type": "execute_result"
    }
   ],
   "source": [
    "v_f1 = model_s.encode(df['title'][index_2])\n",
    "v_f2 = model_s.encode(df['color'][index_2])\n",
    "v_f3 = model_s.encode(df['size'][index_2])\n",
    "\n",
    "v_prod_2 = np.concatenate((v_f1, v_f2, v_f3), axis=0)\n",
    "v_prod_2.shape"
   ]
  },
  {
   "cell_type": "code",
   "execution_count": 97,
   "id": "terminal-dollar",
   "metadata": {},
   "outputs": [
    {
     "data": {
      "text/plain": [
       "tensor([[0.9150]])"
      ]
     },
     "execution_count": 97,
     "metadata": {},
     "output_type": "execute_result"
    }
   ],
   "source": [
    "util.cos_sim(v_prod_1, v_prod_2)"
   ]
  },
  {
   "cell_type": "code",
   "execution_count": null,
   "id": "norman-rebate",
   "metadata": {},
   "outputs": [],
   "source": []
  },
  {
   "cell_type": "code",
   "execution_count": 98,
   "id": "matched-range",
   "metadata": {},
   "outputs": [
    {
     "name": "stdout",
     "output_type": "stream",
     "text": [
      "(1500,) (2304,)\n"
     ]
    }
   ],
   "source": [
    "latent_1 = encoder.predict(v_prod_1[None])[0]\n",
    "reco_1 = decoder.predict(latent_1[None])[0]\n",
    "print(latent_1.shape, reco_1.shape)"
   ]
  },
  {
   "cell_type": "code",
   "execution_count": 99,
   "id": "indonesian-following",
   "metadata": {},
   "outputs": [
    {
     "name": "stdout",
     "output_type": "stream",
     "text": [
      "(1500,) (2304,)\n"
     ]
    }
   ],
   "source": [
    "latent_2 = encoder.predict(v_prod_2[None])[0]\n",
    "reco_2 = decoder.predict(latent_2[None])[0]\n",
    "print(latent_2.shape, reco_2.shape)"
   ]
  },
  {
   "cell_type": "code",
   "execution_count": 100,
   "id": "american-ottawa",
   "metadata": {},
   "outputs": [
    {
     "data": {
      "text/plain": [
       "tensor([[0.9410]])"
      ]
     },
     "execution_count": 100,
     "metadata": {},
     "output_type": "execute_result"
    }
   ],
   "source": [
    "util.cos_sim(reco_1, reco_2)  ## should be close to what we got in cos_sim(v_prod_1, v_prod_2)"
   ]
  },
  {
   "cell_type": "code",
   "execution_count": 101,
   "id": "effective-refrigerator",
   "metadata": {},
   "outputs": [
    {
     "data": {
      "text/plain": [
       "tensor([[0.9098]])"
      ]
     },
     "execution_count": 101,
     "metadata": {},
     "output_type": "execute_result"
    }
   ],
   "source": [
    "util.cos_sim(latent_1, latent_2)  ## should be close to what we got in cos_sim(v_prod_1, v_prod_2)"
   ]
  },
  {
   "cell_type": "code",
   "execution_count": null,
   "id": "governmental-aberdeen",
   "metadata": {},
   "outputs": [],
   "source": []
  },
  {
   "cell_type": "code",
   "execution_count": null,
   "id": "scenic-wilson",
   "metadata": {},
   "outputs": [],
   "source": []
  },
  {
   "cell_type": "code",
   "execution_count": null,
   "id": "unlikely-agency",
   "metadata": {},
   "outputs": [],
   "source": []
  },
  {
   "cell_type": "code",
   "execution_count": 40,
   "id": "adopted-beverage",
   "metadata": {},
   "outputs": [
    {
     "name": "stdout",
     "output_type": "stream",
     "text": [
      "tensor([[0.6677]])\n",
      "tensor([[0.6330]])\n"
     ]
    }
   ],
   "source": [
    "print(util.cos_sim(reco_1, v_prod_1))  ## should be close to 1 ?\n",
    "print(util.cos_sim(reco_2, v_prod_2))"
   ]
  },
  {
   "cell_type": "code",
   "execution_count": 220,
   "id": "preliminary-sapphire",
   "metadata": {},
   "outputs": [
    {
     "name": "stdout",
     "output_type": "stream",
     "text": [
      "tensor([[0.9385]])\n",
      "tensor([[0.4098]])\n",
      "tensor([[0.6677]])\n"
     ]
    }
   ],
   "source": [
    "v_f1 = model_s.encode('Nike Shoes Running, usable in rainy waterproof') \n",
    "v_f2 = model_s.encode('Black')\n",
    "v_f3 = model_s.encode('3M')\n",
    "\n",
    "latent_v_f1 = reco_1[0: 768]\n",
    "latent_v_f2 = reco_1[768: 1536]\n",
    "latent_v_f3 = reco_1[1536: 2304]\n",
    "\n",
    "print(util.cos_sim(v_f1, latent_v_f1))\n",
    "print(util.cos_sim(v_f2, latent_v_f2))\n",
    "print(util.cos_sim(v_f3, latent_v_f3))"
   ]
  },
  {
   "cell_type": "code",
   "execution_count": 221,
   "id": "sound-pontiac",
   "metadata": {},
   "outputs": [
    {
     "name": "stdout",
     "output_type": "stream",
     "text": [
      "tensor([[0.9360]])\n",
      "tensor([[0.4321]])\n",
      "tensor([[0.6664]])\n"
     ]
    }
   ],
   "source": [
    "v_f1 = model_s.encode('Nike Shoes Running, usable in rainy waterproof') \n",
    "v_f2 = model_s.encode('White')\n",
    "v_f3 = model_s.encode('3M')\n",
    "\n",
    "latent_v_f1 = reco_2[0: 768]\n",
    "latent_v_f2 = reco_2[768: 1536]\n",
    "latent_v_f3 = reco_2[1536: 2304]\n",
    "\n",
    "print(util.cos_sim(v_f1, latent_v_f1))\n",
    "print(util.cos_sim(v_f2, latent_v_f2))\n",
    "print(util.cos_sim(v_f3, latent_v_f3))"
   ]
  },
  {
   "cell_type": "code",
   "execution_count": 222,
   "id": "imported-supplement",
   "metadata": {},
   "outputs": [
    {
     "data": {
      "text/plain": [
       "tensor([[0.9923]])"
      ]
     },
     "execution_count": 222,
     "metadata": {},
     "output_type": "execute_result"
    }
   ],
   "source": [
    "util.cos_sim(latent_1[0:666], latent_2[0:666])"
   ]
  },
  {
   "cell_type": "code",
   "execution_count": null,
   "id": "interstate-northwest",
   "metadata": {},
   "outputs": [],
   "source": []
  },
  {
   "cell_type": "code",
   "execution_count": null,
   "id": "charming-grass",
   "metadata": {},
   "outputs": [],
   "source": []
  },
  {
   "cell_type": "code",
   "execution_count": null,
   "id": "collect-publicity",
   "metadata": {},
   "outputs": [],
   "source": []
  },
  {
   "cell_type": "code",
   "execution_count": 227,
   "id": "reflected-grain",
   "metadata": {},
   "outputs": [],
   "source": [
    "df_temp = pd.read_json('data/el_zappos_6pm_pi_nocomp_52_Zappos-US_File (1).json', lines=True)"
   ]
  },
  {
   "cell_type": "code",
   "execution_count": 229,
   "id": "sweet-standard",
   "metadata": {},
   "outputs": [
    {
     "data": {
      "text/html": [
       "<div>\n",
       "<style scoped>\n",
       "    .dataframe tbody tr th:only-of-type {\n",
       "        vertical-align: middle;\n",
       "    }\n",
       "\n",
       "    .dataframe tbody tr th {\n",
       "        vertical-align: top;\n",
       "    }\n",
       "\n",
       "    .dataframe thead th {\n",
       "        text-align: right;\n",
       "    }\n",
       "</style>\n",
       "<table border=\"1\" class=\"dataframe\">\n",
       "  <thead>\n",
       "    <tr style=\"text-align: right;\">\n",
       "      <th></th>\n",
       "      <th>sku</th>\n",
       "      <th>seed</th>\n",
       "      <th>seed_name</th>\n",
       "      <th>category</th>\n",
       "      <th>subcategory</th>\n",
       "      <th>product_type</th>\n",
       "      <th>brand</th>\n",
       "      <th>bid</th>\n",
       "      <th>status</th>\n",
       "      <th>thumbnail</th>\n",
       "      <th>seed_source</th>\n",
       "      <th>tagged_data</th>\n",
       "      <th>is_published</th>\n",
       "      <th>docs</th>\n",
       "      <th>static_data</th>\n",
       "      <th>invalid_docs</th>\n",
       "    </tr>\n",
       "  </thead>\n",
       "  <tbody>\n",
       "    <tr>\n",
       "      <th>0</th>\n",
       "      <td>5650673</td>\n",
       "      <td>50418b16b45be9367212657c14a6b1cae03fc2f8</td>\n",
       "      <td>Dickies - Women's Perfect Shape Denim Jean-Ski...</td>\n",
       "      <td>Partnerships</td>\n",
       "      <td>Pants</td>\n",
       "      <td>Reverse Sharing</td>\n",
       "      <td>Dickies</td>\n",
       "      <td>280482091</td>\n",
       "      <td>0</td>\n",
       "      <td>https://www.zappos.com/images/z/5/6/5/0/6/7/56...</td>\n",
       "      <td>Zappos-US</td>\n",
       "      <td>{'competitors': ['Skechers-US', 'Ugg-US', 'Sor...</td>\n",
       "      <td>0</td>\n",
       "      <td>[50418b16b45be9367212657c14a6b1cae03fc2f8]</td>\n",
       "      <td>{'50418b16b45be9367212657c14a6b1cae03fc2f8': {}}</td>\n",
       "      <td>NaN</td>\n",
       "    </tr>\n",
       "    <tr>\n",
       "      <th>1</th>\n",
       "      <td>2783899</td>\n",
       "      <td>d1502c72995153090b6076ca44893a19d8c99b39</td>\n",
       "      <td>PUMA Kids - Roma Basic Jr. (Big Kid) Black/Black</td>\n",
       "      <td>6pm</td>\n",
       "      <td>Sneakers &amp; Athletic Shoes</td>\n",
       "      <td>DB Kids Footwear Lifestyle</td>\n",
       "      <td>PUMA Kids</td>\n",
       "      <td>280474015</td>\n",
       "      <td>0</td>\n",
       "      <td>https://www.6pm.com/images/z/2/1/9/9/7/5/21997...</td>\n",
       "      <td>6PM-US</td>\n",
       "      <td>{'competitors': ['Sorel-US', 'FootLocker-US', ...</td>\n",
       "      <td>0</td>\n",
       "      <td>[d1502c72995153090b6076ca44893a19d8c99b39]</td>\n",
       "      <td>{'d1502c72995153090b6076ca44893a19d8c99b39': {}}</td>\n",
       "      <td>NaN</td>\n",
       "    </tr>\n",
       "    <tr>\n",
       "      <th>2</th>\n",
       "      <td>2961044</td>\n",
       "      <td>ef1eaf5ef0db091229163b94fc6582bb8aaf1431</td>\n",
       "      <td>bernie mev. - Halle Black</td>\n",
       "      <td>Casual Footwear Womens</td>\n",
       "      <td>Heels</td>\n",
       "      <td>Casual Footwear 2</td>\n",
       "      <td>bernie mev.</td>\n",
       "      <td>280474016</td>\n",
       "      <td>0</td>\n",
       "      <td></td>\n",
       "      <td>6PM-US</td>\n",
       "      <td>{'competitors': ['Sorel-US', 'FootLocker-US', ...</td>\n",
       "      <td>0</td>\n",
       "      <td>[ef1eaf5ef0db091229163b94fc6582bb8aaf1431]</td>\n",
       "      <td>{'ef1eaf5ef0db091229163b94fc6582bb8aaf1431': {}}</td>\n",
       "      <td>NaN</td>\n",
       "    </tr>\n",
       "    <tr>\n",
       "      <th>3</th>\n",
       "      <td>3277804</td>\n",
       "      <td>a6b0ae40274b6b619d32c270c7f4b04b64da11b4</td>\n",
       "      <td>Stonewear Designs - Rockin Shorts Black</td>\n",
       "      <td>Zappos Exit</td>\n",
       "      <td>Shorts</td>\n",
       "      <td>Womens Performance Apparel Exit</td>\n",
       "      <td>Stonewear Designs</td>\n",
       "      <td>280474017</td>\n",
       "      <td>0</td>\n",
       "      <td>https://www.zappos.com/images/z/3/2/7/7/8/0/32...</td>\n",
       "      <td>6PM-US</td>\n",
       "      <td>{'competitors': ['Sorel-US', 'FootLocker-US', ...</td>\n",
       "      <td>0</td>\n",
       "      <td>[a6b0ae40274b6b619d32c270c7f4b04b64da11b4]</td>\n",
       "      <td>{'a6b0ae40274b6b619d32c270c7f4b04b64da11b4': {}}</td>\n",
       "      <td>NaN</td>\n",
       "    </tr>\n",
       "    <tr>\n",
       "      <th>4</th>\n",
       "      <td>3672296</td>\n",
       "      <td>c2f7899931a9b7eb88052ace8644c176aabcc81c</td>\n",
       "      <td>LifeStride - Sevyn Navy</td>\n",
       "      <td>Casual Footwear Womens</td>\n",
       "      <td>Heels</td>\n",
       "      <td>Casual Footwear 2</td>\n",
       "      <td>LifeStride</td>\n",
       "      <td>280474018</td>\n",
       "      <td>0</td>\n",
       "      <td>https://www.zappos.com/images/z/3/6/7/3/2/7/36...</td>\n",
       "      <td>6PM-US</td>\n",
       "      <td>{'competitors': ['Sorel-US', 'FootLocker-US', ...</td>\n",
       "      <td>0</td>\n",
       "      <td>[c2f7899931a9b7eb88052ace8644c176aabcc81c]</td>\n",
       "      <td>{'c2f7899931a9b7eb88052ace8644c176aabcc81c': {}}</td>\n",
       "      <td>NaN</td>\n",
       "    </tr>\n",
       "  </tbody>\n",
       "</table>\n",
       "</div>"
      ],
      "text/plain": [
       "       sku                                      seed  \\\n",
       "0  5650673  50418b16b45be9367212657c14a6b1cae03fc2f8   \n",
       "1  2783899  d1502c72995153090b6076ca44893a19d8c99b39   \n",
       "2  2961044  ef1eaf5ef0db091229163b94fc6582bb8aaf1431   \n",
       "3  3277804  a6b0ae40274b6b619d32c270c7f4b04b64da11b4   \n",
       "4  3672296  c2f7899931a9b7eb88052ace8644c176aabcc81c   \n",
       "\n",
       "                                           seed_name                category  \\\n",
       "0  Dickies - Women's Perfect Shape Denim Jean-Ski...            Partnerships   \n",
       "1   PUMA Kids - Roma Basic Jr. (Big Kid) Black/Black                     6pm   \n",
       "2                          bernie mev. - Halle Black  Casual Footwear Womens   \n",
       "3            Stonewear Designs - Rockin Shorts Black             Zappos Exit   \n",
       "4                            LifeStride - Sevyn Navy  Casual Footwear Womens   \n",
       "\n",
       "                 subcategory                     product_type  \\\n",
       "0                      Pants                  Reverse Sharing   \n",
       "1  Sneakers & Athletic Shoes       DB Kids Footwear Lifestyle   \n",
       "2                      Heels                Casual Footwear 2   \n",
       "3                     Shorts  Womens Performance Apparel Exit   \n",
       "4                      Heels                Casual Footwear 2   \n",
       "\n",
       "               brand        bid  status  \\\n",
       "0            Dickies  280482091       0   \n",
       "1          PUMA Kids  280474015       0   \n",
       "2        bernie mev.  280474016       0   \n",
       "3  Stonewear Designs  280474017       0   \n",
       "4         LifeStride  280474018       0   \n",
       "\n",
       "                                           thumbnail seed_source  \\\n",
       "0  https://www.zappos.com/images/z/5/6/5/0/6/7/56...   Zappos-US   \n",
       "1  https://www.6pm.com/images/z/2/1/9/9/7/5/21997...      6PM-US   \n",
       "2                                                         6PM-US   \n",
       "3  https://www.zappos.com/images/z/3/2/7/7/8/0/32...      6PM-US   \n",
       "4  https://www.zappos.com/images/z/3/6/7/3/2/7/36...      6PM-US   \n",
       "\n",
       "                                         tagged_data  is_published  \\\n",
       "0  {'competitors': ['Skechers-US', 'Ugg-US', 'Sor...             0   \n",
       "1  {'competitors': ['Sorel-US', 'FootLocker-US', ...             0   \n",
       "2  {'competitors': ['Sorel-US', 'FootLocker-US', ...             0   \n",
       "3  {'competitors': ['Sorel-US', 'FootLocker-US', ...             0   \n",
       "4  {'competitors': ['Sorel-US', 'FootLocker-US', ...             0   \n",
       "\n",
       "                                         docs  \\\n",
       "0  [50418b16b45be9367212657c14a6b1cae03fc2f8]   \n",
       "1  [d1502c72995153090b6076ca44893a19d8c99b39]   \n",
       "2  [ef1eaf5ef0db091229163b94fc6582bb8aaf1431]   \n",
       "3  [a6b0ae40274b6b619d32c270c7f4b04b64da11b4]   \n",
       "4  [c2f7899931a9b7eb88052ace8644c176aabcc81c]   \n",
       "\n",
       "                                        static_data invalid_docs  \n",
       "0  {'50418b16b45be9367212657c14a6b1cae03fc2f8': {}}          NaN  \n",
       "1  {'d1502c72995153090b6076ca44893a19d8c99b39': {}}          NaN  \n",
       "2  {'ef1eaf5ef0db091229163b94fc6582bb8aaf1431': {}}          NaN  \n",
       "3  {'a6b0ae40274b6b619d32c270c7f4b04b64da11b4': {}}          NaN  \n",
       "4  {'c2f7899931a9b7eb88052ace8644c176aabcc81c': {}}          NaN  "
      ]
     },
     "execution_count": 229,
     "metadata": {},
     "output_type": "execute_result"
    }
   ],
   "source": [
    "df_temp.head()"
   ]
  },
  {
   "cell_type": "code",
   "execution_count": 231,
   "id": "composite-double",
   "metadata": {},
   "outputs": [
    {
     "data": {
      "text/plain": [
       "sku                                                       5650673\n",
       "seed                     50418b16b45be9367212657c14a6b1cae03fc2f8\n",
       "seed_name       Dickies - Women's Perfect Shape Denim Jean-Ski...\n",
       "category                                             Partnerships\n",
       "subcategory                                                 Pants\n",
       "product_type                                      Reverse Sharing\n",
       "brand                                                     Dickies\n",
       "bid                                                     280482091\n",
       "status                                                          0\n",
       "thumbnail       https://www.zappos.com/images/z/5/6/5/0/6/7/56...\n",
       "seed_source                                             Zappos-US\n",
       "tagged_data     {'competitors': ['Skechers-US', 'Ugg-US', 'Sor...\n",
       "is_published                                                    0\n",
       "docs                   [50418b16b45be9367212657c14a6b1cae03fc2f8]\n",
       "static_data      {'50418b16b45be9367212657c14a6b1cae03fc2f8': {}}\n",
       "invalid_docs                                                  NaN\n",
       "Name: 0, dtype: object"
      ]
     },
     "execution_count": 231,
     "metadata": {},
     "output_type": "execute_result"
    }
   ],
   "source": [
    "df_temp.iloc[0]"
   ]
  },
  {
   "cell_type": "code",
   "execution_count": null,
   "id": "banner-subcommittee",
   "metadata": {},
   "outputs": [],
   "source": []
  },
  {
   "cell_type": "code",
   "execution_count": null,
   "id": "recreational-challenge",
   "metadata": {},
   "outputs": [],
   "source": []
  },
  {
   "cell_type": "code",
   "execution_count": null,
   "id": "ongoing-robertson",
   "metadata": {},
   "outputs": [],
   "source": []
  },
  {
   "cell_type": "code",
   "execution_count": null,
   "id": "digital-trader",
   "metadata": {},
   "outputs": [],
   "source": []
  },
  {
   "cell_type": "code",
   "execution_count": null,
   "id": "drawn-blame",
   "metadata": {},
   "outputs": [],
   "source": []
  }
 ],
 "metadata": {
  "kernelspec": {
   "display_name": "Python 3",
   "language": "python",
   "name": "python3"
  },
  "language_info": {
   "codemirror_mode": {
    "name": "ipython",
    "version": 3
   },
   "file_extension": ".py",
   "mimetype": "text/x-python",
   "name": "python",
   "nbconvert_exporter": "python",
   "pygments_lexer": "ipython3",
   "version": "3.7.3"
  }
 },
 "nbformat": 4,
 "nbformat_minor": 5
}
