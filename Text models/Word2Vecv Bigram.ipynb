{
 "cells": [
  {
   "cell_type": "code",
   "execution_count": 3,
   "id": "posted-logging",
   "metadata": {},
   "outputs": [],
   "source": [
    "corpus = pd.read_csv('processed_Dtrain_4f.csv')"
   ]
  },
  {
   "cell_type": "code",
   "execution_count": 4,
   "id": "hungry-toronto",
   "metadata": {},
   "outputs": [],
   "source": [
    "corpus['title'] = [ '' if x is np.NaN else x for x in corpus['title'] ]\n",
    "corpus['match_title'] = [ '' if x is np.NaN else x for x in corpus['match_title'] ]\n",
    "corpus['description'] = [ '' if x is np.NaN else x for x in corpus['description'] ]\n",
    "corpus['match_description'] = [ '' if x is np.NaN else x for x in corpus['match_description'] ]\n",
    "corpus['color'] = [ '' if x is np.NaN else x for x in corpus['color'] ]"
   ]
  },
  {
   "cell_type": "code",
   "execution_count": 5,
   "id": "ahead-bedroom",
   "metadata": {},
   "outputs": [
    {
     "name": "stderr",
     "output_type": "stream",
     "text": [
      "C:\\Users\\Akshay\\.conda\\envs\\pytorchenv\\lib\\site-packages\\sklearn\\utils\\validation.py:37: DeprecationWarning: distutils Version classes are deprecated. Use packaging.version instead.\n",
      "  LARGE_SPARSE_SUPPORTED = LooseVersion(scipy_version) >= '0.14.0'\n"
     ]
    }
   ],
   "source": [
    "import nltk\n",
    "from nltk.tokenize import word_tokenize\n",
    "\n",
    "corpus['title'] = corpus.apply(lambda row: nltk.word_tokenize(row['title']), axis=1)\n",
    "corpus['match_title'] = corpus.apply(lambda row: nltk.word_tokenize(row['match_title']), axis=1)\n",
    "corpus['description'] = corpus.apply(lambda row: nltk.word_tokenize(row['description']), axis=1)\n",
    "corpus['match_description'] = corpus.apply(lambda row: nltk.word_tokenize(row['match_description']), axis=1)\n",
    "corpus['color'] = corpus.apply(lambda row: nltk.word_tokenize(row['color']), axis=1)"
   ]
  },
  {
   "cell_type": "code",
   "execution_count": 16,
   "id": "attached-crash",
   "metadata": {},
   "outputs": [],
   "source": [
    "sentences = []\n",
    "for row in corpus['title']:\n",
    "    sentences.append(list(row))\n",
    "    \n",
    "for row in corpus['match_title']:\n",
    "    sentences.append(list(row))\n",
    "\n",
    "for row in corpus['description']:\n",
    "    sentences.append(list(row))\n",
    "    \n",
    "for row in corpus['match_description']:\n",
    "    sentences.append(list(row))\n",
    "    \n",
    "for row in corpus['color']:\n",
    "    sentences.append(list(row))"
   ]
  },
  {
   "cell_type": "code",
   "execution_count": 19,
   "id": "vertical-white",
   "metadata": {},
   "outputs": [
    {
     "data": {
      "text/plain": [
       "(830804105, 982184550)"
      ]
     },
     "execution_count": 19,
     "metadata": {},
     "output_type": "execute_result"
    }
   ],
   "source": [
    "from gensim.models import Word2Vec\n",
    "model = Word2Vec(sentences, min_count=1, size=100, workers=10, window=9, iter=30)\n",
    "model.train(sentences, total_examples=len(sentences), epochs=30)"
   ]
  },
  {
   "cell_type": "code",
   "execution_count": 20,
   "id": "major-sense",
   "metadata": {},
   "outputs": [
    {
     "data": {
      "text/plain": [
       "89813"
      ]
     },
     "execution_count": 20,
     "metadata": {},
     "output_type": "execute_result"
    }
   ],
   "source": [
    "len(model.wv.vocab)"
   ]
  },
  {
   "cell_type": "code",
   "execution_count": null,
   "id": "bacterial-harris",
   "metadata": {},
   "outputs": [],
   "source": []
  },
  {
   "cell_type": "code",
   "execution_count": 49,
   "id": "lovely-charleston",
   "metadata": {},
   "outputs": [
    {
     "data": {
      "text/plain": [
       "0.4326774"
      ]
     },
     "execution_count": 49,
     "metadata": {},
     "output_type": "execute_result"
    }
   ],
   "source": [
    "model.wv.similarity(w1=\"jacket\", w2=\"coat\")"
   ]
  },
  {
   "cell_type": "code",
   "execution_count": 50,
   "id": "running-response",
   "metadata": {},
   "outputs": [],
   "source": [
    "model.save(\"word2vec_100d_w9_m1.model\")"
   ]
  },
  {
   "cell_type": "code",
   "execution_count": null,
   "id": "strange-advantage",
   "metadata": {},
   "outputs": [],
   "source": [
    "model = Word2Vec.load(\"word2vec_100d_w9_m1.model\")"
   ]
  },
  {
   "cell_type": "code",
   "execution_count": null,
   "id": "sufficient-victim",
   "metadata": {},
   "outputs": [],
   "source": [
    "# can continue the training after loading\n",
    "model.train(text, total_examples=len(text), epochs=30)"
   ]
  },
  {
   "cell_type": "code",
   "execution_count": null,
   "id": "religious-symphony",
   "metadata": {},
   "outputs": [],
   "source": [
    "## Keep only the keyed vectors\n",
    "from gensim.models import KeyedVectors\n",
    "\n",
    "# Store just the words + their trained embeddings.\n",
    "word_vectors = model.wv\n",
    "\n",
    "word_vectors.save(\"word2vec_100d_w9_m1.wordvectors\")"
   ]
  },
  {
   "cell_type": "code",
   "execution_count": null,
   "id": "going-turning",
   "metadata": {},
   "outputs": [],
   "source": [
    "wv = KeyedVectors.load(\"word2vec.wordvectors\", mmap='r')  ##  Load back with memory-mapping = read-only, shared across processes"
   ]
  },
  {
   "cell_type": "code",
   "execution_count": null,
   "id": "delayed-horror",
   "metadata": {},
   "outputs": [],
   "source": [
    "vector = wv['computer']  ## numpy array of word representation"
   ]
  },
  {
   "cell_type": "markdown",
   "id": "liquid-potential",
   "metadata": {},
   "source": [
    "### Using bi/tri-grams"
   ]
  },
  {
   "cell_type": "code",
   "execution_count": 57,
   "id": "fewer-quebec",
   "metadata": {},
   "outputs": [],
   "source": [
    "from gensim.test.utils import common_texts\n",
    "from gensim.models.phrases import Phraser, Phrases"
   ]
  },
  {
   "cell_type": "code",
   "execution_count": 58,
   "id": "listed-survey",
   "metadata": {},
   "outputs": [],
   "source": [
    "common_terms = [\"of\", \"with\", \"without\", \"and\", \"or\", \"the\", \"a\"]"
   ]
  },
  {
   "cell_type": "code",
   "execution_count": 59,
   "id": "faced-virtue",
   "metadata": {},
   "outputs": [],
   "source": [
    "phrases = Phrases(sentences, common_terms=common_terms)"
   ]
  },
  {
   "cell_type": "code",
   "execution_count": 61,
   "id": "varied-entrepreneur",
   "metadata": {},
   "outputs": [],
   "source": [
    "bigram = Phraser(phrases)\n",
    "# Applying the Phraser to transform the sentences\n",
    "\n",
    "all_sentences = list(bigram[sentences])"
   ]
  },
  {
   "cell_type": "code",
   "execution_count": 68,
   "id": "inclusive-regular",
   "metadata": {},
   "outputs": [
    {
     "name": "stdout",
     "output_type": "stream",
     "text": [
      "[['theory', 'silk', 'shell', 'top', 'ivory', 'small'], ['chantelle_lingerie', 'c_magnifique', 'seamless_unlined', 'minimizer_bra', 'ivory', 'd'], ['rag_and_bone', 'rag_and_bone', 'shiloh_combat', 'boot', 'women', 'black', 'us_eu'], ['bixbee', 'kitty', 'water_resistant', 'lunchbox', 'kids', 'pink', 'little', 'girl', 'one', 'size']]\n"
     ]
    }
   ],
   "source": [
    "print(all_sentences[0:4])"
   ]
  },
  {
   "cell_type": "code",
   "execution_count": 69,
   "id": "extreme-practitioner",
   "metadata": {},
   "outputs": [],
   "source": [
    "model = Word2Vec(all_sentences, min_count=1, size=100, workers=10, window=9, iter=30)"
   ]
  },
  {
   "cell_type": "code",
   "execution_count": 70,
   "id": "wired-hazard",
   "metadata": {},
   "outputs": [
    {
     "data": {
      "text/plain": [
       "155890"
      ]
     },
     "execution_count": 70,
     "metadata": {},
     "output_type": "execute_result"
    }
   ],
   "source": [
    "len(model.wv.vocab)"
   ]
  },
  {
   "cell_type": "code",
   "execution_count": 71,
   "id": "compound-tokyo",
   "metadata": {},
   "outputs": [
    {
     "data": {
      "text/plain": [
       "[('vest', 0.8414103984832764),\n",
       " ('puffer_jacket', 0.8032879829406738),\n",
       " ('hooded_jacket', 0.7713438272476196),\n",
       " ('bomber_jacket', 0.7536059617996216),\n",
       " ('parka', 0.7470496296882629),\n",
       " ('pullover', 0.7201358079910278),\n",
       " ('puffer_coat', 0.7167128324508667),\n",
       " ('moto_jacket', 0.7034924030303955),\n",
       " ('blazer', 0.6968516111373901),\n",
       " ('hoodie', 0.6951203346252441)]"
      ]
     },
     "execution_count": 71,
     "metadata": {},
     "output_type": "execute_result"
    }
   ],
   "source": [
    "w1 = \"jacket\"\n",
    "model.wv.most_similar (positive=w1)"
   ]
  },
  {
   "cell_type": "code",
   "execution_count": 73,
   "id": "naughty-blade",
   "metadata": {},
   "outputs": [
    {
     "data": {
      "text/plain": [
       "[('sneakers', 0.8113594651222229),\n",
       " ('skate_sneaker', 0.7122155427932739),\n",
       " ('sandal', 0.69430011510849),\n",
       " ('shoe', 0.6915507912635803),\n",
       " ('loafer', 0.6749390363693237),\n",
       " ('bootie', 0.6669821739196777),\n",
       " ('slide_sandal', 0.6624940037727356),\n",
       " ('chukka_boot', 0.657331109046936),\n",
       " ('chelsea_boot', 0.6558271050453186),\n",
       " ('penny_loafer', 0.6452958583831787)]"
      ]
     },
     "execution_count": 73,
     "metadata": {},
     "output_type": "execute_result"
    }
   ],
   "source": [
    "w1 = \"sneaker\"\n",
    "model.wv.most_similar (positive=w1)"
   ]
  },
  {
   "cell_type": "code",
   "execution_count": 74,
   "id": "nervous-cassette",
   "metadata": {},
   "outputs": [
    {
     "data": {
      "text/plain": [
       "[('toys', 0.5307013988494873),\n",
       " ('slumber_party', 0.5143265128135681),\n",
       " ('haba', 0.5070329308509827),\n",
       " ('treasures', 0.5022159814834595),\n",
       " ('bread', 0.49973830580711365),\n",
       " ('tent', 0.47690239548683167),\n",
       " ('food', 0.4768628776073456),\n",
       " ('rounds', 0.47323548793792725),\n",
       " ('dated', 0.4720858037471771),\n",
       " ('snacks', 0.47205406427383423)]"
      ]
     },
     "execution_count": 74,
     "metadata": {},
     "output_type": "execute_result"
    }
   ],
   "source": [
    "w1 = \"mobile\"\n",
    "model.wv.most_similar (positive=w1)"
   ]
  },
  {
   "cell_type": "code",
   "execution_count": 75,
   "id": "novel-belgium",
   "metadata": {},
   "outputs": [
    {
     "data": {
      "text/plain": [
       "[('art_of_snuggling', 0.6209218502044678),\n",
       " ('couch', 0.5328214764595032),\n",
       " ('streets', 0.5016711354255676),\n",
       " ('dance_floor', 0.497308611869812),\n",
       " ('slip', 0.47887173295021057),\n",
       " ('playground', 0.47370895743370056),\n",
       " ('train', 0.4679719805717468),\n",
       " ('dancing', 0.4669616222381592),\n",
       " ('spent_strolling', 0.4664900004863739),\n",
       " ('strolls', 0.46017828583717346)]"
      ]
     },
     "execution_count": 75,
     "metadata": {},
     "output_type": "execute_result"
    }
   ],
   "source": [
    "w1 = \"sofa\"\n",
    "model.wv.most_similar (positive=w1)"
   ]
  },
  {
   "cell_type": "code",
   "execution_count": 76,
   "id": "sublime-wages",
   "metadata": {},
   "outputs": [
    {
     "data": {
      "text/plain": [
       "[('wireless_charger', 0.6164489984512329),\n",
       " ('lighted_mirror', 0.5695508718490601),\n",
       " ('yamazaki', 0.5508852005004883),\n",
       " ('handheld', 0.5495825409889221),\n",
       " ('cup_holder', 0.546811580657959),\n",
       " ('globber', 0.5454453825950623),\n",
       " ('replacement', 0.5391978025436401),\n",
       " ('bluetooth®', 0.5381673574447632),\n",
       " ('steamer', 0.5283958911895752),\n",
       " ('helmet_audio', 0.5282614231109619)]"
      ]
     },
     "execution_count": 76,
     "metadata": {},
     "output_type": "execute_result"
    }
   ],
   "source": [
    "w1 = \"charger\"\n",
    "model.wv.most_similar (positive=w1)"
   ]
  },
  {
   "cell_type": "code",
   "execution_count": 78,
   "id": "impressed-resort",
   "metadata": {},
   "outputs": [
    {
     "data": {
      "text/plain": [
       "0.45173284"
      ]
     },
     "execution_count": 78,
     "metadata": {},
     "output_type": "execute_result"
    }
   ],
   "source": [
    "model.wv.similarity(w1=\"jacket\", w2=\"coat\")"
   ]
  },
  {
   "cell_type": "code",
   "execution_count": null,
   "id": "vertical-romance",
   "metadata": {},
   "outputs": [],
   "source": []
  }
 ],
 "metadata": {
  "kernelspec": {
   "display_name": "Python 3",
   "language": "python",
   "name": "python3"
  },
  "language_info": {
   "codemirror_mode": {
    "name": "ipython",
    "version": 3
   },
   "file_extension": ".py",
   "mimetype": "text/x-python",
   "name": "python",
   "nbconvert_exporter": "python",
   "pygments_lexer": "ipython3",
   "version": "3.7.3"
  }
 },
 "nbformat": 4,
 "nbformat_minor": 5
}
