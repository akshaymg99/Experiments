{
 "cells": [
  {
   "cell_type": "markdown",
   "id": "divided-parcel",
   "metadata": {},
   "source": [
    "### testing with random vectors"
   ]
  },
  {
   "cell_type": "code",
   "execution_count": 1,
   "id": "received-tyler",
   "metadata": {},
   "outputs": [],
   "source": [
    "import faiss\n",
    "import numpy as np"
   ]
  },
  {
   "cell_type": "code",
   "execution_count": 67,
   "id": "finnish-cliff",
   "metadata": {},
   "outputs": [],
   "source": [
    "d = 64                           # dimension\n",
    "nb = 100000                      # database size\n",
    "nq = 100                         # nb of queries\n",
    "np.random.seed(1234)             # make reproducible\n",
    "xb = np.random.random((nb, d)).astype('float32')\n",
    "xb[:, 0] += np.arange(nb) / 1000.\n",
    "xq = np.random.random((nq, d)).astype('float32')\n",
    "xq[:, 0] += np.arange(nq) / 1000."
   ]
  },
  {
   "cell_type": "code",
   "execution_count": 68,
   "id": "usual-jungle",
   "metadata": {},
   "outputs": [
    {
     "name": "stdout",
     "output_type": "stream",
     "text": [
      "True\n",
      "100000\n"
     ]
    }
   ],
   "source": [
    "index = faiss.IndexFlatL2(d)   # build the index    # brute-force L2 distance search\n",
    "print(index.is_trained)\n",
    "index.add(xb)                  # add vectors to the index\n",
    "print(index.ntotal)"
   ]
  },
  {
   "cell_type": "code",
   "execution_count": 69,
   "id": "harmful-housing",
   "metadata": {},
   "outputs": [
    {
     "name": "stdout",
     "output_type": "stream",
     "text": [
      "[[  0 393 363  78]\n",
      " [  1 555 277 364]\n",
      " [  2 304 101  13]\n",
      " [  3 173  18 182]\n",
      " [  4 288 370 531]]\n",
      "[[0.        7.1751738 7.20763   7.2511625]\n",
      " [0.        6.3235645 6.684581  6.799946 ]\n",
      " [0.        5.7964087 6.391736  7.2815123]\n",
      " [0.        7.2779055 7.527987  7.6628466]\n",
      " [0.        6.7638035 7.2951202 7.3688145]]\n"
     ]
    }
   ],
   "source": [
    "k = 4                          # we want to see 4 nearest neighbors\n",
    "D, I = index.search(xb[:5], k) # sanity check\n",
    "print(I)\n",
    "print(D)"
   ]
  },
  {
   "cell_type": "code",
   "execution_count": 70,
   "id": "aquatic-helmet",
   "metadata": {},
   "outputs": [
    {
     "name": "stdout",
     "output_type": "stream",
     "text": [
      "[[ 381  207  210  477]\n",
      " [ 526  911  142   72]\n",
      " [ 838  527 1290  425]\n",
      " [ 196  184  164  359]\n",
      " [ 526  377  120  425]]\n",
      "[[ 801  781  933  385]\n",
      " [1073  786 1076  381]\n",
      " [ 549  244  100 1008]\n",
      " [ 917  140  965   68]\n",
      " [ 511  789  225  781]]\n"
     ]
    }
   ],
   "source": [
    "D, I = index.search(xq, k)     # actual search\n",
    "print(I[:5])                   # neighbors of the 5 first queries\n",
    "print(I[-5:])                  # neighbors of the 5 last queries"
   ]
  },
  {
   "cell_type": "code",
   "execution_count": 26,
   "id": "hearing-delta",
   "metadata": {},
   "outputs": [
    {
     "data": {
      "text/plain": [
       "array([[6.815506 , 6.8894653, 7.3956795, 7.4290257],\n",
       "       [6.6041107, 6.6796913, 6.7209625, 6.828682 ],\n",
       "       [6.4703865, 6.8578568, 7.0043793, 7.036564 ],\n",
       "       ...,\n",
       "       [6.072693 , 6.5767517, 6.6139526, 6.7323   ],\n",
       "       [6.637512 , 6.6487427, 6.8578796, 7.0096436],\n",
       "       [6.218384 , 6.4525146, 6.5487823, 6.581299 ]], dtype=float32)"
      ]
     },
     "execution_count": 26,
     "metadata": {},
     "output_type": "execute_result"
    }
   ],
   "source": [
    "D"
   ]
  },
  {
   "cell_type": "code",
   "execution_count": 31,
   "id": "connected-leonard",
   "metadata": {},
   "outputs": [
    {
     "data": {
      "text/plain": [
       "(10000, 4)"
      ]
     },
     "execution_count": 31,
     "metadata": {},
     "output_type": "execute_result"
    }
   ],
   "source": [
    "I.shape"
   ]
  },
  {
   "cell_type": "code",
   "execution_count": 32,
   "id": "worthy-hello",
   "metadata": {},
   "outputs": [
    {
     "data": {
      "text/plain": [
       "(10000, 4)"
      ]
     },
     "execution_count": 32,
     "metadata": {},
     "output_type": "execute_result"
    }
   ],
   "source": [
    "D.shape"
   ]
  },
  {
   "cell_type": "code",
   "execution_count": null,
   "id": "foreign-navigator",
   "metadata": {},
   "outputs": [],
   "source": []
  },
  {
   "cell_type": "markdown",
   "id": "altered-bunch",
   "metadata": {},
   "source": [
    "## with own vectors"
   ]
  },
  {
   "cell_type": "code",
   "execution_count": 34,
   "id": "fitted-terminology",
   "metadata": {},
   "outputs": [],
   "source": [
    "d = 3\n",
    "nb = 10\n",
    "nq = 3"
   ]
  },
  {
   "cell_type": "code",
   "execution_count": 57,
   "id": "certain-foundation",
   "metadata": {},
   "outputs": [],
   "source": [
    "xb = [[0, 0, 0], [1, 2, 3], [1, 2, 2], [1, 2, 4], [3, 4, 5], [6, 7, 8], [1, 0, 0], [4, 2, 1], [3, 5, 6], [2, 4, 6]]\n",
    "xq = [[1, 2, 3], [0, 0, 1], [4, 5, 6]]\n",
    "xb = np.array(xb, dtype=np.float32)\n",
    "xq = np.array(xq, dtype=np.float32)"
   ]
  },
  {
   "cell_type": "code",
   "execution_count": 58,
   "id": "confirmed-leone",
   "metadata": {},
   "outputs": [
    {
     "name": "stdout",
     "output_type": "stream",
     "text": [
      "True\n",
      "10\n"
     ]
    }
   ],
   "source": [
    "index = faiss.IndexFlatL2(d)\n",
    "print(index.is_trained)\n",
    "index.add(xb)\n",
    "print(index.ntotal)"
   ]
  },
  {
   "cell_type": "code",
   "execution_count": 61,
   "id": "embedded-pasta",
   "metadata": {},
   "outputs": [
    {
     "name": "stdout",
     "output_type": "stream",
     "text": [
      "[[1 2 3 4]\n",
      " [0 6 2 1]]\n",
      "[[0 6 2 1]\n",
      " [8 4 9 5]]\n"
     ]
    }
   ],
   "source": [
    "D, I = index.search(xq, k)     # actual search\n",
    "print(I[:2])                   # neighbors of the 5 first queries\n",
    "print(I[-2:])                  # neighbors of the 5 last queries"
   ]
  },
  {
   "cell_type": "code",
   "execution_count": 62,
   "id": "essential-bunch",
   "metadata": {},
   "outputs": [
    {
     "data": {
      "text/plain": [
       "array([[ 0.,  1.,  1., 12.],\n",
       "       [ 1.,  2.,  6.,  9.],\n",
       "       [ 1.,  3.,  5., 12.]], dtype=float32)"
      ]
     },
     "execution_count": 62,
     "metadata": {},
     "output_type": "execute_result"
    }
   ],
   "source": [
    "D"
   ]
  },
  {
   "cell_type": "markdown",
   "id": "brutal-marijuana",
   "metadata": {},
   "source": [
    "## with simple word embeddings"
   ]
  },
  {
   "cell_type": "code",
   "execution_count": null,
   "id": "third-murray",
   "metadata": {},
   "outputs": [],
   "source": []
  },
  {
   "cell_type": "code",
   "execution_count": 73,
   "id": "conventional-insurance",
   "metadata": {},
   "outputs": [],
   "source": []
  },
  {
   "cell_type": "code",
   "execution_count": null,
   "id": "laden-victorian",
   "metadata": {},
   "outputs": [],
   "source": []
  },
  {
   "cell_type": "code",
   "execution_count": null,
   "id": "attached-sodium",
   "metadata": {},
   "outputs": [],
   "source": []
  },
  {
   "cell_type": "code",
   "execution_count": null,
   "id": "operational-newport",
   "metadata": {},
   "outputs": [],
   "source": []
  },
  {
   "cell_type": "code",
   "execution_count": null,
   "id": "painful-tonight",
   "metadata": {},
   "outputs": [],
   "source": []
  }
 ],
 "metadata": {
  "kernelspec": {
   "display_name": "Python 3",
   "language": "python",
   "name": "python3"
  },
  "language_info": {
   "codemirror_mode": {
    "name": "ipython",
    "version": 3
   },
   "file_extension": ".py",
   "mimetype": "text/x-python",
   "name": "python",
   "nbconvert_exporter": "python",
   "pygments_lexer": "ipython3",
   "version": "3.7.3"
  }
 },
 "nbformat": 4,
 "nbformat_minor": 5
}
