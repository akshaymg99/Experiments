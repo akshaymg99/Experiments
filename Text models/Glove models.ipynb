{
 "cells": [
  {
   "cell_type": "code",
   "execution_count": null,
   "id": "conditional-tulsa",
   "metadata": {},
   "outputs": [],
   "source": [
    "!pip install glove_python"
   ]
  },
  {
   "cell_type": "code",
   "execution_count": null,
   "id": "streaming-victorian",
   "metadata": {},
   "outputs": [],
   "source": [
    "from glove import Corpus, Glove"
   ]
  },
  {
   "cell_type": "code",
   "execution_count": null,
   "id": "suitable-aquarium",
   "metadata": {},
   "outputs": [],
   "source": [
    "### read our custom data "
   ]
  },
  {
   "cell_type": "code",
   "execution_count": 13,
   "id": "finished-frontier",
   "metadata": {},
   "outputs": [],
   "source": [
    "corpus = pd.read_csv('processed_Dtrain_4f.csv')"
   ]
  },
  {
   "cell_type": "code",
   "execution_count": 14,
   "id": "atlantic-depression",
   "metadata": {},
   "outputs": [],
   "source": [
    "corpus['title'] = [ '' if x is np.NaN else x for x in corpus['title'] ]\n",
    "corpus['match_title'] = [ '' if x is np.NaN else x for x in corpus['match_title'] ]\n",
    "corpus['description'] = [ '' if x is np.NaN else x for x in corpus['description'] ]\n",
    "corpus['match_description'] = [ '' if x is np.NaN else x for x in corpus['match_description'] ]\n",
    "corpus['color'] = [ '' if x is np.NaN else x for x in corpus['color'] ]"
   ]
  },
  {
   "cell_type": "code",
   "execution_count": 15,
   "id": "phantom-pierce",
   "metadata": {},
   "outputs": [
    {
     "name": "stderr",
     "output_type": "stream",
     "text": [
      "C:\\Users\\Akshay\\.conda\\envs\\pytorchenv\\lib\\site-packages\\sklearn\\utils\\validation.py:37: DeprecationWarning: distutils Version classes are deprecated. Use packaging.version instead.\n",
      "  LARGE_SPARSE_SUPPORTED = LooseVersion(scipy_version) >= '0.14.0'\n"
     ]
    }
   ],
   "source": [
    "import nltk\n",
    "from nltk.tokenize import word_tokenize\n",
    "\n",
    "corpus['title'] = corpus.apply(lambda row: nltk.word_tokenize(row['title']), axis=1)\n",
    "corpus['match_title'] = corpus.apply(lambda row: nltk.word_tokenize(row['match_title']), axis=1)\n",
    "corpus['description'] = corpus.apply(lambda row: nltk.word_tokenize(row['description']), axis=1)\n",
    "corpus['match_description'] = corpus.apply(lambda row: nltk.word_tokenize(row['match_description']), axis=1)\n",
    "corpus['color'] = corpus.apply(lambda row: nltk.word_tokenize(row['color']), axis=1)"
   ]
  },
  {
   "cell_type": "code",
   "execution_count": 16,
   "id": "pressing-contributor",
   "metadata": {},
   "outputs": [],
   "source": [
    "sentences = []\n",
    "for row in corpus['title']:\n",
    "    sentences.append(list(row))\n",
    "    \n",
    "for row in corpus['match_title']:\n",
    "    sentences.append(list(row))\n",
    "\n",
    "for row in corpus['description']:\n",
    "    sentences.append(list(row))\n",
    "    \n",
    "for row in corpus['match_description']:\n",
    "    sentences.append(list(row))\n",
    "    \n",
    "for row in corpus['color']:\n",
    "    sentences.append(list(row))"
   ]
  },
  {
   "cell_type": "code",
   "execution_count": null,
   "id": "bibliographic-confirmation",
   "metadata": {},
   "outputs": [],
   "source": []
  },
  {
   "cell_type": "markdown",
   "id": "advance-norfolk",
   "metadata": {},
   "source": [
    "### Training Glove on custom data + using pre-trained model as base"
   ]
  },
  {
   "cell_type": "code",
   "execution_count": 5,
   "id": "critical-jason",
   "metadata": {},
   "outputs": [],
   "source": [
    "from gensim.scripts.glove2word2vec import glove2word2vec\n",
    "import numpy as np\n",
    "from gensim.test.utils import get_tmpfile"
   ]
  },
  {
   "cell_type": "code",
   "execution_count": 10,
   "id": "social-membership",
   "metadata": {},
   "outputs": [],
   "source": [
    "from gensim.models import KeyedVectors\n",
    "from gensim.models import Word2Vec"
   ]
  },
  {
   "cell_type": "code",
   "execution_count": null,
   "id": "crazy-martin",
   "metadata": {},
   "outputs": [],
   "source": [
    "root_folder='.'\n",
    "data_folder_name='data'\n",
    "glove_filename='glove.6B.100d.txt'\n",
    "word2vec_output_file = glove_filename+'.word2vec'"
   ]
  },
  {
   "cell_type": "code",
   "execution_count": 3,
   "id": "rational-workplace",
   "metadata": {},
   "outputs": [],
   "source": [
    "glove_file = './glove.6B.100d.txt'"
   ]
  },
  {
   "cell_type": "code",
   "execution_count": 8,
   "id": "younger-listing",
   "metadata": {},
   "outputs": [],
   "source": [
    "tmp_file = get_tmpfile(\"test_word2vec.txt\")\n",
    "\n",
    "_ = glove2word2vec(glove_file, tmp_file)\n",
    "\n",
    "glove_vectors = KeyedVectors.load_word2vec_format(tmp_file)"
   ]
  },
  {
   "cell_type": "code",
   "execution_count": 18,
   "id": "incorporate-dynamics",
   "metadata": {},
   "outputs": [],
   "source": [
    "# build a word2vec model on your dataset \n",
    "\n",
    "base_model = Word2Vec(size=200, min_count=1)\n",
    "base_model.build_vocab(sentences)  ## our custom dataset\n",
    "total_examples = base_model.corpus_count"
   ]
  },
  {
   "cell_type": "code",
   "execution_count": 20,
   "id": "unique-lawsuit",
   "metadata": {},
   "outputs": [],
   "source": [
    "# add GloVe's vocabulary & weights\n",
    "base_model.build_vocab([list(glove_vectors.vocab.keys())], update=True)\n",
    "\n",
    "# train on your data\n",
    "base_model.train(sentences, total_examples=total_examples, epochs=base_model.epochs)\n",
    "base_model_wv = base_model.wv"
   ]
  },
  {
   "cell_type": "code",
   "execution_count": 26,
   "id": "indonesian-lexington",
   "metadata": {},
   "outputs": [
    {
     "data": {
      "text/plain": [
       "451771"
      ]
     },
     "execution_count": 26,
     "metadata": {},
     "output_type": "execute_result"
    }
   ],
   "source": [
    "len(base_model_wv.vocab)"
   ]
  },
  {
   "cell_type": "code",
   "execution_count": 33,
   "id": "motivated-vegetation",
   "metadata": {},
   "outputs": [
    {
     "data": {
      "text/plain": [
       "[('sneaker', 0.6576837301254272),\n",
       " ('shoes', 0.6188355684280396),\n",
       " ('loafer', 0.6098387241363525),\n",
       " ('sandal', 0.589873731136322),\n",
       " ('mule', 0.5402063131332397),\n",
       " ('bootie', 0.5333376526832581),\n",
       " ('derby', 0.5296701192855835),\n",
       " ('boot', 0.5198146104812622),\n",
       " ('sneakers', 0.4869774281978607),\n",
       " ('wingtip', 0.4727979004383087)]"
      ]
     },
     "execution_count": 33,
     "metadata": {},
     "output_type": "execute_result"
    }
   ],
   "source": [
    "base_model_wv.most_similar('shoe')"
   ]
  },
  {
   "cell_type": "code",
   "execution_count": null,
   "id": "unlikely-phone",
   "metadata": {},
   "outputs": [],
   "source": []
  },
  {
   "cell_type": "markdown",
   "id": "physical-sustainability",
   "metadata": {},
   "source": [
    "### Bi-gram / Tri-gram model "
   ]
  },
  {
   "cell_type": "code",
   "execution_count": null,
   "id": "through-breakfast",
   "metadata": {},
   "outputs": [],
   "source": [
    "# bi-grams\n",
    "bigram = Phrases(sentences, min_count=min_count, threshold=threshold, \n",
    "                   delimiter=b' ')\n",
    "bigram_phraser = Phraser(bigram)\n",
    "\n",
    "bigramed_tokens = []\n",
    "for sent in cleaned:\n",
    "    tokens = bigram_phraser[sent]\n",
    "    bigramed_tokens.append(tokens)"
   ]
  },
  {
   "cell_type": "code",
   "execution_count": null,
   "id": "roman-hypothesis",
   "metadata": {},
   "outputs": [],
   "source": [
    "## Tri-grams\n",
    "trigram = Phrases(bigramed_tokens, min_count=min_count, threshold=threshold, \n",
    "                    delimiter=b' ')\n",
    "trigram_phraser = Phraser(trigram)\n",
    "\n",
    "trigramed_tokens = []\n",
    "for sent in bigramed_tokens:\n",
    "    tokens = trigram_phraser[sent]\n",
    "    trigramed_tokens.append(tokens)"
   ]
  },
  {
   "cell_type": "code",
   "execution_count": null,
   "id": "leading-racing",
   "metadata": {},
   "outputs": [],
   "source": [
    "# build a toy model to update with\n",
    "model = Word2Vec(size=200, min_count=1)\n",
    "model.build_vocab(trigramed_tokens)\n",
    "total_examples = model.corpus_count\n",
    "\n",
    "# add GloVe's vocabulary & weights\n",
    "model.build_vocab([list(glove_vectors.vocab.keys())], update=True)\n",
    "\n",
    "# train on our data\n",
    "model.train(trigramed_tokens, total_examples=total_examples, epochs=model.epochs)\n",
    "model_wv = model.wv"
   ]
  },
  {
   "cell_type": "code",
   "execution_count": null,
   "id": "sublime-archive",
   "metadata": {},
   "outputs": [],
   "source": []
  }
 ],
 "metadata": {
  "kernelspec": {
   "display_name": "Python 3",
   "language": "python",
   "name": "python3"
  },
  "language_info": {
   "codemirror_mode": {
    "name": "ipython",
    "version": 3
   },
   "file_extension": ".py",
   "mimetype": "text/x-python",
   "name": "python",
   "nbconvert_exporter": "python",
   "pygments_lexer": "ipython3",
   "version": "3.7.3"
  }
 },
 "nbformat": 4,
 "nbformat_minor": 5
}
