{
 "cells": [
  {
   "cell_type": "code",
   "execution_count": null,
   "id": "focused-mileage",
   "metadata": {},
   "outputs": [],
   "source": [
    "import numpy as np\n",
    "import pandas as pd\n",
    "from sklearn.model_selection import train_test_split\n",
    "from keras.layers import Dense, Flatten, Reshape, Input, InputLayer\n",
    "from keras.models import Sequential, Model"
   ]
  },
  {
   "cell_type": "code",
   "execution_count": null,
   "id": "electoral-banner",
   "metadata": {},
   "outputs": [],
   "source": [
    "import matplotlib.pyplot as plt\n",
    "from keras import layers\n",
    "import keras"
   ]
  },
  {
   "cell_type": "code",
   "execution_count": 1,
   "id": "hundred-arthur",
   "metadata": {},
   "outputs": [],
   "source": [
    "from sentence_transformers import SentenceTransformer\n",
    "from sentence_transformers import util"
   ]
  },
  {
   "cell_type": "code",
   "execution_count": 2,
   "id": "inclusive-reference",
   "metadata": {},
   "outputs": [],
   "source": [
    "model_s = SentenceTransformer('all-mpnet-base-v2')"
   ]
  },
  {
   "cell_type": "code",
   "execution_count": 5,
   "id": "earned-direction",
   "metadata": {},
   "outputs": [],
   "source": [
    "emb1 = model_s.encode(\"Jo Malone London™ Dark Amber & Ginger Lily Scented Home Candle NO COLOR  7 oz—\")\n",
    "emb2 = model_s.encode(\"Jo Malone London Dark Amber & Ginger Lily Home Candle\")"
   ]
  },
  {
   "cell_type": "code",
   "execution_count": 6,
   "id": "arabic-aircraft",
   "metadata": {},
   "outputs": [
    {
     "name": "stdout",
     "output_type": "stream",
     "text": [
      "Cos similarity:  tensor([[0.9259]])\n"
     ]
    }
   ],
   "source": [
    "cos_sim = util.cos_sim(emb1, emb2)\n",
    "print(\"Cos similarity: \", cos_sim)"
   ]
  },
  {
   "cell_type": "code",
   "execution_count": null,
   "id": "obvious-adapter",
   "metadata": {},
   "outputs": [],
   "source": []
  },
  {
   "cell_type": "code",
   "execution_count": null,
   "id": "ordinary-moldova",
   "metadata": {},
   "outputs": [],
   "source": []
  },
  {
   "cell_type": "code",
   "execution_count": 7,
   "id": "brave-turkish",
   "metadata": {},
   "outputs": [
    {
     "name": "stderr",
     "output_type": "stream",
     "text": [
      "C:\\Users\\Akshay\\.conda\\envs\\pytorchenv\\lib\\site-packages\\ipykernel_launcher.py:7: FutureWarning: pandas.io.json.json_normalize is deprecated, use pandas.json_normalize instead\n",
      "  import sys\n"
     ]
    }
   ],
   "source": [
    "import json\n",
    "\n",
    "data = []\n",
    "for line in open('data/33318.json', 'r'):\n",
    "    data.append(json.loads(line))\n",
    "    \n",
    "df = pd.io.json.json_normalize(data)"
   ]
  },
  {
   "cell_type": "code",
   "execution_count": 8,
   "id": "numerical-asian",
   "metadata": {},
   "outputs": [],
   "source": [
    "docs = {}\n",
    "\n",
    "for i in range(len(df)):\n",
    "    dp = {}\n",
    "    #dp['index'] = i\n",
    "    dp['seed'] = df['seed_name'][i]  ## query product title\n",
    "    \n",
    "    del_titles = []\n",
    "    active_titles = []\n",
    "    \n",
    "    s = len(df['detailed'][i])\n",
    "    for l in range(s):\n",
    "        if df['detailed'][i][l]['status'] == 'deleted':\n",
    "            del_titles.append(df['detailed'][i][l]['title'])   ## title of deleted prod\n",
    "            \n",
    "        if df['detailed'][i][l]['status'] == 'active':\n",
    "            active_titles.append(df['detailed'][i][l]['title'])  ## title of accepted prod\n",
    "    \n",
    "    dp['active_titles'] = active_titles\n",
    "    dp['deleted_titles'] = del_titles\n",
    "    \n",
    "    docs[i] = dp"
   ]
  },
  {
   "cell_type": "code",
   "execution_count": 9,
   "id": "interracial-compatibility",
   "metadata": {},
   "outputs": [
    {
     "data": {
      "text/html": [
       "<div>\n",
       "<style scoped>\n",
       "    .dataframe tbody tr th:only-of-type {\n",
       "        vertical-align: middle;\n",
       "    }\n",
       "\n",
       "    .dataframe tbody tr th {\n",
       "        vertical-align: top;\n",
       "    }\n",
       "\n",
       "    .dataframe thead th {\n",
       "        text-align: right;\n",
       "    }\n",
       "</style>\n",
       "<table border=\"1\" class=\"dataframe\">\n",
       "  <thead>\n",
       "    <tr style=\"text-align: right;\">\n",
       "      <th></th>\n",
       "      <th>seed</th>\n",
       "      <th>active_titles</th>\n",
       "      <th>deleted_titles</th>\n",
       "    </tr>\n",
       "  </thead>\n",
       "  <tbody>\n",
       "    <tr>\n",
       "      <th>0</th>\n",
       "      <td>Clarks Desert Trek Black Suede 1</td>\n",
       "      <td>[Clarks Desert Trek Black Suede 1]</td>\n",
       "      <td>[, 883956040685, (DARK WOOD/DARK JAVA) [8.5]---]</td>\n",
       "    </tr>\n",
       "    <tr>\n",
       "      <th>1</th>\n",
       "      <td>Haflinger GZ Classic Grizzly Bordo</td>\n",
       "      <td>[Haflinger GZ Classic Grizzly Bordo, Haflinger...</td>\n",
       "      <td>[Mens Birkenstock Zermatt Clog - Mocha Mocha |...</td>\n",
       "    </tr>\n",
       "    <tr>\n",
       "      <th>2</th>\n",
       "      <td>Nike Air Zoom Terra Kiger 7 Limelight/Off-Noir...</td>\n",
       "      <td>[Nike Air Zoom Terra Kiger 7 Limelight/Off-Noi...</td>\n",
       "      <td>[Nike Air Monarch IV Training Shoe - Men's Whi...</td>\n",
       "    </tr>\n",
       "    <tr>\n",
       "      <th>3</th>\n",
       "      <td>adidas Originals Trefoil Tee White/Hazy Rose</td>\n",
       "      <td>[adidas Originals Trefoil Tee White/Hazy Rose]</td>\n",
       "      <td>[Men's adidas Orlando City Away Soccer Jersey\"...</td>\n",
       "    </tr>\n",
       "    <tr>\n",
       "      <th>4</th>\n",
       "      <td>Save the Duck Kids Flee (Little Kids/Big Kids)...</td>\n",
       "      <td>[Save the Duck Kids Flee (Little Kids/Big Kids...</td>\n",
       "      <td>[Save The Duck Randolph Bomber Jacket NAVY BLU...</td>\n",
       "    </tr>\n",
       "  </tbody>\n",
       "</table>\n",
       "</div>"
      ],
      "text/plain": [
       "                                                seed  \\\n",
       "0                   Clarks Desert Trek Black Suede 1   \n",
       "1                 Haflinger GZ Classic Grizzly Bordo   \n",
       "2  Nike Air Zoom Terra Kiger 7 Limelight/Off-Noir...   \n",
       "3       adidas Originals Trefoil Tee White/Hazy Rose   \n",
       "4  Save the Duck Kids Flee (Little Kids/Big Kids)...   \n",
       "\n",
       "                                       active_titles  \\\n",
       "0                 [Clarks Desert Trek Black Suede 1]   \n",
       "1  [Haflinger GZ Classic Grizzly Bordo, Haflinger...   \n",
       "2  [Nike Air Zoom Terra Kiger 7 Limelight/Off-Noi...   \n",
       "3     [adidas Originals Trefoil Tee White/Hazy Rose]   \n",
       "4  [Save the Duck Kids Flee (Little Kids/Big Kids...   \n",
       "\n",
       "                                      deleted_titles  \n",
       "0   [, 883956040685, (DARK WOOD/DARK JAVA) [8.5]---]  \n",
       "1  [Mens Birkenstock Zermatt Clog - Mocha Mocha |...  \n",
       "2  [Nike Air Monarch IV Training Shoe - Men's Whi...  \n",
       "3  [Men's adidas Orlando City Away Soccer Jersey\"...  \n",
       "4  [Save The Duck Randolph Bomber Jacket NAVY BLU...  "
      ]
     },
     "execution_count": 9,
     "metadata": {},
     "output_type": "execute_result"
    }
   ],
   "source": [
    "df_processed = pd.DataFrame(docs.values())\n",
    "df_processed.head()"
   ]
  },
  {
   "cell_type": "code",
   "execution_count": 10,
   "id": "atlantic-circular",
   "metadata": {},
   "outputs": [],
   "source": [
    "df_processed['seed'] = [ '' if x is np.NaN else x for x in df_processed['seed'] ]\n",
    "df_processed['active_titles'] = [ '' if x is np.NaN else x for x in df_processed['active_titles'] ]\n",
    "df_processed['deleted_titles'] = [ '' if x is np.NaN else x for x in df_processed['deleted_titles'] ]"
   ]
  },
  {
   "cell_type": "code",
   "execution_count": 185,
   "id": "driving-omaha",
   "metadata": {},
   "outputs": [
    {
     "data": {
      "text/plain": [
       "17000"
      ]
     },
     "execution_count": 185,
     "metadata": {},
     "output_type": "execute_result"
    }
   ],
   "source": [
    "seeds = []\n",
    "for row in df_processed['seed']:\n",
    "    if len(row) != 0:\n",
    "        seeds.append(row)\n",
    "    \n",
    "len(seeds)"
   ]
  },
  {
   "cell_type": "code",
   "execution_count": 186,
   "id": "perceived-america",
   "metadata": {},
   "outputs": [
    {
     "data": {
      "text/plain": [
       "17000"
      ]
     },
     "execution_count": 186,
     "metadata": {},
     "output_type": "execute_result"
    }
   ],
   "source": [
    "active_titles = []\n",
    "for row in df_processed['active_titles']:\n",
    "    if len(row) != 0:\n",
    "        active_titles.append(row[0])\n",
    "    \n",
    "len(active_titles)"
   ]
  },
  {
   "cell_type": "code",
   "execution_count": 187,
   "id": "indoor-technique",
   "metadata": {},
   "outputs": [
    {
     "data": {
      "text/plain": [
       "15888"
      ]
     },
     "execution_count": 187,
     "metadata": {},
     "output_type": "execute_result"
    }
   ],
   "source": [
    "deleted_titles = []\n",
    "for row in df_processed['deleted_titles']:\n",
    "    if len(row) != 0: \n",
    "        deleted_titles.append(row[0])\n",
    "    \n",
    "len(deleted_titles)"
   ]
  },
  {
   "cell_type": "code",
   "execution_count": 203,
   "id": "comparable-freight",
   "metadata": {},
   "outputs": [
    {
     "name": "stdout",
     "output_type": "stream",
     "text": [
      "49888\n"
     ]
    }
   ],
   "source": [
    "docs_all = []\n",
    "for i in range(len(seeds)):\n",
    "    docs_all.append(seeds[i])\n",
    "    \n",
    "for i in range(len(active_titles)):\n",
    "    docs_all.append(active_titles[i])\n",
    "    \n",
    "for i in range(len(deleted_titles)):\n",
    "    docs_all.append(deleted_titles[i])\n",
    "    \n",
    "print(len(docs_all))"
   ]
  },
  {
   "cell_type": "code",
   "execution_count": 204,
   "id": "amber-pierce",
   "metadata": {},
   "outputs": [
    {
     "data": {
      "text/plain": [
       "(49888, 768)"
      ]
     },
     "execution_count": 204,
     "metadata": {},
     "output_type": "execute_result"
    }
   ],
   "source": [
    "vectors = []\n",
    "for i in range(len(docs_all)):\n",
    "    vectors.append(model_s.encode(docs_all[i]))\n",
    "\n",
    "vectors = np.array(vectors)\n",
    "vectors.shape"
   ]
  },
  {
   "cell_type": "code",
   "execution_count": 205,
   "id": "specific-difficulty",
   "metadata": {},
   "outputs": [],
   "source": [
    "np.save('33318_seed_active_del_titles_vectors', vectors)"
   ]
  },
  {
   "cell_type": "code",
   "execution_count": 15,
   "id": "romantic-patch",
   "metadata": {},
   "outputs": [],
   "source": [
    "vectors = np.load('33318_seed_active_del_titles_vectors.npy')"
   ]
  },
  {
   "cell_type": "code",
   "execution_count": null,
   "id": "finished-drilling",
   "metadata": {},
   "outputs": [],
   "source": []
  },
  {
   "cell_type": "code",
   "execution_count": 172,
   "id": "adaptive-arizona",
   "metadata": {},
   "outputs": [
    {
     "data": {
      "text/plain": [
       "'NIC+ZOE Four-Way Cardigan Blue Haze'"
      ]
     },
     "execution_count": 172,
     "metadata": {},
     "output_type": "execute_result"
    }
   ],
   "source": [
    "df_processed['seed'].iloc[4558]"
   ]
  },
  {
   "cell_type": "code",
   "execution_count": 173,
   "id": "saving-passing",
   "metadata": {},
   "outputs": [
    {
     "data": {
      "text/plain": [
       "['NIC+ZOE NIC+ZOE Four-Way Cardigan Blue Haze',\n",
       " 'NIC+ZOE Calm Waters Open Cardigan BLUE HAZE LARGE']"
      ]
     },
     "execution_count": 173,
     "metadata": {},
     "output_type": "execute_result"
    }
   ],
   "source": [
    "df_processed['active_titles'].iloc[4558]"
   ]
  },
  {
   "cell_type": "code",
   "execution_count": null,
   "id": "accessible-needle",
   "metadata": {},
   "outputs": [],
   "source": []
  },
  {
   "cell_type": "code",
   "execution_count": null,
   "id": "weird-status",
   "metadata": {},
   "outputs": [],
   "source": []
  },
  {
   "cell_type": "code",
   "execution_count": 17,
   "id": "antique-elevation",
   "metadata": {},
   "outputs": [],
   "source": [
    "X = vectors"
   ]
  },
  {
   "cell_type": "code",
   "execution_count": 18,
   "id": "express-tennis",
   "metadata": {},
   "outputs": [],
   "source": [
    "X_train, X_test = train_test_split(X, test_size=0.1, random_state=42)"
   ]
  },
  {
   "cell_type": "code",
   "execution_count": 19,
   "id": "mysterious-cameroon",
   "metadata": {},
   "outputs": [
    {
     "name": "stdout",
     "output_type": "stream",
     "text": [
      "(44899, 768)\n",
      "(4989, 768)\n"
     ]
    }
   ],
   "source": [
    "print(X_train.shape)\n",
    "print(X_test.shape)"
   ]
  },
  {
   "cell_type": "code",
   "execution_count": null,
   "id": "religious-orlando",
   "metadata": {},
   "outputs": [],
   "source": []
  },
  {
   "cell_type": "code",
   "execution_count": null,
   "id": "accepting-kentucky",
   "metadata": {},
   "outputs": [],
   "source": []
  },
  {
   "cell_type": "code",
   "execution_count": 259,
   "id": "passing-stranger",
   "metadata": {},
   "outputs": [],
   "source": [
    "emb_dim = 768\n",
    "hidden_layer_1_size = 600\n",
    "hidden_layer_2_size = 500"
   ]
  },
  {
   "cell_type": "code",
   "execution_count": 316,
   "id": "early-apparatus",
   "metadata": {},
   "outputs": [],
   "source": [
    "encoder = Sequential()\n",
    "encoder.add(InputLayer((768,)))\n",
    "encoder.add(InputLayer((emb_dim, ) ))\n",
    "encoder.add(Dense(hidden_layer_1_size, activation='relu'))\n",
    "encoder.add(Dense(hidden_layer_2_size, activation='relu'))\n",
    "\n",
    "decoder = Sequential()\n",
    "decoder.add(InputLayer((hidden_layer_2_size, )))\n",
    "decoder.add(Dense(emb_dim, activation='sigmoid'))"
   ]
  },
  {
   "cell_type": "code",
   "execution_count": 317,
   "id": "caring-specific",
   "metadata": {},
   "outputs": [
    {
     "name": "stdout",
     "output_type": "stream",
     "text": [
      "Model: \"sequential_25\"\n",
      "_________________________________________________________________\n",
      "Layer (type)                 Output Shape              Param #   \n",
      "=================================================================\n",
      "dense_40 (Dense)             (None, 600)               461400    \n",
      "_________________________________________________________________\n",
      "dense_41 (Dense)             (None, 500)               300500    \n",
      "=================================================================\n",
      "Total params: 761,900\n",
      "Trainable params: 761,900\n",
      "Non-trainable params: 0\n",
      "_________________________________________________________________\n"
     ]
    }
   ],
   "source": [
    "encoder.summary()"
   ]
  },
  {
   "cell_type": "code",
   "execution_count": 318,
   "id": "oriented-performance",
   "metadata": {},
   "outputs": [],
   "source": [
    "inp = Input(shape=(emb_dim, ))\n",
    "hidden_layer_2 = encoder(inp)\n",
    "reconstruction = decoder(hidden_layer_2)"
   ]
  },
  {
   "cell_type": "code",
   "execution_count": null,
   "id": "wound-monaco",
   "metadata": {},
   "outputs": [],
   "source": []
  },
  {
   "cell_type": "code",
   "execution_count": 272,
   "id": "ancient-friday",
   "metadata": {},
   "outputs": [],
   "source": [
    "input_emb = keras.Input(shape=(emb_dim,))\n",
    "encoded = layers.Dense(hidden_layer_1_size, activation='relu')(input_emb)\n",
    "encoded = layers.Dense(hidden_layer_2_size, activation='relu')(encoded)\n",
    "\n",
    "decoded = layers.Dense(hidden_layer_1_size, activation='relu')(encoded)\n",
    "decoded = layers.Dense(emb_dim, activation='sigmoid')(decoded)"
   ]
  },
  {
   "cell_type": "code",
   "execution_count": null,
   "id": "brown-affiliation",
   "metadata": {},
   "outputs": [],
   "source": []
  },
  {
   "cell_type": "code",
   "execution_count": 319,
   "id": "conventional-power",
   "metadata": {},
   "outputs": [],
   "source": [
    "autoencoder = keras.Model(inp, reconstruction)"
   ]
  },
  {
   "cell_type": "code",
   "execution_count": 320,
   "id": "palestinian-pizza",
   "metadata": {},
   "outputs": [],
   "source": [
    "autoencoder.compile(optimizer='adam', loss='mse')"
   ]
  },
  {
   "cell_type": "code",
   "execution_count": 321,
   "id": "several-juvenile",
   "metadata": {},
   "outputs": [
    {
     "name": "stdout",
     "output_type": "stream",
     "text": [
      "Model: \"model_9\"\n",
      "_________________________________________________________________\n",
      "Layer (type)                 Output Shape              Param #   \n",
      "=================================================================\n",
      "input_38 (InputLayer)        (None, 768)               0         \n",
      "_________________________________________________________________\n",
      "sequential_25 (Sequential)   (None, 500)               761900    \n",
      "_________________________________________________________________\n",
      "sequential_26 (Sequential)   (None, 768)               384768    \n",
      "=================================================================\n",
      "Total params: 1,146,668\n",
      "Trainable params: 1,146,668\n",
      "Non-trainable params: 0\n",
      "_________________________________________________________________\n",
      "None\n"
     ]
    }
   ],
   "source": [
    "print(autoencoder.summary())"
   ]
  },
  {
   "cell_type": "code",
   "execution_count": 322,
   "id": "preceding-digit",
   "metadata": {},
   "outputs": [
    {
     "name": "stdout",
     "output_type": "stream",
     "text": [
      "Train on 44899 samples, validate on 4989 samples\n",
      "Epoch 1/5\n",
      "44899/44899 [==============================] - 23s 512us/step - loss: 0.0030 - val_loss: 0.0013\n",
      "Epoch 2/5\n",
      "44899/44899 [==============================] - 21s 478us/step - loss: 0.0013 - val_loss: 0.0013\n",
      "Epoch 3/5\n",
      "44899/44899 [==============================] - 22s 483us/step - loss: 0.0013 - val_loss: 0.0013\n",
      "Epoch 4/5\n",
      "44899/44899 [==============================] - 22s 492us/step - loss: 0.0013 - val_loss: 0.0012\n",
      "Epoch 5/5\n",
      "44899/44899 [==============================] - 22s 489us/step - loss: 0.0011 - val_loss: 9.4819e-04\n"
     ]
    }
   ],
   "source": [
    "history = autoencoder.fit(x=X_train, y=X_train, epochs=5, validation_data=[X_test, X_test])"
   ]
  },
  {
   "cell_type": "code",
   "execution_count": 323,
   "id": "similar-aviation",
   "metadata": {},
   "outputs": [
    {
     "data": {
      "image/png": "[encoded data removed]",
      "text/plain": [
       "<Figure size 432x288 with 1 Axes>"
      ]
     },
     "metadata": {
      "needs_background": "light"
     },
     "output_type": "display_data"
    }
   ],
   "source": [
    "plt.plot(history.history['loss'])\n",
    "plt.plot(history.history['val_loss'])\n",
    "plt.title('model loss')\n",
    "plt.ylabel('loss')\n",
    "plt.xlabel('epoch')\n",
    "plt.legend(['train', 'test'], loc='upper left')\n",
    "plt.show()"
   ]
  },
  {
   "cell_type": "code",
   "execution_count": null,
   "id": "different-teach",
   "metadata": {},
   "outputs": [],
   "source": []
  },
  {
   "cell_type": "code",
   "execution_count": null,
   "id": "consolidated-printing",
   "metadata": {},
   "outputs": [],
   "source": []
  },
  {
   "cell_type": "code",
   "execution_count": null,
   "id": "naughty-paintball",
   "metadata": {},
   "outputs": [],
   "source": []
  },
  {
   "cell_type": "code",
   "execution_count": null,
   "id": "gorgeous-organization",
   "metadata": {},
   "outputs": [],
   "source": []
  },
  {
   "cell_type": "code",
   "execution_count": 34,
   "id": "reserved-philippines",
   "metadata": {},
   "outputs": [],
   "source": [
    "### Example checks"
   ]
  },
  {
   "cell_type": "code",
   "execution_count": 25,
   "id": "dental-henry",
   "metadata": {},
   "outputs": [
    {
     "data": {
      "text/plain": [
       "tensor([[0.4579]])"
      ]
     },
     "execution_count": 25,
     "metadata": {},
     "output_type": "execute_result"
    }
   ],
   "source": [
    "emb1 = model_s.encode(\"NIC+ZOE Four-Way Cardigan Blue Haze\")\n",
    "emb2 = model_s.encode(\"Jo Malone London Dark Amber & Ginger Lily Home Candle\")\n",
    "util.cos_sim(emb1, emb2)"
   ]
  },
  {
   "cell_type": "code",
   "execution_count": 104,
   "id": "comfortable-southeast",
   "metadata": {},
   "outputs": [
    {
     "data": {
      "text/plain": [
       "tensor([[0.7694]])"
      ]
     },
     "execution_count": 104,
     "metadata": {},
     "output_type": "execute_result"
    }
   ],
   "source": [
    "emb1 = model_s.encode(\"NIC+ZOE Four-Way Cardigan Blue Haze\")\n",
    "emb2 = model_s.encode(\"NIC+ZOE Calm Waters Open Cardigan BLUE HAZE LARGE\")\n",
    "util.cos_sim(emb1, emb2)"
   ]
  },
  {
   "cell_type": "code",
   "execution_count": 331,
   "id": "latter-norway",
   "metadata": {},
   "outputs": [],
   "source": [
    "encoded_1 = encoder.predict(emb1[None])[0]\n",
    "reco_1 = decoder.predict(encoded_1[None])[0]"
   ]
  },
  {
   "cell_type": "code",
   "execution_count": 332,
   "id": "dominican-candidate",
   "metadata": {},
   "outputs": [],
   "source": [
    "encoded_2 = encoder.predict(emb2[None])[0]\n",
    "reco_2 = decoder.predict(encoded_2[None])[0]"
   ]
  },
  {
   "cell_type": "code",
   "execution_count": 333,
   "id": "medical-stage",
   "metadata": {},
   "outputs": [
    {
     "name": "stdout",
     "output_type": "stream",
     "text": [
      "(768,) (500,)\n"
     ]
    }
   ],
   "source": [
    "print(emb1.shape, encoded_1.shape)"
   ]
  },
  {
   "cell_type": "code",
   "execution_count": 334,
   "id": "sufficient-journalist",
   "metadata": {},
   "outputs": [
    {
     "data": {
      "text/plain": [
       "tensor([[0.9888]])"
      ]
     },
     "execution_count": 334,
     "metadata": {},
     "output_type": "execute_result"
    }
   ],
   "source": [
    "util.cos_sim(encoded_1, encoded_2)"
   ]
  },
  {
   "cell_type": "code",
   "execution_count": 335,
   "id": "brief-latest",
   "metadata": {},
   "outputs": [
    {
     "data": {
      "text/plain": [
       "tensor([[0.9318]])"
      ]
     },
     "execution_count": 335,
     "metadata": {},
     "output_type": "execute_result"
    }
   ],
   "source": [
    "util.cos_sim(reco_1, reco_2)"
   ]
  },
  {
   "cell_type": "code",
   "execution_count": null,
   "id": "apart-triple",
   "metadata": {},
   "outputs": [],
   "source": []
  },
  {
   "cell_type": "code",
   "execution_count": null,
   "id": "located-morocco",
   "metadata": {},
   "outputs": [],
   "source": []
  },
  {
   "cell_type": "markdown",
   "id": "european-product",
   "metadata": {},
   "source": [
    "### new try - Architecture 1"
   ]
  },
  {
   "cell_type": "code",
   "execution_count": 66,
   "id": "wired-florence",
   "metadata": {},
   "outputs": [],
   "source": [
    "emb_dim = 768\n",
    "hidden_layer_1_size = 600\n",
    "hidden_layer_2_size = 500"
   ]
  },
  {
   "cell_type": "code",
   "execution_count": 78,
   "id": "printable-birthday",
   "metadata": {},
   "outputs": [
    {
     "name": "stdout",
     "output_type": "stream",
     "text": [
      "WARNING:tensorflow:From C:\\Users\\Akshay\\.conda\\envs\\pytorchenv\\lib\\site-packages\\tensorflow\\python\\ops\\nn_impl.py:180: add_dispatch_support.<locals>.wrapper (from tensorflow.python.ops.array_ops) is deprecated and will be removed in a future version.\n",
      "Instructions for updating:\n",
      "Use tf.where in 2.0, which has the same broadcast rule as np.where\n"
     ]
    }
   ],
   "source": [
    "input_emb = Input(shape=(emb_dim,))\n",
    "hidden_1 = Dense(hidden_layer_1_size, activation='relu')(input_emb)\n",
    "latent = Dense(hidden_layer_2_size, activation='relu')(hidden_1)\n",
    "hidden_2 = Dense(hidden_layer_1_size, activation='relu')(latent)\n",
    "output_emb = Dense(emb_dim, activation='sigmoid')(hidden_2)\n",
    "\n",
    "autoencoder = Model(input_emb, output_emb)\n",
    "autoencoder.compile(optimizer='adamax', loss='binary_crossentropy')"
   ]
  },
  {
   "cell_type": "code",
   "execution_count": 79,
   "id": "sitting-character",
   "metadata": {},
   "outputs": [
    {
     "name": "stdout",
     "output_type": "stream",
     "text": [
      "Model: \"model_3\"\n",
      "_________________________________________________________________\n",
      "Layer (type)                 Output Shape              Param #   \n",
      "=================================================================\n",
      "input_3 (InputLayer)         (None, 768)               0         \n",
      "_________________________________________________________________\n",
      "dense_9 (Dense)              (None, 600)               461400    \n",
      "_________________________________________________________________\n",
      "dense_10 (Dense)             (None, 500)               300500    \n",
      "_________________________________________________________________\n",
      "dense_11 (Dense)             (None, 600)               300600    \n",
      "_________________________________________________________________\n",
      "dense_12 (Dense)             (None, 768)               461568    \n",
      "=================================================================\n",
      "Total params: 1,524,068\n",
      "Trainable params: 1,524,068\n",
      "Non-trainable params: 0\n",
      "_________________________________________________________________\n"
     ]
    }
   ],
   "source": [
    "autoencoder.summary()"
   ]
  },
  {
   "cell_type": "code",
   "execution_count": 80,
   "id": "recovered-colors",
   "metadata": {},
   "outputs": [
    {
     "name": "stdout",
     "output_type": "stream",
     "text": [
      "Train on 44899 samples, validate on 4989 samples\n",
      "Epoch 1/5\n",
      "44899/44899 [==============================] - 40s 902us/step - loss: -36816158.6603 - val_loss: -193889060.6727\n",
      "Epoch 2/5\n",
      "44899/44899 [==============================] - 40s 883us/step - loss: -1271813019.9012 - val_loss: -3344602076.2349\n",
      "Epoch 3/5\n",
      "44899/44899 [==============================] - 41s 909us/step - loss: -8801266476.9920 - val_loss: -17006297471.4099\n",
      "Epoch 4/5\n",
      "44899/44899 [==============================] - 40s 895us/step - loss: -32965200905.2823 - val_loss: -54307581134.2778\n",
      "Epoch 5/5\n",
      "44899/44899 [==============================] - 40s 889us/step - loss: -89088522443.0256 - val_loss: -132817257709.0656\n"
     ]
    }
   ],
   "source": [
    "history = autoencoder.fit(x=X_train, y=X_train, epochs=5, validation_data=[X_test, X_test])"
   ]
  },
  {
   "cell_type": "code",
   "execution_count": 81,
   "id": "published-thickness",
   "metadata": {
    "scrolled": true
   },
   "outputs": [
    {
     "data": {
      "image/png": "[encoded data removed]",
      "text/plain": [
       "<Figure size 432x288 with 1 Axes>"
      ]
     },
     "metadata": {
      "needs_background": "light"
     },
     "output_type": "display_data"
    }
   ],
   "source": [
    "plt.plot(history.history['loss'])\n",
    "plt.plot(history.history['val_loss'])\n",
    "plt.title('model loss')\n",
    "plt.ylabel('loss')\n",
    "plt.xlabel('epoch')\n",
    "plt.legend(['train', 'test'], loc='upper left')\n",
    "plt.show()"
   ]
  },
  {
   "cell_type": "code",
   "execution_count": 426,
   "id": "exceptional-keyboard",
   "metadata": {},
   "outputs": [],
   "source": [
    "encoder = Sequential()\n",
    "encoder.add(InputLayer((emb_dim, )))\n",
    "encoder.add(Dense(hidden_layer_1_size, activation='relu'))\n",
    "encoder.add(Dense(hidden_layer_2_size, activation='linear'))\n",
    "\n",
    "decoder = Sequential()\n",
    "decoder.add(InputLayer((hidden_layer_2_size, )))\n",
    "decoder.add(Dense(hidden_layer_1_size, activation='relu'))\n",
    "decoder.add(Dense(emb_dim, activation='linear')) "
   ]
  },
  {
   "cell_type": "code",
   "execution_count": 427,
   "id": "regulation-allowance",
   "metadata": {},
   "outputs": [
    {
     "name": "stdout",
     "output_type": "stream",
     "text": [
      "Model: \"model_17\"\n",
      "_________________________________________________________________\n",
      "Layer (type)                 Output Shape              Param #   \n",
      "=================================================================\n",
      "input_45 (InputLayer)        (None, 768)               0         \n",
      "_________________________________________________________________\n",
      "sequential_27 (Sequential)   (None, 500)               761900    \n",
      "_________________________________________________________________\n",
      "sequential_28 (Sequential)   (None, 768)               762168    \n",
      "=================================================================\n",
      "Total params: 1,524,068\n",
      "Trainable params: 1,524,068\n",
      "Non-trainable params: 0\n",
      "_________________________________________________________________\n"
     ]
    }
   ],
   "source": [
    "inp = Input((emb_dim, ))\n",
    "code = encoder(inp)\n",
    "reconstruction = decoder(code)\n",
    "\n",
    "autoencoder_1 = Model(inp, reconstruction)\n",
    "autoencoder_1.compile(optimizer='adam', loss='cosine_similarity')\n",
    "\n",
    "autoencoder_1.summary()"
   ]
  },
  {
   "cell_type": "code",
   "execution_count": 428,
   "id": "confused-moisture",
   "metadata": {},
   "outputs": [
    {
     "name": "stdout",
     "output_type": "stream",
     "text": [
      "Train on 44899 samples, validate on 4989 samples\n",
      "Epoch 1/10\n",
      "44899/44899 [==============================] - 32s 721us/step - loss: -0.9198 - val_loss: -0.9618\n",
      "Epoch 2/10\n",
      "44899/44899 [==============================] - 31s 681us/step - loss: -0.9755 - val_loss: -0.9762\n",
      "Epoch 3/10\n",
      "44899/44899 [==============================] - 30s 677us/step - loss: -0.9815 - val_loss: -0.9791\n",
      "Epoch 4/10\n",
      "44899/44899 [==============================] - 32s 716us/step - loss: -0.9843 - val_loss: -0.9820\n",
      "Epoch 5/10\n",
      "44899/44899 [==============================] - 32s 707us/step - loss: -0.9859 - val_loss: -0.9812\n",
      "Epoch 6/10\n",
      "44899/44899 [==============================] - 34s 763us/step - loss: -0.9870 - val_loss: -0.9844\n",
      "Epoch 7/10\n",
      "44899/44899 [==============================] - 36s 797us/step - loss: -0.9879 - val_loss: -0.9848\n",
      "Epoch 8/10\n",
      "44899/44899 [==============================] - 38s 856us/step - loss: -0.9886 - val_loss: -0.9863\n",
      "Epoch 9/10\n",
      "44899/44899 [==============================] - 38s 854us/step - loss: -0.9891 - val_loss: -0.9878\n",
      "Epoch 10/10\n",
      "44899/44899 [==============================] - 38s 855us/step - loss: -0.9896 - val_loss: -0.9873\n"
     ]
    }
   ],
   "source": [
    "history = autoencoder_1.fit(x=X_train, y=X_train, epochs=10, validation_data=[X_test, X_test])"
   ]
  },
  {
   "cell_type": "code",
   "execution_count": 429,
   "id": "collect-celtic",
   "metadata": {},
   "outputs": [
    {
     "data": {
      "image/png": "[encoded data removed]",
      "text/plain": [
       "<Figure size 432x288 with 1 Axes>"
      ]
     },
     "metadata": {
      "needs_background": "light"
     },
     "output_type": "display_data"
    }
   ],
   "source": [
    "plt.plot(history.history['loss'])\n",
    "plt.plot(history.history['val_loss'])\n",
    "plt.title('model loss')\n",
    "plt.ylabel('loss')\n",
    "plt.xlabel('epoch')\n",
    "plt.legend(['train', 'test'], loc='upper left')\n",
    "plt.show()"
   ]
  },
  {
   "cell_type": "code",
   "execution_count": null,
   "id": "unlikely-christopher",
   "metadata": {},
   "outputs": [],
   "source": []
  },
  {
   "cell_type": "code",
   "execution_count": 444,
   "id": "perfect-spanish",
   "metadata": {},
   "outputs": [
    {
     "data": {
      "text/plain": [
       "tensor([[0.9257]])"
      ]
     },
     "execution_count": 444,
     "metadata": {},
     "output_type": "execute_result"
    }
   ],
   "source": [
    "emb1 = model_s.encode(\"Nike running shoes compact and smooth 5 X size\")\n",
    "emb2 = model_s.encode(\"Nike running shoes compact and smooth 7 X size\")\n",
    "util.cos_sim(emb1, emb2)"
   ]
  },
  {
   "cell_type": "code",
   "execution_count": 437,
   "id": "partial-popularity",
   "metadata": {},
   "outputs": [
    {
     "data": {
      "text/plain": [
       "tensor([[0.4579]])"
      ]
     },
     "execution_count": 437,
     "metadata": {},
     "output_type": "execute_result"
    }
   ],
   "source": [
    "emb1 = model_s.encode(\"NIC+ZOE Four-Way Cardigan Blue Haze\")\n",
    "emb2 = model_s.encode(\"Jo Malone London Dark Amber & Ginger Lily Home Candle\")\n",
    "util.cos_sim(emb1, emb2)"
   ]
  },
  {
   "cell_type": "code",
   "execution_count": 430,
   "id": "constitutional-soviet",
   "metadata": {},
   "outputs": [
    {
     "data": {
      "text/plain": [
       "tensor([[0.7694]])"
      ]
     },
     "execution_count": 430,
     "metadata": {},
     "output_type": "execute_result"
    }
   ],
   "source": [
    "emb1 = model_s.encode(\"NIC+ZOE Four-Way Cardigan Blue Haze\")\n",
    "emb2 = model_s.encode(\"NIC+ZOE Calm Waters Open Cardigan BLUE HAZE LARGE\")\n",
    "util.cos_sim(emb1, emb2)"
   ]
  },
  {
   "cell_type": "code",
   "execution_count": null,
   "id": "accompanied-progressive",
   "metadata": {},
   "outputs": [],
   "source": []
  },
  {
   "cell_type": "code",
   "execution_count": 445,
   "id": "universal-journalist",
   "metadata": {},
   "outputs": [
    {
     "data": {
      "text/plain": [
       "(2, 768)"
      ]
     },
     "execution_count": 445,
     "metadata": {},
     "output_type": "execute_result"
    }
   ],
   "source": [
    "test_t = np.vstack((emb1, emb2))\n",
    "test_t.shape"
   ]
  },
  {
   "cell_type": "code",
   "execution_count": 446,
   "id": "clear-prison",
   "metadata": {},
   "outputs": [
    {
     "name": "stdout",
     "output_type": "stream",
     "text": [
      "(500,) (768,)\n"
     ]
    }
   ],
   "source": [
    "code_1 = encoder.predict(emb1[None])[0]\n",
    "reco_1 = decoder.predict(code_1[None])[0]\n",
    "print(code_1.shape, reco_1.shape)"
   ]
  },
  {
   "cell_type": "code",
   "execution_count": 447,
   "id": "related-verification",
   "metadata": {},
   "outputs": [
    {
     "name": "stdout",
     "output_type": "stream",
     "text": [
      "(500,) (768,)\n"
     ]
    }
   ],
   "source": [
    "code_2 = encoder.predict(emb2[None])[0]\n",
    "reco_2 = decoder.predict(code_2[None])[0]\n",
    "print(code_2.shape, reco_2.shape)"
   ]
  },
  {
   "cell_type": "code",
   "execution_count": 448,
   "id": "cellular-tunnel",
   "metadata": {},
   "outputs": [
    {
     "name": "stdout",
     "output_type": "stream",
     "text": [
      "tensor([[0.9811]])\n",
      "tensor([[0.9808]])\n"
     ]
    }
   ],
   "source": [
    "print(util.cos_sim(reco_1, emb1))\n",
    "print(util.cos_sim(reco_2, emb2))"
   ]
  },
  {
   "cell_type": "code",
   "execution_count": 449,
   "id": "sonic-diving",
   "metadata": {},
   "outputs": [
    {
     "data": {
      "text/plain": [
       "tensor([[0.9278]])"
      ]
     },
     "execution_count": 449,
     "metadata": {},
     "output_type": "execute_result"
    }
   ],
   "source": [
    "util.cos_sim(reco_1, reco_2)"
   ]
  },
  {
   "cell_type": "code",
   "execution_count": 450,
   "id": "neither-appointment",
   "metadata": {},
   "outputs": [
    {
     "data": {
      "text/plain": [
       "tensor([[0.9206]])"
      ]
     },
     "execution_count": 450,
     "metadata": {},
     "output_type": "execute_result"
    }
   ],
   "source": [
    "util.cos_sim(code_1, code_2)"
   ]
  },
  {
   "cell_type": "code",
   "execution_count": null,
   "id": "organizational-synthesis",
   "metadata": {},
   "outputs": [],
   "source": []
  },
  {
   "cell_type": "code",
   "execution_count": null,
   "id": "basic-irrigation",
   "metadata": {},
   "outputs": [],
   "source": []
  },
  {
   "cell_type": "code",
   "execution_count": 326,
   "id": "coupled-creativity",
   "metadata": {},
   "outputs": [
    {
     "data": {
      "text/plain": [
       "tensor([[0.6439]])"
      ]
     },
     "execution_count": 326,
     "metadata": {},
     "output_type": "execute_result"
    }
   ],
   "source": [
    "res = autoencoder_1.predict(test_t)\n",
    "util.cos_sim(res[0], res[1])"
   ]
  },
  {
   "cell_type": "code",
   "execution_count": 357,
   "id": "anticipated-tension",
   "metadata": {},
   "outputs": [],
   "source": [
    "autoencoder_1.save('models/autoencoder_best')\n",
    "encoder.save('models/encoder_best')\n",
    "decoder.save('models/decoder_best')"
   ]
  },
  {
   "cell_type": "code",
   "execution_count": null,
   "id": "fatal-agent",
   "metadata": {},
   "outputs": [],
   "source": [
    "encoder = keras.models.load_model('models/encoder_best')\n",
    "decoder = keras.models.load_model('models/decoder_best')\n",
    "autoencoder_1 = keras.models.load_model('models/autoencoder_best')"
   ]
  },
  {
   "cell_type": "markdown",
   "id": "thirty-contributor",
   "metadata": {},
   "source": [
    "### Architecture - 2"
   ]
  },
  {
   "cell_type": "code",
   "execution_count": 497,
   "id": "ethical-tyler",
   "metadata": {},
   "outputs": [],
   "source": [
    "emb_dim = 768\n",
    "hidden_layer_1_size = 700\n",
    "hidden_layer_2_size = 600"
   ]
  },
  {
   "cell_type": "code",
   "execution_count": 498,
   "id": "direct-explanation",
   "metadata": {},
   "outputs": [],
   "source": [
    "encoder = Sequential()\n",
    "encoder.add(InputLayer((emb_dim, )))\n",
    "encoder.add(Dense(hidden_layer_1_size, activation='relu'))\n",
    "encoder.add(Dense(hidden_layer_2_size, activation='linear'))\n",
    "\n",
    "decoder = Sequential()\n",
    "decoder.add(InputLayer((hidden_layer_2_size, )))\n",
    "decoder.add(Dense(hidden_layer_1_size, activation='relu'))\n",
    "decoder.add(Dense(emb_dim, activation='linear')) "
   ]
  },
  {
   "cell_type": "code",
   "execution_count": 499,
   "id": "equal-violence",
   "metadata": {},
   "outputs": [
    {
     "name": "stdout",
     "output_type": "stream",
     "text": [
      "Model: \"model_20\"\n",
      "_________________________________________________________________\n",
      "Layer (type)                 Output Shape              Param #   \n",
      "=================================================================\n",
      "input_54 (InputLayer)        (None, 768)               0         \n",
      "_________________________________________________________________\n",
      "sequential_33 (Sequential)   (None, 600)               958900    \n",
      "_________________________________________________________________\n",
      "sequential_34 (Sequential)   (None, 768)               959068    \n",
      "=================================================================\n",
      "Total params: 1,917,968\n",
      "Trainable params: 1,917,968\n",
      "Non-trainable params: 0\n",
      "_________________________________________________________________\n"
     ]
    }
   ],
   "source": [
    "inp = Input((emb_dim, ))\n",
    "code = encoder(inp)\n",
    "reconstruction = decoder(code)\n",
    "\n",
    "autoencoder_1 = Model(inp, reconstruction)\n",
    "autoencoder_1.compile(optimizer='adam', loss='cosine_similarity')\n",
    "\n",
    "autoencoder_1.summary()"
   ]
  },
  {
   "cell_type": "code",
   "execution_count": 500,
   "id": "figured-cycling",
   "metadata": {},
   "outputs": [
    {
     "name": "stdout",
     "output_type": "stream",
     "text": [
      "Train on 44899 samples, validate on 4989 samples\n",
      "Epoch 1/10\n",
      "44899/44899 [==============================] - 56s 1ms/step - loss: -0.9033 - val_loss: -0.9537\n",
      "Epoch 2/10\n",
      "44899/44899 [==============================] - 54s 1ms/step - loss: -0.9664 - val_loss: -0.9657\n",
      "Epoch 3/10\n",
      "44899/44899 [==============================] - 54s 1ms/step - loss: -0.9743 - val_loss: -0.9739\n",
      "Epoch 4/10\n",
      "44899/44899 [==============================] - 55s 1ms/step - loss: -0.9779 - val_loss: -0.9728\n",
      "Epoch 5/10\n",
      "44899/44899 [==============================] - 55s 1ms/step - loss: -0.9801 - val_loss: -0.9786\n",
      "Epoch 6/10\n",
      "44899/44899 [==============================] - 54s 1ms/step - loss: -0.9817 - val_loss: -0.9769\n",
      "Epoch 7/10\n",
      "44899/44899 [==============================] - 54s 1ms/step - loss: -0.9827 - val_loss: -0.9782\n",
      "Epoch 8/10\n",
      "44899/44899 [==============================] - 54s 1ms/step - loss: -0.9835 - val_loss: -0.9800\n",
      "Epoch 9/10\n",
      "44899/44899 [==============================] - 55s 1ms/step - loss: -0.9842 - val_loss: -0.9809\n",
      "Epoch 10/10\n",
      "44899/44899 [==============================] - 54s 1ms/step - loss: -0.9848 - val_loss: -0.9844\n"
     ]
    }
   ],
   "source": [
    "history = autoencoder_1.fit(x=X_train, y=X_train, epochs=10, validation_data=[X_test, X_test])"
   ]
  },
  {
   "cell_type": "code",
   "execution_count": 501,
   "id": "committed-mexico",
   "metadata": {},
   "outputs": [
    {
     "data": {
      "image/png": "[encoded data removed]",
      "text/plain": [
       "<Figure size 432x288 with 1 Axes>"
      ]
     },
     "metadata": {
      "needs_background": "light"
     },
     "output_type": "display_data"
    }
   ],
   "source": [
    "plt.plot(history.history['loss'])\n",
    "plt.plot(history.history['val_loss'])\n",
    "plt.title('model loss')\n",
    "plt.ylabel('loss')\n",
    "plt.xlabel('epoch')\n",
    "plt.legend(['train', 'test'], loc='upper left')\n",
    "plt.show()"
   ]
  },
  {
   "cell_type": "code",
   "execution_count": 502,
   "id": "electrical-poetry",
   "metadata": {},
   "outputs": [
    {
     "data": {
      "text/plain": [
       "tensor([[0.9257]])"
      ]
     },
     "execution_count": 502,
     "metadata": {},
     "output_type": "execute_result"
    }
   ],
   "source": [
    "emb1 = model_s.encode(\"Nike running shoes compact and smooth 5 X size\")\n",
    "emb2 = model_s.encode(\"Nike running shoes compact and smooth 7 X size\")\n",
    "util.cos_sim(emb1, emb2)"
   ]
  },
  {
   "cell_type": "code",
   "execution_count": 508,
   "id": "japanese-grant",
   "metadata": {},
   "outputs": [
    {
     "data": {
      "text/plain": [
       "tensor([[0.4579]])"
      ]
     },
     "execution_count": 508,
     "metadata": {},
     "output_type": "execute_result"
    }
   ],
   "source": [
    "emb1 = model_s.encode(\"NIC+ZOE Four-Way Cardigan Blue Haze\")\n",
    "emb2 = model_s.encode(\"Jo Malone London Dark Amber & Ginger Lily Home Candle\")\n",
    "util.cos_sim(emb1, emb2)"
   ]
  },
  {
   "cell_type": "code",
   "execution_count": 514,
   "id": "complete-inspection",
   "metadata": {},
   "outputs": [
    {
     "data": {
      "text/plain": [
       "tensor([[0.7694]])"
      ]
     },
     "execution_count": 514,
     "metadata": {},
     "output_type": "execute_result"
    }
   ],
   "source": [
    "emb1 = model_s.encode(\"NIC+ZOE Four-Way Cardigan Blue Haze\")\n",
    "emb2 = model_s.encode(\"NIC+ZOE Calm Waters Open Cardigan BLUE HAZE LARGE\")\n",
    "util.cos_sim(emb1, emb2)"
   ]
  },
  {
   "cell_type": "code",
   "execution_count": 515,
   "id": "tracked-cornell",
   "metadata": {},
   "outputs": [
    {
     "data": {
      "text/plain": [
       "(2, 768)"
      ]
     },
     "execution_count": 515,
     "metadata": {},
     "output_type": "execute_result"
    }
   ],
   "source": [
    "test_t = np.vstack((emb1, emb2))\n",
    "test_t.shape"
   ]
  },
  {
   "cell_type": "code",
   "execution_count": 516,
   "id": "twelve-island",
   "metadata": {},
   "outputs": [
    {
     "name": "stdout",
     "output_type": "stream",
     "text": [
      "(600,) (768,)\n",
      "(600,) (768,)\n"
     ]
    }
   ],
   "source": [
    "code_1 = encoder.predict(emb1[None])[0]\n",
    "reco_1 = decoder.predict(code_1[None])[0]\n",
    "print(code_1.shape, reco_1.shape) \n",
    "\n",
    "code_2 = encoder.predict(emb2[None])[0]\n",
    "reco_2 = decoder.predict(code_2[None])[0]\n",
    "print(code_2.shape, reco_2.shape)"
   ]
  },
  {
   "cell_type": "code",
   "execution_count": 517,
   "id": "shared-commission",
   "metadata": {},
   "outputs": [
    {
     "name": "stdout",
     "output_type": "stream",
     "text": [
      "tensor([[0.9829]])\n",
      "tensor([[0.9863]])\n"
     ]
    }
   ],
   "source": [
    "print(util.cos_sim(reco_1, emb1))\n",
    "print(util.cos_sim(reco_2, emb2))"
   ]
  },
  {
   "cell_type": "code",
   "execution_count": 518,
   "id": "material-european",
   "metadata": {},
   "outputs": [
    {
     "data": {
      "text/plain": [
       "tensor([[0.7878]])"
      ]
     },
     "execution_count": 518,
     "metadata": {},
     "output_type": "execute_result"
    }
   ],
   "source": [
    "util.cos_sim(reco_1, reco_2)"
   ]
  },
  {
   "cell_type": "code",
   "execution_count": 519,
   "id": "referenced-things",
   "metadata": {},
   "outputs": [
    {
     "data": {
      "text/plain": [
       "tensor([[0.9467]])"
      ]
     },
     "execution_count": 519,
     "metadata": {},
     "output_type": "execute_result"
    }
   ],
   "source": [
    "util.cos_sim(code_1, code_2)"
   ]
  },
  {
   "cell_type": "code",
   "execution_count": null,
   "id": "national-queensland",
   "metadata": {},
   "outputs": [],
   "source": []
  },
  {
   "cell_type": "code",
   "execution_count": null,
   "id": "pressing-louisville",
   "metadata": {},
   "outputs": [],
   "source": []
  }
 ],
 "metadata": {
  "kernelspec": {
   "display_name": "Python 3",
   "language": "python",
   "name": "python3"
  },
  "language_info": {
   "codemirror_mode": {
    "name": "ipython",
    "version": 3
   },
   "file_extension": ".py",
   "mimetype": "text/x-python",
   "name": "python",
   "nbconvert_exporter": "python",
   "pygments_lexer": "ipython3",
   "version": "3.7.3"
  }
 },
 "nbformat": 4,
 "nbformat_minor": 5
}
